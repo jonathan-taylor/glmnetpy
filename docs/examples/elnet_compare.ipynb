{
 "cells": [
  {
   "cell_type": "code",
   "execution_count": 1,
   "id": "dc49a0eb-eb0b-4752-ab2d-f0b9a025851e",
   "metadata": {},
   "outputs": [],
   "source": [
    "import rpy2\n",
    "%load_ext rpy2.ipython\n",
    "\n",
    "import numpy as np\n",
    "from glmnet.glmnet import RegGLM\n",
    "rng = np.random.default_rng(0)"
   ]
  },
  {
   "cell_type": "code",
   "execution_count": 2,
   "id": "bb1965ac-8dbf-478e-8782-c88683a87f4d",
   "metadata": {},
   "outputs": [],
   "source": [
    "n, p = 1000, 50\n",
    "X = rng.standard_normal((n, p))\n",
    "beta = np.zeros(p)\n",
    "beta[:2] = [1,2]\n",
    "y = rng.standard_normal(n) + X @ beta\n",
    "W = np.ones(n) # rng.uniform(1, 2, size=(n,))"
   ]
  },
  {
   "cell_type": "code",
   "execution_count": 3,
   "id": "d7c30c2d-86b0-4c28-85d5-08ce912a255a",
   "metadata": {},
   "outputs": [
    {
     "data": {
      "text/plain": [
       "Loading required package: Matrix\n",
       "Loaded glmnet 4.1-7\n"
      ]
     },
     "metadata": {},
     "output_type": "display_data"
    }
   ],
   "source": [
    "%%R -i X,y,W,n,p -o coef_,intercept_\n",
    "library(glmnet)\n",
    "G = glmnet(X, y, standardize=FALSE, intercept=TRUE, weights=W)\n",
    "B = predict(G, s=2 / sqrt(n), type='coef', exact=TRUE, x=X, y=y, weights=W)\n",
    "coef_ = B[2:(p+1)]\n",
    "intercept_ = B[1]"
   ]
  },
  {
   "cell_type": "code",
   "execution_count": 4,
   "id": "f71dfa1b-b897-41bf-a9df-428e715ff087",
   "metadata": {},
   "outputs": [
    {
     "data": {
      "text/plain": [
       "array([ 8.96664353e-01,  1.90821670e+00,  0.00000000e+00,  0.00000000e+00,\n",
       "        0.00000000e+00,  0.00000000e+00,  0.00000000e+00,  0.00000000e+00,\n",
       "        0.00000000e+00,  0.00000000e+00,  0.00000000e+00,  0.00000000e+00,\n",
       "        0.00000000e+00,  0.00000000e+00,  0.00000000e+00,  0.00000000e+00,\n",
       "        0.00000000e+00,  0.00000000e+00,  0.00000000e+00,  0.00000000e+00,\n",
       "        0.00000000e+00,  0.00000000e+00,  0.00000000e+00,  0.00000000e+00,\n",
       "        0.00000000e+00,  0.00000000e+00,  0.00000000e+00,  0.00000000e+00,\n",
       "        0.00000000e+00,  0.00000000e+00,  0.00000000e+00,  0.00000000e+00,\n",
       "       -8.75543063e-04,  0.00000000e+00,  0.00000000e+00,  1.84666823e-02,\n",
       "        0.00000000e+00,  0.00000000e+00,  0.00000000e+00,  0.00000000e+00,\n",
       "        0.00000000e+00,  0.00000000e+00,  0.00000000e+00,  0.00000000e+00,\n",
       "        0.00000000e+00,  0.00000000e+00,  0.00000000e+00,  0.00000000e+00,\n",
       "        0.00000000e+00,  0.00000000e+00])"
      ]
     },
     "execution_count": 4,
     "metadata": {},
     "output_type": "execute_result"
    }
   ],
   "source": [
    "coef_"
   ]
  },
  {
   "cell_type": "code",
   "execution_count": 7,
   "id": "48a24021-8ee3-4749-8495-87f481eb2232",
   "metadata": {},
   "outputs": [
    {
     "data": {
      "text/plain": [
       "array([ 8.96664354e-01,  1.90821670e+00,  0.00000000e+00,  0.00000000e+00,\n",
       "        0.00000000e+00,  0.00000000e+00,  0.00000000e+00,  0.00000000e+00,\n",
       "        0.00000000e+00,  0.00000000e+00,  0.00000000e+00,  0.00000000e+00,\n",
       "        0.00000000e+00,  0.00000000e+00,  0.00000000e+00,  0.00000000e+00,\n",
       "        0.00000000e+00,  0.00000000e+00,  0.00000000e+00,  0.00000000e+00,\n",
       "        0.00000000e+00,  0.00000000e+00,  0.00000000e+00,  0.00000000e+00,\n",
       "        0.00000000e+00,  0.00000000e+00,  0.00000000e+00,  0.00000000e+00,\n",
       "        0.00000000e+00,  0.00000000e+00,  0.00000000e+00,  0.00000000e+00,\n",
       "       -8.75543163e-04,  0.00000000e+00,  0.00000000e+00,  1.84666824e-02,\n",
       "        0.00000000e+00,  0.00000000e+00,  0.00000000e+00,  0.00000000e+00,\n",
       "        0.00000000e+00,  0.00000000e+00,  0.00000000e+00,  0.00000000e+00,\n",
       "        0.00000000e+00,  0.00000000e+00,  0.00000000e+00,  0.00000000e+00,\n",
       "        0.00000000e+00,  0.00000000e+00])"
      ]
     },
     "execution_count": 7,
     "metadata": {},
     "output_type": "execute_result"
    }
   ],
   "source": [
    "G = RegGLM(lambda_val=2 / np.sqrt(n), standardize=False, fit_intercept=True)\n",
    "G.fit(X, y, sample_weight=W)\n",
    "G.coef_"
   ]
  },
  {
   "cell_type": "code",
   "execution_count": 8,
   "id": "867df277-0ffe-4825-a454-058bc6a98088",
   "metadata": {},
   "outputs": [],
   "source": [
    "np.testing.assert_allclose(G.intercept_, intercept_)"
   ]
  },
  {
   "cell_type": "code",
   "execution_count": 11,
   "id": "e5915534-7a86-4036-8b89-dd97d09e326d",
   "metadata": {},
   "outputs": [],
   "source": [
    "np.testing.assert_allclose(G.coef_, coef_, rtol=1e-5, atol=1e-5)"
   ]
  },
  {
   "cell_type": "code",
   "execution_count": 12,
   "id": "de66e622-832d-47a4-b5bf-3b6024391e87",
   "metadata": {},
   "outputs": [
    {
     "data": {
      "text/plain": [
       "{'fit_time': array([0.01464605, 0.00067592, 0.00067091, 0.0005672 , 0.00055385]),\n",
       " 'score_time': array([2.57492065e-05, 2.09808350e-05, 2.02655792e-05, 1.97887421e-05,\n",
       "        1.90734863e-05]),\n",
       " 'test_score': array([-114.34899496, -102.4599904 ,  -94.61822674,  -84.92798059,\n",
       "        -115.13325371])}"
      ]
     },
     "execution_count": 12,
     "metadata": {},
     "output_type": "execute_result"
    }
   ],
   "source": [
    "from sklearn.model_selection import cross_validate\n",
    "cross_validate(G, X, y, cv=5)"
   ]
  },
  {
   "cell_type": "code",
   "execution_count": null,
   "id": "b2fe3c55-3c0e-4a44-ae67-932794fb60a1",
   "metadata": {},
   "outputs": [],
   "source": []
  }
 ],
 "metadata": {
  "kernelspec": {
   "display_name": "Python 3 (ipykernel)",
   "language": "python",
   "name": "python3"
  },
  "language_info": {
   "codemirror_mode": {
    "name": "ipython",
    "version": 3
   },
   "file_extension": ".py",
   "mimetype": "text/x-python",
   "name": "python",
   "nbconvert_exporter": "python",
   "pygments_lexer": "ipython3",
   "version": "3.10.12"
  }
 },
 "nbformat": 4,
 "nbformat_minor": 5
}

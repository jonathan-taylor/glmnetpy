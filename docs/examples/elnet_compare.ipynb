{
 "cells": [
  {
   "cell_type": "code",
   "execution_count": 17,
   "id": "dc49a0eb-eb0b-4752-ab2d-f0b9a025851e",
   "metadata": {},
   "outputs": [
    {
     "name": "stdout",
     "output_type": "stream",
     "text": [
      "The rpy2.ipython extension is already loaded. To reload it, use:\n",
      "  %reload_ext rpy2.ipython\n"
     ]
    }
   ],
   "source": [
    "import rpy2\n",
    "%load_ext rpy2.ipython\n",
    "\n",
    "import numpy as np\n",
    "from glmnet.glmnet import GLMNetEstimator\n",
    "rng = np.random.default_rng(0)"
   ]
  },
  {
   "cell_type": "code",
   "execution_count": 49,
   "id": "bb1965ac-8dbf-478e-8782-c88683a87f4d",
   "metadata": {},
   "outputs": [],
   "source": [
    "n, p = 1000, 50\n",
    "X = rng.standard_normal((n, p))\n",
    "beta = np.zeros(p)\n",
    "beta[:2] = [1,2]\n",
    "y = rng.standard_normal(n) + X @ beta\n",
    "W = np.ones(n) # rng.uniform(1, 2, size=(n,))"
   ]
  },
  {
   "cell_type": "code",
   "execution_count": 50,
   "id": "d7c30c2d-86b0-4c28-85d5-08ce912a255a",
   "metadata": {},
   "outputs": [],
   "source": [
    "%%R -i X,y,W,n,p -o coef_,intercept_\n",
    "library(glmnet)\n",
    "G = glmnet(X, y, standardize=FALSE, intercept=TRUE, weights=W)\n",
    "B = predict(G, s=2 / sqrt(n), type='coef', exact=TRUE, x=X, y=y, weights=W)\n",
    "coef_ = B[2:(p+1)]\n",
    "intercept_ = B[1]"
   ]
  },
  {
   "cell_type": "code",
   "execution_count": 51,
   "id": "f71dfa1b-b897-41bf-a9df-428e715ff087",
   "metadata": {},
   "outputs": [
    {
     "data": {
      "text/plain": [
       "array([ 0.90469071,  1.92654159,  0.        ,  0.        ,  0.        ,\n",
       "        0.        ,  0.        ,  0.        ,  0.        , -0.01987192,\n",
       "        0.        ,  0.        ,  0.        ,  0.        ,  0.        ,\n",
       "        0.        ,  0.        ,  0.        ,  0.        ,  0.        ,\n",
       "        0.        ,  0.        ,  0.        ,  0.        ,  0.        ,\n",
       "        0.        ,  0.        ,  0.        ,  0.        ,  0.        ,\n",
       "        0.        ,  0.        ,  0.        ,  0.        ,  0.        ,\n",
       "        0.        ,  0.        ,  0.        ,  0.        ,  0.        ,\n",
       "        0.        ,  0.        ,  0.        ,  0.        ,  0.        ,\n",
       "        0.        ,  0.        ,  0.        ,  0.        ,  0.        ])"
      ]
     },
     "execution_count": 51,
     "metadata": {},
     "output_type": "execute_result"
    }
   ],
   "source": [
    "coef_"
   ]
  },
  {
   "cell_type": "code",
   "execution_count": 52,
   "id": "48a24021-8ee3-4749-8495-87f481eb2232",
   "metadata": {},
   "outputs": [
    {
     "data": {
      "text/plain": [
       "array([ 0.90469073,  1.92654159,  0.        ,  0.        ,  0.        ,\n",
       "        0.        ,  0.        ,  0.        ,  0.        , -0.01987192,\n",
       "        0.        ,  0.        ,  0.        ,  0.        ,  0.        ,\n",
       "        0.        ,  0.        ,  0.        ,  0.        ,  0.        ,\n",
       "        0.        ,  0.        ,  0.        ,  0.        ,  0.        ,\n",
       "        0.        ,  0.        ,  0.        ,  0.        ,  0.        ,\n",
       "        0.        ,  0.        ,  0.        ,  0.        ,  0.        ,\n",
       "        0.        ,  0.        ,  0.        ,  0.        ,  0.        ,\n",
       "        0.        ,  0.        ,  0.        ,  0.        ,  0.        ,\n",
       "        0.        ,  0.        ,  0.        ,  0.        ,  0.        ])"
      ]
     },
     "execution_count": 52,
     "metadata": {},
     "output_type": "execute_result"
    }
   ],
   "source": [
    "G = GLMNetEstimator(lambda_val=2 * np.sqrt(n), standardize=False, fit_intercept=True)\n",
    "G.fit(X, y, sample_weight=W)\n",
    "G.coef_"
   ]
  },
  {
   "cell_type": "code",
   "execution_count": 53,
   "id": "867df277-0ffe-4825-a454-058bc6a98088",
   "metadata": {},
   "outputs": [],
   "source": [
    "np.testing.assert_allclose(G.intercept_, intercept_)"
   ]
  },
  {
   "cell_type": "code",
   "execution_count": 54,
   "id": "e5915534-7a86-4036-8b89-dd97d09e326d",
   "metadata": {},
   "outputs": [],
   "source": [
    "np.testing.assert_allclose(G.coef_, coef_)"
   ]
  },
  {
   "cell_type": "code",
   "execution_count": null,
   "id": "de66e622-832d-47a4-b5bf-3b6024391e87",
   "metadata": {},
   "outputs": [],
   "source": []
  }
 ],
 "metadata": {
  "kernelspec": {
   "display_name": "Python 3 (ipykernel)",
   "language": "python",
   "name": "python3"
  },
  "language_info": {
   "codemirror_mode": {
    "name": "ipython",
    "version": 3
   },
   "file_extension": ".py",
   "mimetype": "text/x-python",
   "name": "python",
   "nbconvert_exporter": "python",
   "pygments_lexer": "ipython3",
   "version": "3.10.12"
  }
 },
 "nbformat": 4,
 "nbformat_minor": 5
}

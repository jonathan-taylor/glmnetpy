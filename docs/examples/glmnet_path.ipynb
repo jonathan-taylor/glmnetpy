{
 "cells": [
  {
   "cell_type": "code",
   "execution_count": 2,
   "id": "dc49a0eb-eb0b-4752-ab2d-f0b9a025851e",
   "metadata": {},
   "outputs": [
    {
     "name": "stdout",
     "output_type": "stream",
     "text": [
      "The rpy2.ipython extension is already loaded. To reload it, use:\n",
      "  %reload_ext rpy2.ipython\n"
     ]
    }
   ],
   "source": [
    "import rpy2\n",
    "%load_ext rpy2.ipython\n",
    "\n",
    "import numpy as np\n",
    "from glmnet import GLMNet\n",
    "from glmnet import RegGLM\n",
    "rng = np.random.default_rng(0)\n",
    "import statsmodels.api as sm"
   ]
  },
  {
   "cell_type": "code",
   "execution_count": 3,
   "id": "bb1965ac-8dbf-478e-8782-c88683a87f4d",
   "metadata": {},
   "outputs": [],
   "source": [
    "i_, s_ = True, False\n",
    "n, p = 100, 50\n",
    "X = rng.standard_normal((n, p))\n",
    "beta = np.zeros(p)\n",
    "beta[:2] = [1,2]\n",
    "Rfam, fam = 'binomial', sm.families.Binomial()\n",
    "y = (rng.standard_normal(n) + X @ beta > 0).astype(int)\n",
    "#y = rng.standard_normal(n) + X @ beta\n",
    "\n",
    "W = rng.uniform(1, 2, size=(n,))\n",
    "W *= n / W.sum()"
   ]
  },
  {
   "cell_type": "code",
   "execution_count": 4,
   "id": "d7c30c2d-86b0-4c28-85d5-08ce912a255a",
   "metadata": {},
   "outputs": [
    {
     "name": "stdout",
     "output_type": "stream",
     "text": [
      "[1] 73.84822\n"
     ]
    },
    {
     "data": {
      "text/plain": [
       "Loading required package: Matrix\n",
       "Loaded glmnet 4.1-7\n"
      ]
     },
     "metadata": {},
     "output_type": "display_data"
    }
   ],
   "source": [
    "%%R -i X,W,y,n,p,s_,i_,Rfam -o coef_,intercept_,L\n",
    "y = as.numeric(y)\n",
    "library(glmnet)\n",
    "G = glmnet(X, y, standardize=s_, intercept=i_, family=Rfam, weights=as.numeric(W), alpha=0.5)\n",
    "B = predict(G, type='coef')\n",
    "L = G$lambda \n",
    "print(max(G$lambda)*n)\n",
    "coef_ = as.matrix(B[2:(p+1),])\n",
    "intercept_ = as.numeric(B[1,])\n"
   ]
  },
  {
   "cell_type": "code",
   "execution_count": 23,
   "id": "48a24021-8ee3-4749-8495-87f481eb2232",
   "metadata": {},
   "outputs": [
    {
     "data": {
      "text/plain": [
       "(0.7384822402986349, 0.7384822402986349)"
      ]
     },
     "execution_count": 23,
     "metadata": {},
     "output_type": "execute_result"
    }
   ],
   "source": [
    "G = GLMNet(lambda_values=L,\n",
    "           lambda_fractional=False,\n",
    "           standardize=s_, \n",
    "           fit_intercept=i_, \n",
    "           family=fam, \n",
    "           alpha=0.5)\n",
    "G.fit(X, y, sample_weight=W)\n",
    "G.lambda_max_, L.max()"
   ]
  },
  {
   "cell_type": "code",
   "execution_count": 24,
   "id": "867df277-0ffe-4825-a454-058bc6a98088",
   "metadata": {},
   "outputs": [
    {
     "data": {
      "text/plain": [
       "0.003313554032755549"
      ]
     },
     "execution_count": 24,
     "metadata": {},
     "output_type": "execute_result"
    }
   ],
   "source": [
    "np.linalg.norm(coef_.T - G.coefs_) / np.linalg.norm(coef_)"
   ]
  },
  {
   "cell_type": "code",
   "execution_count": 25,
   "id": "6cb9f4e4-1b7d-4e97-8334-9cde221c82ea",
   "metadata": {},
   "outputs": [
    {
     "data": {
      "text/plain": [
       "((50, 100), (100, 50))"
      ]
     },
     "execution_count": 25,
     "metadata": {},
     "output_type": "execute_result"
    }
   ],
   "source": [
    "coef_.shape, G.coefs_.shape"
   ]
  },
  {
   "cell_type": "code",
   "execution_count": 18,
   "id": "9b75c571-1806-4eaa-b4b1-5906f1614f0a",
   "metadata": {},
   "outputs": [
    {
     "data": {
      "text/plain": [
       "array([0.08115015, 0.83036112, 0.        , 0.        , 0.00463349,\n",
       "       0.        , 0.        , 0.        , 0.        , 0.        ,\n",
       "       0.        , 0.        , 0.        , 0.        , 0.        ,\n",
       "       0.        , 0.        , 0.        , 0.        , 0.        ,\n",
       "       0.        , 0.        , 0.        , 0.        , 0.        ,\n",
       "       0.        , 0.        , 0.        , 0.        , 0.        ,\n",
       "       0.        , 0.        , 0.        , 0.        , 0.        ,\n",
       "       0.        , 0.        , 0.        , 0.        , 0.        ,\n",
       "       0.        , 0.        , 0.        , 0.        , 0.        ,\n",
       "       0.        , 0.        , 0.        , 0.        , 0.        ])"
      ]
     },
     "execution_count": 18,
     "metadata": {},
     "output_type": "execute_result"
    }
   ],
   "source": [
    "idx = 15\n",
    "G.coefs_[idx]"
   ]
  },
  {
   "cell_type": "code",
   "execution_count": 29,
   "id": "7d4945c3-0bce-4de6-8e9f-0fab114c1940",
   "metadata": {},
   "outputs": [
    {
     "data": {
      "text/plain": [
       "array([0.08115111, 0.83036152, 0.        , 0.        , 0.0046335 ,\n",
       "       0.        , 0.        , 0.        , 0.        , 0.        ,\n",
       "       0.        , 0.        , 0.        , 0.        , 0.        ,\n",
       "       0.        , 0.        , 0.        , 0.        , 0.        ,\n",
       "       0.        , 0.        , 0.        , 0.        , 0.        ,\n",
       "       0.        , 0.        , 0.        , 0.        , 0.        ,\n",
       "       0.        , 0.        , 0.        , 0.        , 0.        ,\n",
       "       0.        , 0.        , 0.        , 0.        , 0.        ,\n",
       "       0.        , 0.        , 0.        , 0.        , 0.        ,\n",
       "       0.        , 0.        , 0.        , 0.        , 0.        ])"
      ]
     },
     "execution_count": 29,
     "metadata": {},
     "output_type": "execute_result"
    }
   ],
   "source": [
    "G_ = RegGLM(lambda_val=L[idx],\n",
    "            alpha=0.5,\n",
    "            standardize=s_, \n",
    "            fit_intercept=i_, \n",
    "            family=fam).fit(X, y, sample_weight=W)\n",
    "G_.coef_"
   ]
  },
  {
   "cell_type": "code",
   "execution_count": 22,
   "id": "6388453d-0817-423c-9647-d8cf7c77fa75",
   "metadata": {},
   "outputs": [
    {
     "data": {
      "text/plain": [
       "array([0.08115134, 0.83036158, 0.        , 0.        , 0.0046335 ,\n",
       "       0.        , 0.        , 0.        , 0.        , 0.        ,\n",
       "       0.        , 0.        , 0.        , 0.        , 0.        ,\n",
       "       0.        , 0.        , 0.        , 0.        , 0.        ,\n",
       "       0.        , 0.        , 0.        , 0.        , 0.        ,\n",
       "       0.        , 0.        , 0.        , 0.        , 0.        ,\n",
       "       0.        , 0.        , 0.        , 0.        , 0.        ,\n",
       "       0.        , 0.        , 0.        , 0.        , 0.        ,\n",
       "       0.        , 0.        , 0.        , 0.        , 0.        ,\n",
       "       0.        , 0.        , 0.        , 0.        , 0.        ])"
      ]
     },
     "execution_count": 22,
     "metadata": {},
     "output_type": "execute_result"
    }
   ],
   "source": [
    "coef_[:,idx]"
   ]
  },
  {
   "cell_type": "code",
   "execution_count": null,
   "id": "7900a1b9-9019-4963-aada-f0dd9eba0c1e",
   "metadata": {},
   "outputs": [],
   "source": []
  }
 ],
 "metadata": {
  "kernelspec": {
   "display_name": "Python 3 (ipykernel)",
   "language": "python",
   "name": "python3"
  },
  "language_info": {
   "codemirror_mode": {
    "name": "ipython",
    "version": 3
   },
   "file_extension": ".py",
   "mimetype": "text/x-python",
   "name": "python",
   "nbconvert_exporter": "python",
   "pygments_lexer": "ipython3",
   "version": "3.10.12"
  }
 },
 "nbformat": 4,
 "nbformat_minor": 5
}

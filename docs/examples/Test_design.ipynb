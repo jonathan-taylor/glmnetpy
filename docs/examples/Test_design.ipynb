{
 "cells": [
  {
   "cell_type": "markdown",
   "id": "1caa3787-e6cb-44d6-9956-b0f4678d57d8",
   "metadata": {},
   "source": [
    "Implementing this code here: https://github.com/trevorhastie/glmnet/blob/3b268cebc7a04ff0c7b22931cb42b4c328ede307/R/glmnetFlex.R#L217C1-L233C6\n",
    "\n",
    "'''\n",
    "# standardize x if necessary\n",
    "    if (intercept) {\n",
    "        xm <- meansd$mean\n",
    "    } else {\n",
    "        xm <- rep(0.0, times = nvars)\n",
    "    }\n",
    "    if (standardize) {\n",
    "        xs <- meansd$sd\n",
    "    } else {\n",
    "        xs <- rep(1.0, times = nvars)\n",
    "    }\n",
    "    if (!inherits(x, \"sparseMatrix\")) {\n",
    "        x <- scale(x, xm, xs)\n",
    "    }\n",
    "'''"
   ]
  },
  {
   "cell_type": "code",
   "execution_count": 1,
   "id": "6b9c16cb-e6b5-42f0-a3ab-98134d14fd08",
   "metadata": {},
   "outputs": [],
   "source": [
    "import numpy as np\n",
    "from glmnet.base import Design\n",
    "from glmnet import GLMNet\n",
    "import rpy2\n",
    "%load_ext rpy2.ipython\n",
    "\n",
    "n, p = 100, 50\n",
    "rng = np.random.default_rng(0)\n",
    "X = rng.standard_normal((n, p))\n",
    "Y = rng.standard_normal(n)\n",
    "beta = rng.standard_normal(p)\n",
    "W = rng.uniform(1, 2, size=n)\n",
    "W /= W.mean()\n",
    "%R -i X,Y"
   ]
  },
  {
   "cell_type": "markdown",
   "id": "0f8fa935-bd2c-454e-ae9d-e551bd8ca799",
   "metadata": {},
   "source": [
    "# Without weights (all 1's)\n",
    "\n",
    "## `standardize=True`, `intercept=True`"
   ]
  },
  {
   "cell_type": "code",
   "execution_count": 2,
   "id": "920a6de3",
   "metadata": {},
   "outputs": [
    {
     "data": {
      "text/plain": [
       "0.2820689073452428"
      ]
     },
     "execution_count": 2,
     "metadata": {},
     "output_type": "execute_result"
    }
   ],
   "source": [
    "standardize, intercept = True, True\n",
    "W = np.ones(n)\n",
    "xm = (X * W[:,None]).sum(0) / W.sum()\n",
    "x2 = (X**2 * W[:,None]).sum(0) / W.sum()\n",
    "xs = np.sqrt(x2 - xm**2)\n",
    "if not standardize:\n",
    "    xs = np.ones_like(xs)\n",
    "if not intercept:\n",
    "    xm = np.zeros_like(xm)\n",
    "X_ = (X - xm[None,:]) / xs[None,:]\n",
    "D = Design(X, intercept=intercept, standardize=standardize)\n",
    "assert np.allclose(D.centers_, xm)\n",
    "assert np.allclose(D.scaling_, xs)\n",
    "assert np.allclose(D @ np.hstack([0, beta]), X_ @ beta)\n",
    "G = GLMNet(lambda_values=np.linspace(0.05,1,51)[::-1],\n",
    "           fit_intercept=intercept, standardize=standardize)\n",
    "G.fit(X, Y)\n",
    "assert np.allclose(G.lambda_max_, np.fabs(X_.T @ (W * (Y - Y.mean()))).max() / n)\n",
    "G.lambda_max_"
   ]
  },
  {
   "cell_type": "code",
   "execution_count": 3,
   "id": "46fd4253",
   "metadata": {},
   "outputs": [
    {
     "name": "stdout",
     "output_type": "stream",
     "text": [
      "[1] 28.20689\n"
     ]
    },
    {
     "data": {
      "text/plain": [
       "Loading required package: Matrix\n",
       "Loaded glmnet 4.1-7\n"
      ]
     },
     "metadata": {},
     "output_type": "display_data"
    }
   ],
   "source": [
    "%%R -i standardize,intercept,W\n",
    "library(glmnet)\n",
    "G=glmnet(X, Y, intercept=intercept, standardize=standardize)\n",
    "print(max(G$lambda)*nrow(X))"
   ]
  },
  {
   "cell_type": "markdown",
   "id": "d2c190df-cbef-4c5f-870d-94e0987fe1f5",
   "metadata": {},
   "source": [
    "## `standardize=True`, `intercept=False`"
   ]
  },
  {
   "cell_type": "code",
   "execution_count": 4,
   "id": "bab1d6d4",
   "metadata": {},
   "outputs": [
    {
     "data": {
      "text/plain": [
       "0.2910602370580807"
      ]
     },
     "execution_count": 4,
     "metadata": {},
     "output_type": "execute_result"
    }
   ],
   "source": [
    "standardize, intercept = True, False\n",
    "xm = (X * W[:,None]).sum(0) / W.sum()\n",
    "x2 = (X**2 * W[:,None]).sum(0) / W.sum()\n",
    "xs = np.sqrt(x2 - xm**2)\n",
    "if not standardize:\n",
    "    xs = np.ones_like(xs)\n",
    "if not intercept:\n",
    "    xm = np.zeros_like(xm)\n",
    "X_ = (X - xm[None,:]) / xs[None,:]\n",
    "D = Design(X, intercept=intercept, standardize=standardize)\n",
    "assert np.allclose(D.centers_, xm)\n",
    "assert np.allclose(D.scaling_, xs)\n",
    "assert np.allclose(D @ np.hstack([0, beta]), X_ @ beta)\n",
    "G = GLMNet(lambda_values=np.linspace(0.05,1,51)[::-1],\n",
    "           fit_intercept=intercept, standardize=standardize)\n",
    "G.fit(X, Y)\n",
    "assert np.allclose(G.lambda_max_, np.fabs(X_.T @ (W * Y)).max()/n)\n",
    "G.lambda_max_"
   ]
  },
  {
   "cell_type": "code",
   "execution_count": 5,
   "id": "30eeeb45",
   "metadata": {},
   "outputs": [
    {
     "name": "stdout",
     "output_type": "stream",
     "text": [
      "[1] 29.10602\n"
     ]
    }
   ],
   "source": [
    "%%R -i standardize,intercept,W\n",
    "library(glmnet)\n",
    "G=glmnet(X, Y, intercept=intercept, standardize=standardize)\n",
    "print(max(G$lambda)*nrow(X))"
   ]
  },
  {
   "cell_type": "markdown",
   "id": "40094536-baed-462e-9500-dded96f903b5",
   "metadata": {},
   "source": [
    "## `standardize=False`, `intercept=True`"
   ]
  },
  {
   "cell_type": "code",
   "execution_count": 6,
   "id": "3d1ae7f4",
   "metadata": {},
   "outputs": [
    {
     "data": {
      "text/plain": [
       "0.27946460564487424"
      ]
     },
     "execution_count": 6,
     "metadata": {},
     "output_type": "execute_result"
    }
   ],
   "source": [
    "standardize, intercept = False, True\n",
    "xm = (X * W[:,None]).sum(0) / W.sum()\n",
    "x2 = (X**2 * W[:,None]).sum(0) / W.sum()\n",
    "xs = np.sqrt(x2 - xm**2)\n",
    "if not standardize:\n",
    "    xs = np.ones_like(xs)\n",
    "if not intercept:\n",
    "    xm = np.zeros_like(xm)\n",
    "X_ = (X - xm[None,:]) / xs[None,:]\n",
    "D = Design(X, intercept=intercept, standardize=standardize)\n",
    "assert np.allclose(D.centers_, xm)\n",
    "assert np.allclose(D.scaling_, xs)\n",
    "assert np.allclose(D @ np.hstack([0, beta]), X_ @ beta)\n",
    "G = GLMNet(lambda_values=np.linspace(0.05,1,51)[::-1],\n",
    "           fit_intercept=intercept, standardize=standardize)\n",
    "G.fit(X, Y)\n",
    "assert np.allclose(G.lambda_max_, np.fabs(X_.T @ (W * (Y - Y.mean()))).max()/n)\n",
    "G.lambda_max_"
   ]
  },
  {
   "cell_type": "code",
   "execution_count": 7,
   "id": "950fd3c3",
   "metadata": {},
   "outputs": [
    {
     "name": "stdout",
     "output_type": "stream",
     "text": [
      "[1] 27.94646\n"
     ]
    }
   ],
   "source": [
    "%%R -i standardize,intercept,W\n",
    "library(glmnet)\n",
    "G=glmnet(X, Y, intercept=intercept, standardize=standardize)\n",
    "print(max(G$lambda)*nrow(X))"
   ]
  },
  {
   "cell_type": "markdown",
   "id": "f4345993-7843-4031-b701-56c686aa3b6a",
   "metadata": {},
   "source": [
    "## `standardize=False`, `intercept=False`"
   ]
  },
  {
   "cell_type": "code",
   "execution_count": 8,
   "id": "30d670d7",
   "metadata": {},
   "outputs": [
    {
     "data": {
      "text/plain": [
       "0.2883729197021402"
      ]
     },
     "execution_count": 8,
     "metadata": {},
     "output_type": "execute_result"
    }
   ],
   "source": [
    "standardize, intercept = False, False\n",
    "xm = (X * W[:,None]).sum(0) / W.sum()\n",
    "x2 = (X**2 * W[:,None]).sum(0) / W.sum()\n",
    "xs = np.sqrt(x2 - xm**2)\n",
    "if not standardize:\n",
    "    xs = np.ones_like(xs)\n",
    "if not intercept:\n",
    "    xm = np.zeros_like(xm)\n",
    "X_ = (X - xm[None,:]) / xs[None,:]\n",
    "D = Design(X, intercept=intercept, standardize=standardize)\n",
    "assert np.allclose(D.centers_, xm)\n",
    "assert np.allclose(D.scaling_, xs)\n",
    "assert np.allclose(D @ np.hstack([0, beta]), X_ @ beta)\n",
    "G = GLMNet(lambda_values=np.linspace(0.05,1,51)[::-1],\n",
    "           fit_intercept=intercept, standardize=standardize)\n",
    "G.fit(X, Y)\n",
    "assert np.allclose(G.lambda_max_, np.fabs(X_.T @ (W * Y)).max()/n)\n",
    "G.lambda_max_"
   ]
  },
  {
   "cell_type": "code",
   "execution_count": 9,
   "id": "e05d8072",
   "metadata": {},
   "outputs": [
    {
     "name": "stdout",
     "output_type": "stream",
     "text": [
      "[1] 28.83729\n"
     ]
    }
   ],
   "source": [
    "%%R -i standardize,intercept,W\n",
    "library(glmnet)\n",
    "G=glmnet(X, Y, intercept=intercept, standardize=standardize)\n",
    "print(max(G$lambda)*nrow(X))"
   ]
  },
  {
   "cell_type": "markdown",
   "id": "b165fb47",
   "metadata": {},
   "source": [
    "# With weights\n",
    "\n",
    "## `standardize=True`, `intercept=True`"
   ]
  },
  {
   "cell_type": "code",
   "execution_count": 10,
   "id": "259762b1-adfa-4473-affc-a15ba7380126",
   "metadata": {},
   "outputs": [
    {
     "data": {
      "text/plain": [
       "0.2820689073452428"
      ]
     },
     "execution_count": 10,
     "metadata": {},
     "output_type": "execute_result"
    }
   ],
   "source": [
    "standardize, intercept = True, True\n",
    "xm = (X * W[:,None]).sum(0) / W.sum()\n",
    "x2 = (X**2 * W[:,None]).sum(0) / W.sum()\n",
    "xs = np.sqrt(x2 - xm**2)\n",
    "if not standardize:\n",
    "    xs = np.ones_like(xs)\n",
    "if not intercept:\n",
    "    xm = np.zeros_like(xm)\n",
    "X_ = (X - xm[None,:]) / xs[None,:]\n",
    "D = Design(X, W, intercept=intercept, standardize=standardize)\n",
    "assert np.allclose(D.centers_, xm)\n",
    "assert np.allclose(D.scaling_, xs)\n",
    "assert np.allclose(D @ np.hstack([0, beta]), X_ @ beta)\n",
    "G = GLMNet(lambda_values=np.linspace(0.05,1,51)[::-1],\n",
    "           fit_intercept=intercept, standardize=standardize)\n",
    "G.fit(X, Y, sample_weight=W)\n",
    "assert np.allclose(G.lambda_max_, np.fabs(X_.T @ (W * (Y - Y.mean()))).max()/n)\n",
    "G.lambda_max_"
   ]
  },
  {
   "cell_type": "code",
   "execution_count": 11,
   "id": "b5c72297-6d4b-4f0c-b9f6-46fefd2596df",
   "metadata": {},
   "outputs": [
    {
     "name": "stdout",
     "output_type": "stream",
     "text": [
      "[1] 28.20689\n"
     ]
    }
   ],
   "source": [
    "%%R -i standardize,intercept,W\n",
    "library(glmnet)\n",
    "G=glmnet(X, Y, intercept=intercept, standardize=standardize, weights=W)\n",
    "print(max(G$lambda)*nrow(X))"
   ]
  },
  {
   "cell_type": "markdown",
   "id": "64459b13",
   "metadata": {},
   "source": [
    "## `standardize=True`, `intercept=False`"
   ]
  },
  {
   "cell_type": "code",
   "execution_count": 12,
   "id": "a9bd7eca-4088-4e4b-9539-757cd91c4f8f",
   "metadata": {},
   "outputs": [
    {
     "data": {
      "text/plain": [
       "0.2910602370580807"
      ]
     },
     "execution_count": 12,
     "metadata": {},
     "output_type": "execute_result"
    }
   ],
   "source": [
    "standardize, intercept = True, False\n",
    "xm = (X * W[:,None]).sum(0) / W.sum()\n",
    "x2 = (X**2 * W[:,None]).sum(0) / W.sum()\n",
    "xs = np.sqrt(x2 - xm**2)\n",
    "if not standardize:\n",
    "    xs = np.ones_like(xs)\n",
    "if not intercept:\n",
    "    xm = np.zeros_like(xm)\n",
    "X_ = (X - xm[None,:]) / xs[None,:]\n",
    "D = Design(X, W, intercept=intercept, standardize=standardize)\n",
    "assert np.allclose(D.centers_, xm)\n",
    "assert np.allclose(D.scaling_, xs)\n",
    "assert np.allclose(D @ np.hstack([0, beta]), X_ @ beta)\n",
    "G = GLMNet(lambda_values=np.linspace(0.05,1,51)[::-1],\n",
    "           fit_intercept=intercept, standardize=standardize)\n",
    "G.fit(X, Y, sample_weight=W)\n",
    "assert np.allclose(G.lambda_max_, np.fabs(X_.T @ (W * Y)).max()/n)\n",
    "G.lambda_max_"
   ]
  },
  {
   "cell_type": "code",
   "execution_count": 13,
   "id": "14542f52-8f58-4ac9-869f-8b3b82bf5d3d",
   "metadata": {},
   "outputs": [
    {
     "name": "stdout",
     "output_type": "stream",
     "text": [
      "[1] 29.10602\n"
     ]
    }
   ],
   "source": [
    "%%R -i standardize,intercept,W\n",
    "library(glmnet)\n",
    "G=glmnet(X, Y, intercept=intercept, standardize=standardize, weights=W)\n",
    "print(max(G$lambda)*nrow(X))"
   ]
  },
  {
   "cell_type": "markdown",
   "id": "9a129c0b",
   "metadata": {},
   "source": [
    "## `standardize=False`, `intercept=True`"
   ]
  },
  {
   "cell_type": "code",
   "execution_count": 14,
   "id": "a5cc832f-fafd-4c73-86f3-8b7617cc7def",
   "metadata": {},
   "outputs": [
    {
     "data": {
      "text/plain": [
       "0.27946460564487424"
      ]
     },
     "execution_count": 14,
     "metadata": {},
     "output_type": "execute_result"
    }
   ],
   "source": [
    "standardize, intercept = False, True\n",
    "xm = (X * W[:,None]).sum(0) / W.sum()\n",
    "x2 = (X**2 * W[:,None]).sum(0) / W.sum()\n",
    "xs = np.sqrt(x2 - xm**2)\n",
    "if not standardize:\n",
    "    xs = np.ones_like(xs)\n",
    "if not intercept:\n",
    "    xm = np.zeros_like(xm)\n",
    "X_ = (X - xm[None,:]) / xs[None,:]\n",
    "D = Design(X, W, intercept=intercept, standardize=standardize)\n",
    "assert np.allclose(D.centers_, xm)\n",
    "assert np.allclose(D.scaling_, xs)\n",
    "assert np.allclose(D @ np.hstack([0, beta]), X_ @ beta)\n",
    "G = GLMNet(lambda_values=np.linspace(0.05,1,51)[::-1],\n",
    "           fit_intercept=intercept, standardize=standardize)\n",
    "G.fit(X, Y, sample_weight=W)\n",
    "assert np.allclose(G.lambda_max_, np.fabs(X_.T @ (W * (Y - Y.mean()))).max()/n)\n",
    "G.lambda_max_"
   ]
  },
  {
   "cell_type": "code",
   "execution_count": 15,
   "id": "5beb2f1f-1947-4494-82c5-573c146a752a",
   "metadata": {},
   "outputs": [
    {
     "name": "stdout",
     "output_type": "stream",
     "text": [
      "[1] 27.94646\n"
     ]
    }
   ],
   "source": [
    "%%R -i standardize,intercept,W\n",
    "library(glmnet)\n",
    "G=glmnet(X, Y, intercept=intercept, standardize=standardize, weights=W)\n",
    "print(max(G$lambda)*nrow(X))"
   ]
  },
  {
   "cell_type": "markdown",
   "id": "588838bd",
   "metadata": {},
   "source": [
    "## `standardize=False`, `intercept=False`"
   ]
  },
  {
   "cell_type": "code",
   "execution_count": 17,
   "id": "28d7fe36-c498-4728-a8c0-5311b2256a3d",
   "metadata": {},
   "outputs": [
    {
     "data": {
      "text/plain": [
       "0.2883729197021402"
      ]
     },
     "execution_count": 17,
     "metadata": {},
     "output_type": "execute_result"
    }
   ],
   "source": [
    "standardize, intercept = False, False\n",
    "xm = (X * W[:,None]).sum(0) / W.sum()\n",
    "x2 = (X**2 * W[:,None]).sum(0) / W.sum()\n",
    "xs = np.sqrt(x2 - xm**2)\n",
    "if not standardize:\n",
    "    xs = np.ones_like(xs)\n",
    "if not intercept:\n",
    "    xm = np.zeros_like(xm)\n",
    "X_ = (X - xm[None,:]) / xs[None,:]\n",
    "D = Design(X, W, intercept=intercept, standardize=standardize)\n",
    "assert np.allclose(D.centers_, xm)\n",
    "assert np.allclose(D.scaling_, xs)\n",
    "assert np.allclose(D @ np.hstack([0, beta]), X_ @ beta)\n",
    "G = GLMNet(lambda_values=np.linspace(0.05,1,51)[::-1],\n",
    "           fit_intercept=intercept, standardize=standardize)\n",
    "G.fit(X, Y, sample_weight=W)\n",
    "assert np.allclose(G.lambda_max_, np.fabs(X_.T @ (W * Y)).max()/n)\n",
    "G.lambda_max_"
   ]
  },
  {
   "cell_type": "code",
   "execution_count": null,
   "id": "1025cb84-ac9b-4c20-a746-a9af8c265d6f",
   "metadata": {},
   "outputs": [],
   "source": [
    "%%R -i standardize,intercept,W\n",
    "library(glmnet)\n",
    "G=glmnet(X, Y, intercept=intercept, standardize=standardize, weights=W)\n",
    "print(max(G$lambda)*nrow(X))"
   ]
  }
 ],
 "metadata": {
  "jupytext": {
   "formats": "ipynb,md:myst"
  },
  "kernelspec": {
   "display_name": "Python 3 (ipykernel)",
   "language": "python",
   "name": "python3"
  },
  "language_info": {
   "codemirror_mode": {
    "name": "ipython",
    "version": 3
   },
   "file_extension": ".py",
   "mimetype": "text/x-python",
   "name": "python",
   "nbconvert_exporter": "python",
   "pygments_lexer": "ipython3",
   "version": "3.10.12"
  }
 },
 "nbformat": 4,
 "nbformat_minor": 5
}

{
 "cells": [
  {
   "cell_type": "code",
   "execution_count": 1,
   "id": "addb8ef3-34c0-48dc-837b-36b69bffb999",
   "metadata": {},
   "outputs": [],
   "source": [
    "import numpy as np\n",
    "from glmnet import GLM\n",
    "from glmnet.glm import GLMControl\n",
    "\n",
    "from glmnet.glm_random import GibbsGLMFamilySpec\n",
    "import statsmodels.api as sm\n",
    "\n",
    "p, q = 100, 100 \n",
    "n = 200 * q\n",
    "rng = np.random.RandomState(0)\n",
    "\n",
    "X = rng.standard_normal((n, p))\n",
    "X[:,0] *= 3\n",
    "Y = rng.choice([0,1], size=n)\n"
   ]
  },
  {
   "cell_type": "code",
   "execution_count": 2,
   "id": "90c747d7-a7fc-4e09-b087-b93dd4eb8261",
   "metadata": {
    "scrolled": true
   },
   "outputs": [
    {
     "data": {
      "text/html": [
       "<div>\n",
       "<style scoped>\n",
       "    .dataframe tbody tr th:only-of-type {\n",
       "        vertical-align: middle;\n",
       "    }\n",
       "\n",
       "    .dataframe tbody tr th {\n",
       "        vertical-align: top;\n",
       "    }\n",
       "\n",
       "    .dataframe thead th {\n",
       "        text-align: right;\n",
       "    }\n",
       "</style>\n",
       "<table border=\"1\" class=\"dataframe\">\n",
       "  <thead>\n",
       "    <tr style=\"text-align: right;\">\n",
       "      <th></th>\n",
       "      <th>coef</th>\n",
       "      <th>std err</th>\n",
       "      <th>z</th>\n",
       "      <th>P&gt;|z|</th>\n",
       "    </tr>\n",
       "  </thead>\n",
       "  <tbody>\n",
       "    <tr>\n",
       "      <th>intercept</th>\n",
       "      <td>-0.003864</td>\n",
       "      <td>0.014211</td>\n",
       "      <td>-0.271893</td>\n",
       "      <td>0.785705</td>\n",
       "    </tr>\n",
       "    <tr>\n",
       "      <th>X0</th>\n",
       "      <td>-0.000561</td>\n",
       "      <td>0.004747</td>\n",
       "      <td>-0.118150</td>\n",
       "      <td>0.905949</td>\n",
       "    </tr>\n",
       "    <tr>\n",
       "      <th>X1</th>\n",
       "      <td>-0.016750</td>\n",
       "      <td>0.014169</td>\n",
       "      <td>-1.182159</td>\n",
       "      <td>0.237143</td>\n",
       "    </tr>\n",
       "    <tr>\n",
       "      <th>X2</th>\n",
       "      <td>0.004506</td>\n",
       "      <td>0.014139</td>\n",
       "      <td>0.318671</td>\n",
       "      <td>0.749976</td>\n",
       "    </tr>\n",
       "    <tr>\n",
       "      <th>X3</th>\n",
       "      <td>0.008908</td>\n",
       "      <td>0.014137</td>\n",
       "      <td>0.630098</td>\n",
       "      <td>0.528630</td>\n",
       "    </tr>\n",
       "    <tr>\n",
       "      <th>...</th>\n",
       "      <td>...</td>\n",
       "      <td>...</td>\n",
       "      <td>...</td>\n",
       "      <td>...</td>\n",
       "    </tr>\n",
       "    <tr>\n",
       "      <th>X95</th>\n",
       "      <td>0.017281</td>\n",
       "      <td>0.014181</td>\n",
       "      <td>1.218538</td>\n",
       "      <td>0.223019</td>\n",
       "    </tr>\n",
       "    <tr>\n",
       "      <th>X96</th>\n",
       "      <td>0.007783</td>\n",
       "      <td>0.014129</td>\n",
       "      <td>0.550895</td>\n",
       "      <td>0.581706</td>\n",
       "    </tr>\n",
       "    <tr>\n",
       "      <th>X97</th>\n",
       "      <td>-0.015174</td>\n",
       "      <td>0.014186</td>\n",
       "      <td>-1.069646</td>\n",
       "      <td>0.284779</td>\n",
       "    </tr>\n",
       "    <tr>\n",
       "      <th>X98</th>\n",
       "      <td>0.012565</td>\n",
       "      <td>0.014242</td>\n",
       "      <td>0.882229</td>\n",
       "      <td>0.377653</td>\n",
       "    </tr>\n",
       "    <tr>\n",
       "      <th>X99</th>\n",
       "      <td>-0.001155</td>\n",
       "      <td>0.014240</td>\n",
       "      <td>-0.081080</td>\n",
       "      <td>0.935378</td>\n",
       "    </tr>\n",
       "  </tbody>\n",
       "</table>\n",
       "<p>101 rows × 4 columns</p>\n",
       "</div>"
      ],
      "text/plain": [
       "               coef   std err         z     P>|z|\n",
       "intercept -0.003864  0.014211 -0.271893  0.785705\n",
       "X0        -0.000561  0.004747 -0.118150  0.905949\n",
       "X1        -0.016750  0.014169 -1.182159  0.237143\n",
       "X2         0.004506  0.014139  0.318671  0.749976\n",
       "X3         0.008908  0.014137  0.630098  0.528630\n",
       "...             ...       ...       ...       ...\n",
       "X95        0.017281  0.014181  1.218538  0.223019\n",
       "X96        0.007783  0.014129  0.550895  0.581706\n",
       "X97       -0.015174  0.014186 -1.069646  0.284779\n",
       "X98        0.012565  0.014242  0.882229  0.377653\n",
       "X99       -0.001155  0.014240 -0.081080  0.935378\n",
       "\n",
       "[101 rows x 4 columns]"
      ]
     },
     "execution_count": 2,
     "metadata": {},
     "output_type": "execute_result"
    }
   ],
   "source": [
    "G = GLM(family=sm.families.Binomial(), summarize=True)\n",
    "G.fit(X, Y).summary_"
   ]
  },
  {
   "cell_type": "code",
   "execution_count": 3,
   "id": "36b29fd2-05f4-410b-b4d8-069e19bf9fc2",
   "metadata": {},
   "outputs": [],
   "source": [
    "import rpy2\n",
    "%load_ext rpy2.ipython\n",
    "%R -i X,Y"
   ]
  },
  {
   "cell_type": "code",
   "execution_count": 4,
   "id": "0b2060c0-6879-481b-9e57-003bb048002f",
   "metadata": {},
   "outputs": [
    {
     "name": "stdout",
     "output_type": "stream",
     "text": [
      "\n",
      "Call:\n",
      "glm(formula = Y ~ X, family = binomial)\n",
      "\n",
      "Coefficients:\n",
      "              Estimate Std. Error z value Pr(>|z|)    \n",
      "(Intercept) -3.864e-03  1.421e-02  -0.272 0.785705    \n",
      "X1          -5.608e-04  4.747e-03  -0.118 0.905948    \n",
      "X2          -1.675e-02  1.417e-02  -1.182 0.237141    \n",
      "X3           4.506e-03  1.414e-02   0.319 0.749975    \n",
      "X4           8.908e-03  1.414e-02   0.630 0.528629    \n",
      "X5           5.154e-03  1.421e-02   0.363 0.716763    \n",
      "X6          -2.465e-02  1.424e-02  -1.731 0.083519 .  \n",
      "X7           1.471e-02  1.437e-02   1.024 0.306012    \n",
      "X8          -9.208e-04  1.414e-02  -0.065 0.948076    \n",
      "X9           2.567e-02  1.419e-02   1.809 0.070424 .  \n",
      "X10          1.670e-02  1.430e-02   1.168 0.242827    \n",
      "X11         -1.447e-02  1.429e-02  -1.013 0.311083    \n",
      "X12         -1.136e-02  1.416e-02  -0.803 0.422251    \n",
      "X13         -8.610e-03  1.411e-02  -0.610 0.541792    \n",
      "X14          1.072e-02  1.412e-02   0.759 0.447568    \n",
      "X15         -2.984e-03  1.427e-02  -0.209 0.834353    \n",
      "X16         -3.728e-03  1.428e-02  -0.261 0.794053    \n",
      "X17         -4.512e-03  1.420e-02  -0.318 0.750602    \n",
      "X18          3.655e-03  1.423e-02   0.257 0.797284    \n",
      "X19         -1.205e-02  1.421e-02  -0.848 0.396355    \n",
      "X20         -2.610e-02  1.417e-02  -1.842 0.065489 .  \n",
      "X21         -7.969e-03  1.417e-02  -0.562 0.573783    \n",
      "X22          1.328e-04  1.422e-02   0.009 0.992553    \n",
      "X23         -1.345e-02  1.417e-02  -0.949 0.342778    \n",
      "X24         -5.610e-03  1.431e-02  -0.392 0.694966    \n",
      "X25          2.960e-03  1.420e-02   0.209 0.834833    \n",
      "X26         -8.489e-03  1.423e-02  -0.596 0.550859    \n",
      "X27          8.510e-03  1.420e-02   0.599 0.549081    \n",
      "X28         -5.078e-03  1.422e-02  -0.357 0.720952    \n",
      "X29         -1.251e-02  1.431e-02  -0.875 0.381836    \n",
      "X30         -2.118e-02  1.415e-02  -1.497 0.134489    \n",
      "X31          4.486e-02  1.420e-02   3.159 0.001582 ** \n",
      "X32         -1.107e-02  1.429e-02  -0.775 0.438425    \n",
      "X33         -5.432e-03  1.425e-02  -0.381 0.703008    \n",
      "X34         -9.539e-03  1.417e-02  -0.673 0.500795    \n",
      "X35         -9.334e-03  1.418e-02  -0.658 0.510516    \n",
      "X36         -1.798e-02  1.420e-02  -1.267 0.205317    \n",
      "X37          5.052e-03  1.423e-02   0.355 0.722631    \n",
      "X38          5.447e-03  1.423e-02   0.383 0.701974    \n",
      "X39         -1.138e-02  1.417e-02  -0.803 0.421987    \n",
      "X40          1.028e-02  1.410e-02   0.729 0.465870    \n",
      "X41          2.336e-02  1.419e-02   1.646 0.099779 .  \n",
      "X42          1.888e-02  1.421e-02   1.329 0.183845    \n",
      "X43          4.463e-03  1.432e-02   0.312 0.755295    \n",
      "X44          2.510e-02  1.419e-02   1.769 0.076892 .  \n",
      "X45         -8.664e-05  1.433e-02  -0.006 0.995175    \n",
      "X46          1.450e-02  1.420e-02   1.021 0.307148    \n",
      "X47          1.266e-02  1.414e-02   0.895 0.370728    \n",
      "X48         -2.007e-03  1.435e-02  -0.140 0.888756    \n",
      "X49          5.203e-03  1.429e-02   0.364 0.715752    \n",
      "X50         -2.257e-03  1.430e-02  -0.158 0.874582    \n",
      "X51         -6.435e-04  1.425e-02  -0.045 0.963972    \n",
      "X52          6.144e-03  1.428e-02   0.430 0.667055    \n",
      "X53          6.165e-03  1.417e-02   0.435 0.663638    \n",
      "X54         -1.437e-02  1.416e-02  -1.015 0.309970    \n",
      "X55         -1.592e-02  1.422e-02  -1.119 0.263051    \n",
      "X56         -1.392e-02  1.423e-02  -0.978 0.328062    \n",
      "X57          3.337e-03  1.428e-02   0.234 0.815226    \n",
      "X58         -9.739e-03  1.423e-02  -0.684 0.493833    \n",
      "X59          2.064e-02  1.422e-02   1.451 0.146694    \n",
      "X60          2.625e-02  1.413e-02   1.858 0.063207 .  \n",
      "X61          8.241e-03  1.425e-02   0.578 0.563102    \n",
      "X62          1.886e-02  1.434e-02   1.315 0.188388    \n",
      "X63          3.103e-03  1.427e-02   0.217 0.827886    \n",
      "X64          1.280e-02  1.412e-02   0.906 0.364996    \n",
      "X65          2.878e-02  1.431e-02   2.011 0.044310 *  \n",
      "X66          6.246e-03  1.414e-02   0.442 0.658779    \n",
      "X67          3.998e-03  1.431e-02   0.280 0.779853    \n",
      "X68          2.103e-03  1.424e-02   0.148 0.882607    \n",
      "X69          1.890e-02  1.428e-02   1.324 0.185499    \n",
      "X70          1.231e-03  1.428e-02   0.086 0.931276    \n",
      "X71         -1.617e-03  1.443e-02  -0.112 0.910797    \n",
      "X72         -1.945e-02  1.423e-02  -1.367 0.171479    \n",
      "X73         -4.910e-03  1.432e-02  -0.343 0.731709    \n",
      "X74         -1.384e-02  1.423e-02  -0.972 0.330883    \n",
      "X75          4.267e-03  1.432e-02   0.298 0.765659    \n",
      "X76          4.981e-02  1.431e-02   3.482 0.000498 ***\n",
      "X77          4.043e-03  1.412e-02   0.286 0.774722    \n",
      "X78         -1.378e-02  1.413e-02  -0.975 0.329464    \n",
      "X79          6.604e-04  1.424e-02   0.046 0.963003    \n",
      "X80          6.839e-03  1.415e-02   0.483 0.628935    \n",
      "X81         -1.170e-02  1.429e-02  -0.819 0.412998    \n",
      "X82         -1.206e-02  1.417e-02  -0.851 0.394555    \n",
      "X83         -1.260e-03  1.418e-02  -0.089 0.929185    \n",
      "X84          2.814e-02  1.418e-02   1.984 0.047241 *  \n",
      "X85          3.026e-02  1.420e-02   2.132 0.033044 *  \n",
      "X86          4.045e-03  1.415e-02   0.286 0.775040    \n",
      "X87          2.033e-02  1.419e-02   1.432 0.152015    \n",
      "X88          1.165e-02  1.422e-02   0.819 0.412852    \n",
      "X89          1.448e-02  1.418e-02   1.021 0.307068    \n",
      "X90         -9.359e-03  1.435e-02  -0.652 0.514218    \n",
      "X91          9.840e-03  1.424e-02   0.691 0.489670    \n",
      "X92         -1.975e-03  1.433e-02  -0.138 0.890354    \n",
      "X93          2.558e-02  1.435e-02   1.782 0.074705 .  \n",
      "X94          2.333e-02  1.432e-02   1.630 0.103206    \n",
      "X95          1.088e-02  1.417e-02   0.768 0.442650    \n",
      "X96          1.728e-02  1.418e-02   1.219 0.223017    \n",
      "X97          7.783e-03  1.413e-02   0.551 0.581704    \n",
      "X98         -1.517e-02  1.419e-02  -1.070 0.284777    \n",
      "X99          1.256e-02  1.424e-02   0.882 0.377651    \n",
      "X100        -1.155e-03  1.424e-02  -0.081 0.935378    \n",
      "---\n",
      "Signif. codes:  0 ‘***’ 0.001 ‘**’ 0.01 ‘*’ 0.05 ‘.’ 0.1 ‘ ’ 1\n",
      "\n",
      "(Dispersion parameter for binomial family taken to be 1)\n",
      "\n",
      "    Null deviance: 27726  on 19999  degrees of freedom\n",
      "Residual deviance: 27619  on 19899  degrees of freedom\n",
      "AIC: 27821\n",
      "\n",
      "Number of Fisher Scoring iterations: 3\n",
      "\n"
     ]
    }
   ],
   "source": [
    "%%R\n",
    "summary(glm(Y ~ X, family=binomial))"
   ]
  },
  {
   "cell_type": "code",
   "execution_count": 5,
   "id": "2183d96b-c413-4d53-8e72-f9b24883b4a8",
   "metadata": {},
   "outputs": [
    {
     "data": {
      "text/html": [
       "<style>#sk-container-id-1 {color: black;}#sk-container-id-1 pre{padding: 0;}#sk-container-id-1 div.sk-toggleable {background-color: white;}#sk-container-id-1 label.sk-toggleable__label {cursor: pointer;display: block;width: 100%;margin-bottom: 0;padding: 0.3em;box-sizing: border-box;text-align: center;}#sk-container-id-1 label.sk-toggleable__label-arrow:before {content: \"▸\";float: left;margin-right: 0.25em;color: #696969;}#sk-container-id-1 label.sk-toggleable__label-arrow:hover:before {color: black;}#sk-container-id-1 div.sk-estimator:hover label.sk-toggleable__label-arrow:before {color: black;}#sk-container-id-1 div.sk-toggleable__content {max-height: 0;max-width: 0;overflow: hidden;text-align: left;background-color: #f0f8ff;}#sk-container-id-1 div.sk-toggleable__content pre {margin: 0.2em;color: black;border-radius: 0.25em;background-color: #f0f8ff;}#sk-container-id-1 input.sk-toggleable__control:checked~div.sk-toggleable__content {max-height: 200px;max-width: 100%;overflow: auto;}#sk-container-id-1 input.sk-toggleable__control:checked~label.sk-toggleable__label-arrow:before {content: \"▾\";}#sk-container-id-1 div.sk-estimator input.sk-toggleable__control:checked~label.sk-toggleable__label {background-color: #d4ebff;}#sk-container-id-1 div.sk-label input.sk-toggleable__control:checked~label.sk-toggleable__label {background-color: #d4ebff;}#sk-container-id-1 input.sk-hidden--visually {border: 0;clip: rect(1px 1px 1px 1px);clip: rect(1px, 1px, 1px, 1px);height: 1px;margin: -1px;overflow: hidden;padding: 0;position: absolute;width: 1px;}#sk-container-id-1 div.sk-estimator {font-family: monospace;background-color: #f0f8ff;border: 1px dotted black;border-radius: 0.25em;box-sizing: border-box;margin-bottom: 0.5em;}#sk-container-id-1 div.sk-estimator:hover {background-color: #d4ebff;}#sk-container-id-1 div.sk-parallel-item::after {content: \"\";width: 100%;border-bottom: 1px solid gray;flex-grow: 1;}#sk-container-id-1 div.sk-label:hover label.sk-toggleable__label {background-color: #d4ebff;}#sk-container-id-1 div.sk-serial::before {content: \"\";position: absolute;border-left: 1px solid gray;box-sizing: border-box;top: 0;bottom: 0;left: 50%;z-index: 0;}#sk-container-id-1 div.sk-serial {display: flex;flex-direction: column;align-items: center;background-color: white;padding-right: 0.2em;padding-left: 0.2em;position: relative;}#sk-container-id-1 div.sk-item {position: relative;z-index: 1;}#sk-container-id-1 div.sk-parallel {display: flex;align-items: stretch;justify-content: center;background-color: white;position: relative;}#sk-container-id-1 div.sk-item::before, #sk-container-id-1 div.sk-parallel-item::before {content: \"\";position: absolute;border-left: 1px solid gray;box-sizing: border-box;top: 0;bottom: 0;left: 50%;z-index: -1;}#sk-container-id-1 div.sk-parallel-item {display: flex;flex-direction: column;z-index: 1;position: relative;background-color: white;}#sk-container-id-1 div.sk-parallel-item:first-child::after {align-self: flex-end;width: 50%;}#sk-container-id-1 div.sk-parallel-item:last-child::after {align-self: flex-start;width: 50%;}#sk-container-id-1 div.sk-parallel-item:only-child::after {width: 0;}#sk-container-id-1 div.sk-dashed-wrapped {border: 1px dashed gray;margin: 0 0.4em 0.5em 0.4em;box-sizing: border-box;padding-bottom: 0.4em;background-color: white;}#sk-container-id-1 div.sk-label label {font-family: monospace;font-weight: bold;display: inline-block;line-height: 1.2em;}#sk-container-id-1 div.sk-label-container {text-align: center;}#sk-container-id-1 div.sk-container {/* jupyter's `normalize.less` sets `[hidden] { display: none; }` but bootstrap.min.css set `[hidden] { display: none !important; }` so we also need the `!important` here to be able to override the default hidden behavior on the sphinx rendered scikit-learn.org. See: https://github.com/scikit-learn/scikit-learn/issues/21755 */display: inline-block !important;position: relative;}#sk-container-id-1 div.sk-text-repr-fallback {display: none;}</style><div id=\"sk-container-id-1\" class=\"sk-top-container\"><div class=\"sk-text-repr-fallback\"><pre>GLM(family=GibbsGLMFamilySpec(base=&lt;statsmodels.genmod.families.family.Binomial object at 0x1033173a0&gt;), fit_intercept=True, control=GLMControl(mxitnr=2000, epsnr=1e-06, big=9.9e+35, logging=False), summarize=False)</pre><b>In a Jupyter environment, please rerun this cell to show the HTML representation or trust the notebook. <br />On GitHub, the HTML representation is unable to render, please try loading this page with nbviewer.org.</b></div><div class=\"sk-container\" hidden><div class=\"sk-item\"><div class=\"sk-estimator sk-toggleable\"><input class=\"sk-toggleable__control sk-hidden--visually\" id=\"sk-estimator-id-1\" type=\"checkbox\" checked><label for=\"sk-estimator-id-1\" class=\"sk-toggleable__label sk-toggleable__label-arrow\">GLM</label><div class=\"sk-toggleable__content\"><pre>GLM(family=GibbsGLMFamilySpec(base=&lt;statsmodels.genmod.families.family.Binomial object at 0x1033173a0&gt;), fit_intercept=True, control=GLMControl(mxitnr=2000, epsnr=1e-06, big=9.9e+35, logging=False), summarize=False)</pre></div></div></div></div></div>"
      ],
      "text/plain": [
       "GLM(family=GibbsGLMFamilySpec(base=<statsmodels.genmod.families.family.Binomial object at 0x1033173a0>), fit_intercept=True, control=GLMControl(mxitnr=2000, epsnr=1e-06, big=9.9e+35, logging=False), summarize=False)"
      ]
     },
     "execution_count": 5,
     "metadata": {},
     "output_type": "execute_result"
    }
   ],
   "source": [
    "control = GLMControl(mxitnr=2000)\n",
    "\n",
    "fam = GibbsGLMFamilySpec(base=G._family.base)\n",
    "GR = GLM(family=fam, control=control)\n",
    "GR.fit(X, Y)"
   ]
  },
  {
   "cell_type": "code",
   "execution_count": 6,
   "id": "7259e70e-360b-411e-a8a7-cedf68880ffc",
   "metadata": {},
   "outputs": [
    {
     "name": "stdout",
     "output_type": "stream",
     "text": [
      "0.005253003033917459\n"
     ]
    },
    {
     "data": {
      "text/plain": [
       "[<matplotlib.lines.Line2D at 0x2a6cfe1d0>]"
      ]
     },
     "execution_count": 6,
     "metadata": {},
     "output_type": "execute_result"
    },
    {
     "data": {
      "image/png": "[encoded data removed]",
      "text/plain": [
       "<Figure size 640x480 with 1 Axes>"
      ]
     },
     "metadata": {},
     "output_type": "display_data"
    }
   ],
   "source": [
    "import matplotlib.pyplot as plt\n",
    "fig, ax = plt.subplots()\n",
    "print(np.std(GR._history[:,1]))\n",
    "ax.hist(GR._history[:,1], bins=30, density=True)\n",
    "ax.axvline(G.summary_.loc['X0','coef'], ls='--', color='k')\n",
    "from scipy.stats import norm as normal_dbn\n",
    "xval = np.linspace(GR._history[:,1].min(), GR._history[:,1].max(), 200)\n",
    "ax.plot(xval, normal_dbn.pdf(xval, loc=G.summary_.loc['X0','coef'], scale=G.summary_.loc['X0','std err']))"
   ]
  },
  {
   "cell_type": "code",
   "execution_count": 7,
   "id": "8efab0b4-4857-4bde-b6f2-0fae81f458d4",
   "metadata": {
    "scrolled": true
   },
   "outputs": [],
   "source": [
    "from glmnet.glmm import GLMM\n",
    "from glmnet.base import Design\n",
    "Z = rng.standard_normal((n, q))\n",
    "nu = rng.standard_normal(q) / np.sqrt(q)\n",
    "Z_nu = Z @ nu\n",
    "prob = np.exp(Z_nu) / (1 + np.exp(Z_nu))\n",
    "Y = rng.binomial(1, prob)\n",
    "H, S = GLMM(GR._family,\n",
    "      Design(X),\n",
    "     Design(Z),\n",
    "     Y,\n",
    "     np.ones(n),\n",
    "     GR.control,\n",
    "     np.identity(q))"
   ]
  },
  {
   "cell_type": "code",
   "execution_count": 10,
   "id": "e9f85160-1010-4082-91a1-882de1d2dd9b",
   "metadata": {},
   "outputs": [
    {
     "name": "stdout",
     "output_type": "stream",
     "text": [
      "0.004540083236893886\n"
     ]
    },
    {
     "data": {
      "text/plain": [
       "0.9801980198019802"
      ]
     },
     "execution_count": 10,
     "metadata": {},
     "output_type": "execute_result"
    },
    {
     "data": {
      "image/png": "[encoded data removed]",
      "text/plain": [
       "<Figure size 640x480 with 1 Axes>"
      ]
     },
     "metadata": {},
     "output_type": "display_data"
    }
   ],
   "source": [
    "import matplotlib.pyplot as plt\n",
    "fig, ax = plt.subplots()\n",
    "print(np.std(H[:,1]))\n",
    "ax.hist(H[:,1], bins=30, density=True)\n",
    "H_mean = np.mean(H, 0)\n",
    "H_std = np.std(H, 0)\n",
    "U = H_mean + 2 * H_std\n",
    "L = H_mean - 2 * H_std\n",
    "np.mean((L < 0) * (U > 0))"
   ]
  },
  {
   "cell_type": "code",
   "execution_count": 9,
   "id": "c543a842-abc4-49b8-870c-8ae74b0a9255",
   "metadata": {},
   "outputs": [
    {
     "name": "stdout",
     "output_type": "stream",
     "text": [
      "0.01297671935102202\n"
     ]
    },
    {
     "data": {
      "text/plain": [
       "<matplotlib.lines.Line2D at 0x2ae932140>"
      ]
     },
     "execution_count": 9,
     "metadata": {},
     "output_type": "execute_result"
    },
    {
     "data": {
      "image/png": "[encoded data removed]",
      "text/plain": [
       "<Figure size 640x480 with 1 Axes>"
      ]
     },
     "metadata": {},
     "output_type": "display_data"
    }
   ],
   "source": [
    "fig, ax = plt.subplots()\n",
    "print(np.std(S))\n",
    "ax.hist(np.log(S), bins=30, density=True)\n",
    "ax.axvline(np.log(1/q), ls='--', c='k')"
   ]
  },
  {
   "cell_type": "code",
   "execution_count": null,
   "id": "f3743dbc-e61b-49db-b9e8-3848ad031a68",
   "metadata": {},
   "outputs": [],
   "source": []
  }
 ],
 "metadata": {
  "kernelspec": {
   "display_name": "Python 3 (ipykernel)",
   "language": "python",
   "name": "python3"
  },
  "language_info": {
   "codemirror_mode": {
    "name": "ipython",
    "version": 3
   },
   "file_extension": ".py",
   "mimetype": "text/x-python",
   "name": "python",
   "nbconvert_exporter": "python",
   "pygments_lexer": "ipython3",
   "version": "3.10.12"
  }
 },
 "nbformat": 4,
 "nbformat_minor": 5
}

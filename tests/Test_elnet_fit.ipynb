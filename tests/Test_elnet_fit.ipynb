{
 "cells": [
  {
   "cell_type": "code",
   "execution_count": 1,
   "id": "1f95668d-4100-428b-9cfd-0d09a0387d6f",
   "metadata": {},
   "outputs": [],
   "source": [
    "import numpy as np\n",
    "from glmnet._elnet_fit import _elnet_fit, _elnet_args"
   ]
  },
  {
   "cell_type": "code",
   "execution_count": 2,
   "id": "ffab9717-03bf-470b-a46e-7899bc9e1368",
   "metadata": {},
   "outputs": [],
   "source": [
    "n, p = 3, 2\n",
    "rng = np.random.default_rng(0)\n"
   ]
  },
  {
   "cell_type": "code",
   "execution_count": 3,
   "id": "f50f61a7-1c2b-4685-b7d0-7829d584a578",
   "metadata": {},
   "outputs": [],
   "source": [
    "X = rng.normal(size=(n,p))\n",
    "y = rng.normal(size=n)\n",
    "lambda_val = 2 * np.sqrt(n)\n",
    "weights = np.ones(n)"
   ]
  },
  {
   "cell_type": "code",
   "execution_count": 4,
   "id": "0d04137e-7c10-4dd7-b471-b6b92017d7e8",
   "metadata": {},
   "outputs": [
    {
     "data": {
      "text/plain": [
       "({'alm0': 0.0,\n",
       "  'almc': 3.4641016151377544,\n",
       "  'alpha': 1.0,\n",
       "  'm': 1,\n",
       "  'no': 3,\n",
       "  'ni': 2,\n",
       "  'x': array([[ 0.12573022, -0.13210486],\n",
       "         [ 0.64042265,  0.10490012],\n",
       "         [-0.53566937,  0.36159505]]),\n",
       "  'r': array([[ 0.43466668],\n",
       "         [ 0.31569365],\n",
       "         [-0.23457841]]),\n",
       "  'xv': array([[0.],\n",
       "         [0.]]),\n",
       "  'v': array([[0.33333333],\n",
       "         [0.33333333],\n",
       "         [0.33333333]]),\n",
       "  'intr': 1,\n",
       "  'ju': array([[1],\n",
       "         [1]], dtype=int32),\n",
       "  'vp': array([[1.],\n",
       "         [1.]]),\n",
       "  'cl': array([[-1.e+10, -1.e+10],\n",
       "         [ 1.e+10,  1.e+10]]),\n",
       "  'nx': 2,\n",
       "  'thr': 1e-07,\n",
       "  'maxit': 100000,\n",
       "  'a': array([[0.],\n",
       "         [0.]]),\n",
       "  'aint': 0.0,\n",
       "  'g': array([[0.],\n",
       "         [0.]]),\n",
       "  'ia': array([[0],\n",
       "         [0]], dtype=int32),\n",
       "  'iy': array([[0],\n",
       "         [0]], dtype=int32),\n",
       "  'iz': 0,\n",
       "  'mm': array([[0],\n",
       "         [0]], dtype=int32),\n",
       "  'nino': 0,\n",
       "  'rsqc': 0.0,\n",
       "  'nlp': 0,\n",
       "  'jerr': 0},\n",
       " 0.7648429235651484)"
      ]
     },
     "execution_count": 4,
     "metadata": {},
     "output_type": "execute_result"
    }
   ],
   "source": [
    "_elnet_args(X, \n",
    "           y,\n",
    "           weights,\n",
    "           lambda_val)"
   ]
  },
  {
   "cell_type": "markdown",
   "id": "1570008f-8daf-4fe2-b351-9d5dc18d7d2d",
   "metadata": {},
   "source": [
    "## Compare args to one of the test pickles"
   ]
  },
  {
   "cell_type": "code",
   "execution_count": 5,
   "id": "7ab0c172-4181-4149-bc9e-7644c60c0c1e",
   "metadata": {},
   "outputs": [],
   "source": [
    "import pickle\n",
    "args = pickle.loads(open('../glmnet/test_data/test_001.pickle', 'rb').read())['args']"
   ]
  },
  {
   "cell_type": "code",
   "execution_count": 6,
   "id": "2757b563-56ef-4b1f-909a-e3fd8e2f356f",
   "metadata": {},
   "outputs": [
    {
     "data": {
      "text/plain": [
       "dict_keys(['alm0', 'almc', 'alpha', 'm', 'no', 'ni', 'x', 'r', 'xv', 'v', 'intr', 'ju', 'vp', 'cl', 'nx', 'thr', 'maxit', 'a', 'aint', 'g', 'ia', 'iy', 'iz', 'mm', 'nino', 'rsqc', 'nlp', 'jerr'])"
      ]
     },
     "execution_count": 6,
     "metadata": {},
     "output_type": "execute_result"
    }
   ],
   "source": [
    "args.keys()\n"
   ]
  },
  {
   "cell_type": "code",
   "execution_count": 7,
   "id": "51c28df4-3485-444d-b77e-4e4868ea92ca",
   "metadata": {},
   "outputs": [],
   "source": [
    "A, _ = _elnet_args(args['x'],\n",
    "                args['r'].reshape(-1),\n",
    "                args['v'].reshape(-1),\n",
    "                args['almc'])"
   ]
  },
  {
   "cell_type": "code",
   "execution_count": 8,
   "id": "9b8ad6b6-3cff-49b2-981b-2d88f6abfba7",
   "metadata": {},
   "outputs": [],
   "source": [
    "for k in A.keys():\n",
    "    if np.asarray(A[k]).shape != np.asarray(args[k]).shape:\n",
    "        print(k, 'shape')\n",
    "    if np.asarray(A[k]).dtype != np.asarray(args[k]).dtype:\n",
    "        print(k, 'dtype', np.asarray(A[k]).dtype, np.asarray(args[k]).dtype)\n",
    "    if type(A[k]) != type(args[k]):\n",
    "        print(k, type(A[k]), type(args[k]))"
   ]
  },
  {
   "cell_type": "code",
   "execution_count": 9,
   "id": "8204f7e3-af93-40e3-9b32-08b6ce417ae5",
   "metadata": {},
   "outputs": [
    {
     "data": {
      "text/plain": [
       "{'a0': 0.5157819241507957,\n",
       " 'beta': <1x2 sparse array of type '<class 'numpy.float64'>'\n",
       " \twith 0 stored elements in Compressed Sparse Column format>,\n",
       " 'df': 0,\n",
       " 'dim': (1, 2),\n",
       " 'lambda_val': 3.4641016151377544,\n",
       " 'dev.ratio': 0.26603099328069707,\n",
       " 'nulldev': 0.7648429235651484,\n",
       " 'npasses': 3,\n",
       " 'jerr': 0,\n",
       " 'offset': False,\n",
       " 'nobs': 3}"
      ]
     },
     "execution_count": 9,
     "metadata": {},
     "output_type": "execute_result"
    }
   ],
   "source": [
    "_elnet_fit(X, \n",
    "           y,\n",
    "           weights,\n",
    "           lambda_val)"
   ]
  },
  {
   "cell_type": "code",
   "execution_count": 10,
   "id": "05b8d746-9d67-4463-8eda-89ca30f2e656",
   "metadata": {},
   "outputs": [
    {
     "data": {
      "text/plain": [
       "(int, int)"
      ]
     },
     "execution_count": 10,
     "metadata": {},
     "output_type": "execute_result"
    }
   ],
   "source": [
    "type(A['nino']), type(args['nino'])"
   ]
  },
  {
   "cell_type": "code",
   "execution_count": 11,
   "id": "93a8f0ea-c278-4797-8d7d-e683fb982d0a",
   "metadata": {},
   "outputs": [
    {
     "data": {
      "text/plain": [
       "{'a0': 4.898453781583432e-05,\n",
       " 'beta': <1x20 sparse array of type '<class 'numpy.float64'>'\n",
       " \twith 0 stored elements in Compressed Sparse Column format>,\n",
       " 'df': 0,\n",
       " 'dim': (1, 20),\n",
       " 'lambda_val': 0.02431890470687475,\n",
       " 'dev.ratio': 2.3994849450309023e-09,\n",
       " 'nulldev': 7.689732574110723e-07,\n",
       " 'npasses': 1,\n",
       " 'jerr': 0,\n",
       " 'offset': False,\n",
       " 'nobs': 200}"
      ]
     },
     "execution_count": 11,
     "metadata": {},
     "output_type": "execute_result"
    }
   ],
   "source": [
    "_elnet_fit(args['x'],\n",
    "           args['r'].reshape(-1),\n",
    "           args['v'].reshape(-1),\n",
    "           args['almc'])"
   ]
  },
  {
   "cell_type": "code",
   "execution_count": 12,
   "id": "143133d0-bdf7-4c0f-a024-baa44ad4380f",
   "metadata": {},
   "outputs": [
    {
     "data": {
      "text/plain": [
       "1"
      ]
     },
     "execution_count": 12,
     "metadata": {},
     "output_type": "execute_result"
    }
   ],
   "source": [
    "args['m']"
   ]
  }
 ],
 "metadata": {
  "kernelspec": {
   "display_name": "Python 3 (ipykernel)",
   "language": "python",
   "name": "python3"
  },
  "language_info": {
   "codemirror_mode": {
    "name": "ipython",
    "version": 3
   },
   "file_extension": ".py",
   "mimetype": "text/x-python",
   "name": "python",
   "nbconvert_exporter": "python",
   "pygments_lexer": "ipython3",
   "version": "3.10.12"
  }
 },
 "nbformat": 4,
 "nbformat_minor": 5
}

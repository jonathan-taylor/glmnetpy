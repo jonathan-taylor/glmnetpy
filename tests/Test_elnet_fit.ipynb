{
 "cells": [
  {
   "cell_type": "code",
   "execution_count": 5,
   "id": "1f95668d-4100-428b-9cfd-0d09a0387d6f",
   "metadata": {},
   "outputs": [],
   "source": [
    "import numpy as np\n",
    "from glmnet._elnet_fit import _elnet_fit"
   ]
  },
  {
   "cell_type": "code",
   "execution_count": 6,
   "id": "ffab9717-03bf-470b-a46e-7899bc9e1368",
   "metadata": {},
   "outputs": [],
   "source": [
    "n, p = 3, 2\n",
    "rng = np.random.default_rng(0)\n"
   ]
  },
  {
   "cell_type": "code",
   "execution_count": 7,
   "id": "f50f61a7-1c2b-4685-b7d0-7829d584a578",
   "metadata": {},
   "outputs": [],
   "source": [
    "X = rng.normal(size=(n,p))\n",
    "y = rng.normal(size=n)\n",
    "lambda_val = 2 * np.sqrt(n)\n",
    "weights = np.ones(n)"
   ]
  },
  {
   "cell_type": "code",
   "execution_count": 8,
   "id": "0d04137e-7c10-4dd7-b471-b6b92017d7e8",
   "metadata": {},
   "outputs": [
    {
     "ename": "TypeError",
     "evalue": "wls(): incompatible function arguments. The following argument types are supported:\n    1. (alm0: float, almc: float, alpha: float, m: int, no: int, ni: int, x: numpy.ndarray[numpy.float64[m, n], flags.writeable, flags.f_contiguous], r: numpy.ndarray[numpy.float64[m, 1], flags.writeable], xv: numpy.ndarray[numpy.float64[m, 1], flags.writeable], v: numpy.ndarray[numpy.float64[m, 1], flags.writeable], intr: int, ju: numpy.ndarray[numpy.int32[m, 1], flags.writeable], vp: numpy.ndarray[numpy.float64[m, 1], flags.writeable], cl: numpy.ndarray[numpy.float64[m, n], flags.writeable, flags.f_contiguous], nx: int, thr: float, maxit: int, a: numpy.ndarray[numpy.float64[m, 1], flags.writeable], aint: float, g: numpy.ndarray[numpy.float64[m, 1], flags.writeable], ia: numpy.ndarray[numpy.int32[m, 1], flags.writeable], iy: numpy.ndarray[numpy.int32[m, 1], flags.writeable], iz: int, mm: numpy.ndarray[numpy.int32[m, 1], flags.writeable], nino: int, rsqc: float, nlp: int, jerr: int) -> dict\n\nInvoked with: kwargs: alm0=0.0, almc=3.4641016151377544, alpha=1.0, m=1, no=3, ni=2, x=array([[ 0.12573022, -0.13210486],\n       [ 0.64042265,  0.10490012],\n       [-0.53566937,  0.36159505]]), r=array([[ 0.43466668],\n       [ 0.31569365],\n       [-0.23457841]]), xv=array([[0.],\n       [0.]]), v=array([[0.33333333],\n       [0.33333333],\n       [0.33333333]]), intr=1, ju=array([[1],\n       [1]]), vp=array([[1.],\n       [1.]]), cl=array([[-1.e+10, -1.e+10],\n       [ 1.e+10,  1.e+10]]), nx=2, thr=1e-07, maxit=100000, a=array([[0.],\n       [0.]]), aint=0.0, g=array([[0.],\n       [0.]]), ia=array([[0],\n       [0]]), iy=array([[0],\n       [0]]), iz=0, mm=array([[0],\n       [0]]), nino=0, rsqc=0.0, nlp=0, jerr=0",
     "output_type": "error",
     "traceback": [
      "\u001b[0;31m---------------------------------------------------------------------------\u001b[0m",
      "\u001b[0;31mTypeError\u001b[0m                                 Traceback (most recent call last)",
      "Cell \u001b[0;32mIn[8], line 1\u001b[0m\n\u001b[0;32m----> 1\u001b[0m \u001b[43m_elnet_fit\u001b[49m\u001b[43m(\u001b[49m\u001b[43mX\u001b[49m\u001b[43m,\u001b[49m\u001b[43m \u001b[49m\n\u001b[1;32m      2\u001b[0m \u001b[43m           \u001b[49m\u001b[43my\u001b[49m\u001b[43m,\u001b[49m\n\u001b[1;32m      3\u001b[0m \u001b[43m           \u001b[49m\u001b[43mweights\u001b[49m\u001b[43m,\u001b[49m\n\u001b[1;32m      4\u001b[0m \u001b[43m           \u001b[49m\u001b[43mlambda_val\u001b[49m\u001b[43m)\u001b[49m\n",
      "File \u001b[0;32m~/git-repos/pyglmnet/glmnet/_elnet_fit.py:287\u001b[0m, in \u001b[0;36m_elnet_fit\u001b[0;34m(X, y, weights, lambda_val, alpha, intercept, thresh, maxit, penalty_factor, exclude, lower_limits, upper_limits, warm, save_fit, internal_params, from_glmnet_fit)\u001b[0m\n\u001b[1;32m    256\u001b[0m     wls_fit \u001b[38;5;241m=\u001b[39m sparse_wls(alm0\u001b[38;5;241m=\u001b[39malm0,\n\u001b[1;32m    257\u001b[0m                          almc\u001b[38;5;241m=\u001b[39malmc,\n\u001b[1;32m    258\u001b[0m                          alpha\u001b[38;5;241m=\u001b[39malpha,\n\u001b[0;32m   (...)\u001b[0m\n\u001b[1;32m    284\u001b[0m                          nlp\u001b[38;5;241m=\u001b[39mnlp,\n\u001b[1;32m    285\u001b[0m                          jerr\u001b[38;5;241m=\u001b[39mjerr)\n\u001b[1;32m    286\u001b[0m \u001b[38;5;28;01melse\u001b[39;00m:\n\u001b[0;32m--> 287\u001b[0m     wls_fit \u001b[38;5;241m=\u001b[39m \u001b[43mdense_wls\u001b[49m\u001b[43m(\u001b[49m\u001b[43malm0\u001b[49m\u001b[38;5;241;43m=\u001b[39;49m\u001b[43malm0\u001b[49m\u001b[43m,\u001b[49m\n\u001b[1;32m    288\u001b[0m \u001b[43m                        \u001b[49m\u001b[43malmc\u001b[49m\u001b[38;5;241;43m=\u001b[39;49m\u001b[43malmc\u001b[49m\u001b[43m,\u001b[49m\n\u001b[1;32m    289\u001b[0m \u001b[43m                        \u001b[49m\u001b[43malpha\u001b[49m\u001b[38;5;241;43m=\u001b[39;49m\u001b[43malpha\u001b[49m\u001b[43m,\u001b[49m\n\u001b[1;32m    290\u001b[0m \u001b[43m                        \u001b[49m\u001b[43mm\u001b[49m\u001b[38;5;241;43m=\u001b[39;49m\u001b[43mm\u001b[49m\u001b[43m,\u001b[49m\n\u001b[1;32m    291\u001b[0m \u001b[43m                        \u001b[49m\u001b[43mno\u001b[49m\u001b[38;5;241;43m=\u001b[39;49m\u001b[43mnobs\u001b[49m\u001b[43m,\u001b[49m\n\u001b[1;32m    292\u001b[0m \u001b[43m                        \u001b[49m\u001b[43mni\u001b[49m\u001b[38;5;241;43m=\u001b[39;49m\u001b[43mnvars\u001b[49m\u001b[43m,\u001b[49m\n\u001b[1;32m    293\u001b[0m \u001b[43m                        \u001b[49m\u001b[43mx\u001b[49m\u001b[38;5;241;43m=\u001b[39;49m\u001b[43mX\u001b[49m\u001b[43m,\u001b[49m\n\u001b[1;32m    294\u001b[0m \u001b[43m                        \u001b[49m\u001b[43mr\u001b[49m\u001b[38;5;241;43m=\u001b[39;49m\u001b[43mr\u001b[49m\u001b[43m,\u001b[49m\n\u001b[1;32m    295\u001b[0m \u001b[43m                        \u001b[49m\u001b[43mxv\u001b[49m\u001b[38;5;241;43m=\u001b[39;49m\u001b[43mxv\u001b[49m\u001b[43m,\u001b[49m\n\u001b[1;32m    296\u001b[0m \u001b[43m                        \u001b[49m\u001b[43mv\u001b[49m\u001b[38;5;241;43m=\u001b[39;49m\u001b[43mv\u001b[49m\u001b[43m,\u001b[49m\n\u001b[1;32m    297\u001b[0m \u001b[43m                        \u001b[49m\u001b[43mintr\u001b[49m\u001b[38;5;241;43m=\u001b[39;49m\u001b[43mintr\u001b[49m\u001b[43m,\u001b[49m\n\u001b[1;32m    298\u001b[0m \u001b[43m                        \u001b[49m\u001b[43mju\u001b[49m\u001b[38;5;241;43m=\u001b[39;49m\u001b[43mju\u001b[49m\u001b[43m,\u001b[49m\n\u001b[1;32m    299\u001b[0m \u001b[43m                        \u001b[49m\u001b[43mvp\u001b[49m\u001b[38;5;241;43m=\u001b[39;49m\u001b[43mvp\u001b[49m\u001b[43m,\u001b[49m\n\u001b[1;32m    300\u001b[0m \u001b[43m                        \u001b[49m\u001b[43mcl\u001b[49m\u001b[38;5;241;43m=\u001b[39;49m\u001b[43mcl\u001b[49m\u001b[43m,\u001b[49m\n\u001b[1;32m    301\u001b[0m \u001b[43m                        \u001b[49m\u001b[43mnx\u001b[49m\u001b[38;5;241;43m=\u001b[39;49m\u001b[43mnx\u001b[49m\u001b[43m,\u001b[49m\n\u001b[1;32m    302\u001b[0m \u001b[43m                        \u001b[49m\u001b[43mthr\u001b[49m\u001b[38;5;241;43m=\u001b[39;49m\u001b[43mthr\u001b[49m\u001b[43m,\u001b[49m\n\u001b[1;32m    303\u001b[0m \u001b[43m                        \u001b[49m\u001b[43mmaxit\u001b[49m\u001b[38;5;241;43m=\u001b[39;49m\u001b[43mmaxit\u001b[49m\u001b[43m,\u001b[49m\n\u001b[1;32m    304\u001b[0m \u001b[43m                        \u001b[49m\u001b[43ma\u001b[49m\u001b[38;5;241;43m=\u001b[39;49m\u001b[43ma_new\u001b[49m\u001b[43m,\u001b[49m\n\u001b[1;32m    305\u001b[0m \u001b[43m                        \u001b[49m\u001b[43maint\u001b[49m\u001b[38;5;241;43m=\u001b[39;49m\u001b[43maint\u001b[49m\u001b[43m,\u001b[49m\n\u001b[1;32m    306\u001b[0m \u001b[43m                        \u001b[49m\u001b[43mg\u001b[49m\u001b[38;5;241;43m=\u001b[39;49m\u001b[43mg\u001b[49m\u001b[43m,\u001b[49m\n\u001b[1;32m    307\u001b[0m \u001b[43m                        \u001b[49m\u001b[43mia\u001b[49m\u001b[38;5;241;43m=\u001b[39;49m\u001b[43mia\u001b[49m\u001b[43m,\u001b[49m\n\u001b[1;32m    308\u001b[0m \u001b[43m                        \u001b[49m\u001b[43miy\u001b[49m\u001b[38;5;241;43m=\u001b[39;49m\u001b[43miy\u001b[49m\u001b[43m,\u001b[49m\n\u001b[1;32m    309\u001b[0m \u001b[43m                        \u001b[49m\u001b[43miz\u001b[49m\u001b[38;5;241;43m=\u001b[39;49m\u001b[43miz\u001b[49m\u001b[43m,\u001b[49m\n\u001b[1;32m    310\u001b[0m \u001b[43m                        \u001b[49m\u001b[43mmm\u001b[49m\u001b[38;5;241;43m=\u001b[39;49m\u001b[43mmm\u001b[49m\u001b[43m,\u001b[49m\n\u001b[1;32m    311\u001b[0m \u001b[43m                        \u001b[49m\u001b[43mnino\u001b[49m\u001b[38;5;241;43m=\u001b[39;49m\u001b[43mnino\u001b[49m\u001b[43m,\u001b[49m\n\u001b[1;32m    312\u001b[0m \u001b[43m                        \u001b[49m\u001b[43mrsqc\u001b[49m\u001b[38;5;241;43m=\u001b[39;49m\u001b[43mrsqc\u001b[49m\u001b[43m,\u001b[49m\n\u001b[1;32m    313\u001b[0m \u001b[43m                        \u001b[49m\u001b[43mnlp\u001b[49m\u001b[38;5;241;43m=\u001b[39;49m\u001b[43mnlp\u001b[49m\u001b[43m,\u001b[49m\n\u001b[1;32m    314\u001b[0m \u001b[43m                        \u001b[49m\u001b[43mjerr\u001b[49m\u001b[38;5;241;43m=\u001b[39;49m\u001b[43mjerr\u001b[49m\u001b[43m)\u001b[49m\n\u001b[1;32m    317\u001b[0m \u001b[38;5;66;03m# if error code > 0, fatal error occurred: stop immediately\u001b[39;00m\n\u001b[1;32m    318\u001b[0m \u001b[38;5;66;03m# if error code < 0, non-fatal error occurred: return error code\u001b[39;00m\n\u001b[1;32m    320\u001b[0m \u001b[38;5;28;01mif\u001b[39;00m wls_fit[\u001b[38;5;124m'\u001b[39m\u001b[38;5;124mjerr\u001b[39m\u001b[38;5;124m'\u001b[39m] \u001b[38;5;241m!=\u001b[39m \u001b[38;5;241m0\u001b[39m:\n",
      "\u001b[0;31mTypeError\u001b[0m: wls(): incompatible function arguments. The following argument types are supported:\n    1. (alm0: float, almc: float, alpha: float, m: int, no: int, ni: int, x: numpy.ndarray[numpy.float64[m, n], flags.writeable, flags.f_contiguous], r: numpy.ndarray[numpy.float64[m, 1], flags.writeable], xv: numpy.ndarray[numpy.float64[m, 1], flags.writeable], v: numpy.ndarray[numpy.float64[m, 1], flags.writeable], intr: int, ju: numpy.ndarray[numpy.int32[m, 1], flags.writeable], vp: numpy.ndarray[numpy.float64[m, 1], flags.writeable], cl: numpy.ndarray[numpy.float64[m, n], flags.writeable, flags.f_contiguous], nx: int, thr: float, maxit: int, a: numpy.ndarray[numpy.float64[m, 1], flags.writeable], aint: float, g: numpy.ndarray[numpy.float64[m, 1], flags.writeable], ia: numpy.ndarray[numpy.int32[m, 1], flags.writeable], iy: numpy.ndarray[numpy.int32[m, 1], flags.writeable], iz: int, mm: numpy.ndarray[numpy.int32[m, 1], flags.writeable], nino: int, rsqc: float, nlp: int, jerr: int) -> dict\n\nInvoked with: kwargs: alm0=0.0, almc=3.4641016151377544, alpha=1.0, m=1, no=3, ni=2, x=array([[ 0.12573022, -0.13210486],\n       [ 0.64042265,  0.10490012],\n       [-0.53566937,  0.36159505]]), r=array([[ 0.43466668],\n       [ 0.31569365],\n       [-0.23457841]]), xv=array([[0.],\n       [0.]]), v=array([[0.33333333],\n       [0.33333333],\n       [0.33333333]]), intr=1, ju=array([[1],\n       [1]]), vp=array([[1.],\n       [1.]]), cl=array([[-1.e+10, -1.e+10],\n       [ 1.e+10,  1.e+10]]), nx=2, thr=1e-07, maxit=100000, a=array([[0.],\n       [0.]]), aint=0.0, g=array([[0.],\n       [0.]]), ia=array([[0],\n       [0]]), iy=array([[0],\n       [0]]), iz=0, mm=array([[0],\n       [0]]), nino=0, rsqc=0.0, nlp=0, jerr=0"
     ]
    }
   ],
   "source": [
    "_elnet_fit(X, \n",
    "           y,\n",
    "           weights,\n",
    "           lambda_val)"
   ]
  },
  {
   "cell_type": "code",
   "execution_count": null,
   "id": "7ab0c172-4181-4149-bc9e-7644c60c0c1e",
   "metadata": {},
   "outputs": [],
   "source": []
  }
 ],
 "metadata": {
  "kernelspec": {
   "display_name": "Python 3 (ipykernel)",
   "language": "python",
   "name": "python3"
  },
  "language_info": {
   "codemirror_mode": {
    "name": "ipython",
    "version": 3
   },
   "file_extension": ".py",
   "mimetype": "text/x-python",
   "name": "python",
   "nbconvert_exporter": "python",
   "pygments_lexer": "ipython3",
   "version": "3.10.12"
  }
 },
 "nbformat": 4,
 "nbformat_minor": 5
}

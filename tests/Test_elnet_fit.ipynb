{
 "cells": [
  {
   "cell_type": "code",
   "execution_count": 1,
   "id": "1f95668d-4100-428b-9cfd-0d09a0387d6f",
   "metadata": {},
   "outputs": [],
   "source": [
    "import numpy as np\n",
    "import scipy.sparse\n",
    "from glmnet.elnet_fit import elnet_fit, _elnet_args\n",
    "from glmnet.glmnet_fit import glmnet_fit"
   ]
  },
  {
   "cell_type": "code",
   "execution_count": 2,
   "id": "ffab9717-03bf-470b-a46e-7899bc9e1368",
   "metadata": {},
   "outputs": [],
   "source": [
    "n, p = 3, 2\n",
    "rng = np.random.default_rng(0)\n"
   ]
  },
  {
   "cell_type": "code",
   "execution_count": 3,
   "id": "f50f61a7-1c2b-4685-b7d0-7829d584a578",
   "metadata": {},
   "outputs": [],
   "source": [
    "X = rng.normal(size=(n,p))\n",
    "y = rng.normal(size=n)\n",
    "lambda_val = 2 * np.sqrt(n)\n",
    "weights = np.ones(n)"
   ]
  },
  {
   "cell_type": "code",
   "execution_count": 4,
   "id": "0d04137e-7c10-4dd7-b471-b6b92017d7e8",
   "metadata": {},
   "outputs": [
    {
     "data": {
      "text/plain": [
       "({'alm0': 0.0,\n",
       "  'almc': 3.4641016151377544,\n",
       "  'alpha': 1.0,\n",
       "  'm': 1,\n",
       "  'no': 3,\n",
       "  'ni': 2,\n",
       "  'x': array([[ 0.12573022, -0.13210486],\n",
       "         [ 0.64042265,  0.10490012],\n",
       "         [-0.53566937,  0.36159505]]),\n",
       "  'r': array([[ 0.43466668],\n",
       "         [ 0.31569365],\n",
       "         [-0.23457841]]),\n",
       "  'xv': array([[0.],\n",
       "         [0.]]),\n",
       "  'v': array([[0.33333333],\n",
       "         [0.33333333],\n",
       "         [0.33333333]]),\n",
       "  'intr': 1,\n",
       "  'ju': array([[1],\n",
       "         [1]], dtype=int32),\n",
       "  'vp': array([[1.],\n",
       "         [1.]]),\n",
       "  'cl': array([[-1.e+10, -1.e+10],\n",
       "         [ 1.e+10,  1.e+10]]),\n",
       "  'nx': 2,\n",
       "  'thr': 1e-07,\n",
       "  'maxit': 100000,\n",
       "  'a': array([[0.],\n",
       "         [0.]]),\n",
       "  'aint': 0.0,\n",
       "  'g': array([[0.],\n",
       "         [0.]]),\n",
       "  'ia': array([[0],\n",
       "         [0]], dtype=int32),\n",
       "  'iy': array([[0],\n",
       "         [0]], dtype=int32),\n",
       "  'iz': 0,\n",
       "  'mm': array([[0],\n",
       "         [0]], dtype=int32),\n",
       "  'nino': 0,\n",
       "  'rsqc': 0.0,\n",
       "  'nlp': 0,\n",
       "  'jerr': 0},\n",
       " 0.7648429235651484)"
      ]
     },
     "execution_count": 4,
     "metadata": {},
     "output_type": "execute_result"
    }
   ],
   "source": [
    "_elnet_args(X, \n",
    "           y,\n",
    "           weights,\n",
    "           lambda_val)"
   ]
  },
  {
   "cell_type": "markdown",
   "id": "1570008f-8daf-4fe2-b351-9d5dc18d7d2d",
   "metadata": {},
   "source": [
    "## Compare args to one of the test pickles"
   ]
  },
  {
   "cell_type": "code",
   "execution_count": 5,
   "id": "7ab0c172-4181-4149-bc9e-7644c60c0c1e",
   "metadata": {},
   "outputs": [],
   "source": [
    "import pickle\n",
    "args = pickle.loads(open('../glmnet/test_data/test_001.pickle', 'rb').read())['args']"
   ]
  },
  {
   "cell_type": "code",
   "execution_count": 6,
   "id": "2757b563-56ef-4b1f-909a-e3fd8e2f356f",
   "metadata": {},
   "outputs": [
    {
     "data": {
      "text/plain": [
       "dict_keys(['alm0', 'almc', 'alpha', 'm', 'no', 'ni', 'x', 'r', 'xv', 'v', 'intr', 'ju', 'vp', 'cl', 'nx', 'thr', 'maxit', 'a', 'aint', 'g', 'ia', 'iy', 'iz', 'mm', 'nino', 'rsqc', 'nlp', 'jerr'])"
      ]
     },
     "execution_count": 6,
     "metadata": {},
     "output_type": "execute_result"
    }
   ],
   "source": [
    "args.keys()\n"
   ]
  },
  {
   "cell_type": "code",
   "execution_count": 7,
   "id": "51c28df4-3485-444d-b77e-4e4868ea92ca",
   "metadata": {},
   "outputs": [],
   "source": [
    "A, _ = _elnet_args(args['x'],\n",
    "                args['r'].reshape(-1),\n",
    "                args['v'].reshape(-1),\n",
    "                args['almc'])"
   ]
  },
  {
   "cell_type": "code",
   "execution_count": 8,
   "id": "9b8ad6b6-3cff-49b2-981b-2d88f6abfba7",
   "metadata": {},
   "outputs": [],
   "source": [
    "for k in A.keys():\n",
    "    if np.asarray(A[k]).shape != np.asarray(args[k]).shape:\n",
    "        print(k, 'shape')\n",
    "    if np.asarray(A[k]).dtype != np.asarray(args[k]).dtype:\n",
    "        print(k, 'dtype', np.asarray(A[k]).dtype, np.asarray(args[k]).dtype)\n",
    "    if type(A[k]) != type(args[k]):\n",
    "        print(k, type(A[k]), type(args[k]))"
   ]
  },
  {
   "cell_type": "code",
   "execution_count": 9,
   "id": "8204f7e3-af93-40e3-9b32-08b6ce417ae5",
   "metadata": {},
   "outputs": [
    {
     "data": {
      "text/plain": [
       "ElNetResult(a0=0.5157819241507957, beta=<1x2 sparse array of type '<class 'numpy.float64'>'\n",
       "\twith 0 stored elements in Compressed Sparse Column format>, df=0, dim=(1, 2), lambda_val=3.4641016151377544, dev_ratio=0.26603099328069707, nulldev=0.7648429235651484, npasses=3, jerr=0, nobs=3, warm_fit={'almc': 3.4641016151377544, 'r': array([ 0.26273937,  0.14376635, -0.40650572]), 'xv': array([0., 0.]), 'ju': array([1, 1], dtype=int32), 'vp': array([1., 1.]), 'cl': array([[-1.e+30, -1.e+30],\n",
       "       [ 1.e+30,  1.e+30]]), 'nx': 2, 'a': array([0., 0.]), 'aint': 0.5157819241507957, 'g': array([0.34285817, 0.1666185 ]), 'ia': array([0, 0], dtype=int32), 'iy': array([0, 0], dtype=int32), 'iz': 1, 'mm': array([0, 0], dtype=int32), 'nino': 0, 'rsqc': 0.26603099328069707, 'nlp': 3, 'm': 1, 'no': 3, 'ni': 2})"
      ]
     },
     "execution_count": 9,
     "metadata": {},
     "output_type": "execute_result"
    }
   ],
   "source": [
    "elnet_fit(X, \n",
    "           y,\n",
    "           weights,\n",
    "           lambda_val, save_fit=True)"
   ]
  },
  {
   "cell_type": "code",
   "execution_count": 10,
   "id": "05b8d746-9d67-4463-8eda-89ca30f2e656",
   "metadata": {},
   "outputs": [
    {
     "data": {
      "text/plain": [
       "(int, int)"
      ]
     },
     "execution_count": 10,
     "metadata": {},
     "output_type": "execute_result"
    }
   ],
   "source": [
    "type(A['nino']), type(args['nino'])"
   ]
  },
  {
   "cell_type": "code",
   "execution_count": 11,
   "id": "93a8f0ea-c278-4797-8d7d-e683fb982d0a",
   "metadata": {},
   "outputs": [
    {
     "data": {
      "text/plain": [
       "ElNetResult(a0=4.898453781583432e-05, beta=<1x20 sparse array of type '<class 'numpy.float64'>'\n",
       "\twith 0 stored elements in Compressed Sparse Column format>, df=0, dim=(1, 20), lambda_val=0.02431890470687475, dev_ratio=2.3994849450309023e-09, nulldev=7.689732574110723e-07, npasses=1, jerr=0, nobs=200, warm_fit={})"
      ]
     },
     "execution_count": 11,
     "metadata": {},
     "output_type": "execute_result"
    }
   ],
   "source": [
    "elnet_fit(args['x'],\n",
    "           args['r'].reshape(-1),\n",
    "           args['v'].reshape(-1),\n",
    "           args['almc'])"
   ]
  },
  {
   "cell_type": "code",
   "execution_count": 12,
   "id": "143133d0-bdf7-4c0f-a024-baa44ad4380f",
   "metadata": {},
   "outputs": [
    {
     "data": {
      "text/plain": [
       "1"
      ]
     },
     "execution_count": 12,
     "metadata": {},
     "output_type": "execute_result"
    }
   ],
   "source": [
    "args['m']"
   ]
  },
  {
   "cell_type": "code",
   "execution_count": 13,
   "id": "bfeac3fd-b3a1-406f-943d-0ca8fa969552",
   "metadata": {},
   "outputs": [],
   "source": [
    "Xs = scipy.sparse.csc_array(X).tocsc()"
   ]
  },
  {
   "cell_type": "code",
   "execution_count": 14,
   "id": "b0754544-d28b-47f1-a3c1-77f5fb3c0922",
   "metadata": {},
   "outputs": [
    {
     "data": {
      "text/plain": [
       "ElNetResult(a0=0.5157819241507957, beta=<1x2 sparse array of type '<class 'numpy.float64'>'\n",
       "\twith 1 stored elements in Compressed Sparse Column format>, df=1, dim=(1, 2), lambda_val=3.4641016151377544, dev_ratio=0.4613258304306846, nulldev=0.7648429235651484, npasses=6, jerr=0, nobs=3, warm_fit={})"
      ]
     },
     "execution_count": 14,
     "metadata": {},
     "output_type": "execute_result"
    }
   ],
   "source": [
    "elnet_fit(Xs, \n",
    "           y,\n",
    "           weights,\n",
    "           lambda_val)"
   ]
  },
  {
   "cell_type": "code",
   "execution_count": 15,
   "id": "7aad601d-575a-4b70-aad4-0669ab5faf9d",
   "metadata": {},
   "outputs": [
    {
     "name": "stderr",
     "output_type": "stream",
     "text": [
      "/Users/jonathantaylor/git-repos/pyglmnet/glmnet/glmnet_fit.py:453: RuntimeWarning: invalid value encountered in scalar divide\n",
      "  args['dev_ratio'] = 1 - _dev_function(y, state.mu, weights, family) / nulldev\n"
     ]
    },
    {
     "data": {
      "text/plain": [
       "GLMNetResult(a0=0.5157819241507957, beta=<1x2 sparse array of type '<class 'numpy.float64'>'\n",
       "\twith 0 stored elements in Compressed Sparse Column format>, df=0, dim=(1, 2), lambda_val=3.4641016151377544, dev_ratio=nan, nulldev=0.0, npasses=3, jerr=0, nobs=3, warm_fit={}, family=<statsmodels.genmod.families.family.Gaussian object at 0x148166980>, offset=False, converged=True, boundary=False, obj_function=0.0)"
      ]
     },
     "execution_count": 15,
     "metadata": {},
     "output_type": "execute_result"
    }
   ],
   "source": [
    "glmnet_fit(X, \n",
    "           y,\n",
    "           weights,\n",
    "           lambda_val)\n",
    "\n"
   ]
  },
  {
   "cell_type": "code",
   "execution_count": null,
   "id": "4b92d753-934d-40d1-8dfd-cf7f266098da",
   "metadata": {},
   "outputs": [],
   "source": []
  }
 ],
 "metadata": {
  "kernelspec": {
   "display_name": "Python 3 (ipykernel)",
   "language": "python",
   "name": "python3"
  },
  "language_info": {
   "codemirror_mode": {
    "name": "ipython",
    "version": 3
   },
   "file_extension": ".py",
   "mimetype": "text/x-python",
   "name": "python",
   "nbconvert_exporter": "python",
   "pygments_lexer": "ipython3",
   "version": "3.10.12"
  }
 },
 "nbformat": 4,
 "nbformat_minor": 5
}

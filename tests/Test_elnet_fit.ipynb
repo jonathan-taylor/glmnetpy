{
 "cells": [
  {
   "cell_type": "code",
   "execution_count": 1,
   "id": "1f95668d-4100-428b-9cfd-0d09a0387d6f",
   "metadata": {},
   "outputs": [],
   "source": [
    "import numpy as np\n",
    "from glmnet._elnet_fit import _elnet_fit, _elnet_args"
   ]
  },
  {
   "cell_type": "code",
   "execution_count": 2,
   "id": "ffab9717-03bf-470b-a46e-7899bc9e1368",
   "metadata": {},
   "outputs": [],
   "source": [
    "n, p = 3, 2\n",
    "rng = np.random.default_rng(0)\n"
   ]
  },
  {
   "cell_type": "code",
   "execution_count": 3,
   "id": "f50f61a7-1c2b-4685-b7d0-7829d584a578",
   "metadata": {},
   "outputs": [],
   "source": [
    "X = rng.normal(size=(n,p))\n",
    "y = rng.normal(size=n)\n",
    "lambda_val = 2 * np.sqrt(n)\n",
    "weights = np.ones(n)"
   ]
  },
  {
   "cell_type": "code",
   "execution_count": 4,
   "id": "0d04137e-7c10-4dd7-b471-b6b92017d7e8",
   "metadata": {},
   "outputs": [
    {
     "data": {
      "text/plain": [
       "{'alm0': 0.0,\n",
       " 'almc': 3.4641016151377544,\n",
       " 'alpha': 1.0,\n",
       " 'm': 1,\n",
       " 'no': 3,\n",
       " 'ni': 2,\n",
       " 'x': array([[ 0.12573022, -0.13210486],\n",
       "        [ 0.64042265,  0.10490012],\n",
       "        [-0.53566937,  0.36159505]]),\n",
       " 'r': array([[ 0.43466668],\n",
       "        [ 0.31569365],\n",
       "        [-0.23457841]]),\n",
       " 'xv': array([[0.],\n",
       "        [0.]]),\n",
       " 'v': array([[0.33333333],\n",
       "        [0.33333333],\n",
       "        [0.33333333]]),\n",
       " 'intr': 1,\n",
       " 'ju': array([[1],\n",
       "        [1]], dtype=int32),\n",
       " 'vp': array([[1.],\n",
       "        [1.]]),\n",
       " 'cl': array([[-1.e+10, -1.e+10],\n",
       "        [ 1.e+10,  1.e+10]]),\n",
       " 'nx': 2,\n",
       " 'thr': 1e-07,\n",
       " 'maxit': 100000,\n",
       " 'a': array([[0.],\n",
       "        [0.]]),\n",
       " 'aint': 0.0,\n",
       " 'g': array([[0.],\n",
       "        [0.]]),\n",
       " 'ia': array([[0],\n",
       "        [0]], dtype=int32),\n",
       " 'iy': array([[0],\n",
       "        [0]], dtype=int32),\n",
       " 'iz': 0,\n",
       " 'mm': array([[0],\n",
       "        [0]], dtype=int32),\n",
       " 'nino': 0,\n",
       " 'rsqc': 0.0,\n",
       " 'nlp': 0,\n",
       " 'jerr': 0}"
      ]
     },
     "execution_count": 4,
     "metadata": {},
     "output_type": "execute_result"
    }
   ],
   "source": [
    "_elnet_args(X, \n",
    "           y,\n",
    "           weights,\n",
    "           lambda_val)"
   ]
  },
  {
   "cell_type": "code",
   "execution_count": 5,
   "id": "7ab0c172-4181-4149-bc9e-7644c60c0c1e",
   "metadata": {},
   "outputs": [],
   "source": [
    "import pickle\n",
    "args = pickle.loads(open('../glmnet/test_data/test_001.pickle', 'rb').read())['args']"
   ]
  },
  {
   "cell_type": "code",
   "execution_count": 6,
   "id": "2757b563-56ef-4b1f-909a-e3fd8e2f356f",
   "metadata": {},
   "outputs": [
    {
     "data": {
      "text/plain": [
       "dict_keys(['alm0', 'almc', 'alpha', 'm', 'no', 'ni', 'x', 'r', 'xv', 'v', 'intr', 'ju', 'vp', 'cl', 'nx', 'thr', 'maxit', 'a', 'aint', 'g', 'ia', 'iy', 'iz', 'mm', 'nino', 'rsqc', 'nlp', 'jerr'])"
      ]
     },
     "execution_count": 6,
     "metadata": {},
     "output_type": "execute_result"
    }
   ],
   "source": [
    "args.keys()\n"
   ]
  },
  {
   "cell_type": "code",
   "execution_count": 7,
   "id": "51c28df4-3485-444d-b77e-4e4868ea92ca",
   "metadata": {},
   "outputs": [],
   "source": [
    "A = _elnet_args(args['x'],\n",
    "                args['r'].reshape(-1),\n",
    "                args['v'].reshape(-1),\n",
    "                args['almc'])"
   ]
  },
  {
   "cell_type": "code",
   "execution_count": 8,
   "id": "9b8ad6b6-3cff-49b2-981b-2d88f6abfba7",
   "metadata": {},
   "outputs": [],
   "source": [
    "for k in args.keys():\n",
    "    if np.asarray(A[k]).shape != np.asarray(args[k]).shape:\n",
    "        print(k, 'shape')\n",
    "    if np.asarray(A[k]).dtype != np.asarray(args[k]).dtype:\n",
    "        print(k, 'dtype', np.asarray(A[k]).dtype, np.asarray(args[k]).dtype)"
   ]
  },
  {
   "cell_type": "code",
   "execution_count": 9,
   "id": "8204f7e3-af93-40e3-9b32-08b6ce417ae5",
   "metadata": {},
   "outputs": [
    {
     "ename": "TypeError",
     "evalue": "wls(): incompatible function arguments. The following argument types are supported:\n    1. (alm0: float, almc: float, alpha: float, m: int, no: int, ni: int, x: numpy.ndarray[numpy.float64[m, n], flags.writeable, flags.f_contiguous], r: numpy.ndarray[numpy.float64[m, 1], flags.writeable], xv: numpy.ndarray[numpy.float64[m, 1], flags.writeable], v: numpy.ndarray[numpy.float64[m, 1], flags.writeable], intr: int, ju: numpy.ndarray[numpy.int32[m, 1], flags.writeable], vp: numpy.ndarray[numpy.float64[m, 1], flags.writeable], cl: numpy.ndarray[numpy.float64[m, n], flags.writeable, flags.f_contiguous], nx: int, thr: float, maxit: int, a: numpy.ndarray[numpy.float64[m, 1], flags.writeable], aint: float, g: numpy.ndarray[numpy.float64[m, 1], flags.writeable], ia: numpy.ndarray[numpy.int32[m, 1], flags.writeable], iy: numpy.ndarray[numpy.int32[m, 1], flags.writeable], iz: int, mm: numpy.ndarray[numpy.int32[m, 1], flags.writeable], nino: int, rsqc: float, nlp: int, jerr: int) -> dict\n\nInvoked with: kwargs: alm0=0.0, almc=3.4641016151377544, alpha=1.0, m=1, no=3, ni=2, x=array([[ 0.12573022, -0.13210486],\n       [ 0.64042265,  0.10490012],\n       [-0.53566937,  0.36159505]]), r=array([[ 0.43466668],\n       [ 0.31569365],\n       [-0.23457841]]), xv=array([[0.],\n       [0.]]), v=array([[0.33333333],\n       [0.33333333],\n       [0.33333333]]), intr=1, ju=array([[1],\n       [1]], dtype=int32), vp=array([[1.],\n       [1.]]), cl=array([[-1.e+10, -1.e+10],\n       [ 1.e+10,  1.e+10]]), nx=2, thr=1e-07, maxit=100000, a=array([[0.],\n       [0.]]), aint=0.0, g=array([[0.],\n       [0.]]), ia=array([[0],\n       [0]], dtype=int32), iy=array([[0],\n       [0]], dtype=int32), iz=0, mm=array([[0],\n       [0]], dtype=int32), nino=0, rsqc=0.0, nlp=0, jerr=0",
     "output_type": "error",
     "traceback": [
      "\u001b[0;31m---------------------------------------------------------------------------\u001b[0m",
      "\u001b[0;31mTypeError\u001b[0m                                 Traceback (most recent call last)",
      "Cell \u001b[0;32mIn[9], line 1\u001b[0m\n\u001b[0;32m----> 1\u001b[0m \u001b[43m_elnet_fit\u001b[49m\u001b[43m(\u001b[49m\u001b[43mX\u001b[49m\u001b[43m,\u001b[49m\u001b[43m \u001b[49m\n\u001b[1;32m      2\u001b[0m \u001b[43m           \u001b[49m\u001b[43my\u001b[49m\u001b[43m,\u001b[49m\n\u001b[1;32m      3\u001b[0m \u001b[43m           \u001b[49m\u001b[43mweights\u001b[49m\u001b[43m,\u001b[49m\n\u001b[1;32m      4\u001b[0m \u001b[43m           \u001b[49m\u001b[43mlambda_val\u001b[49m\u001b[43m)\u001b[49m\n",
      "File \u001b[0;32m~/git-repos/pyglmnet/glmnet/_elnet_fit.py:130\u001b[0m, in \u001b[0;36m_elnet_fit\u001b[0;34m(X, y, weights, lambda_val, alpha, intercept, thresh, maxit, penalty_factor, exclude, lower_limits, upper_limits, warm, save_fit, internal_params, from_glmnet_fit)\u001b[0m\n\u001b[1;32m    128\u001b[0m     wls_fit \u001b[38;5;241m=\u001b[39m sparse_wls(\u001b[38;5;241m*\u001b[39m\u001b[38;5;241m*\u001b[39margs)\n\u001b[1;32m    129\u001b[0m \u001b[38;5;28;01melse\u001b[39;00m:\n\u001b[0;32m--> 130\u001b[0m     wls_fit \u001b[38;5;241m=\u001b[39m \u001b[43mdense_wls\u001b[49m\u001b[43m(\u001b[49m\u001b[38;5;241;43m*\u001b[39;49m\u001b[38;5;241;43m*\u001b[39;49m\u001b[43margs\u001b[49m\u001b[43m)\u001b[49m\n\u001b[1;32m    132\u001b[0m \u001b[38;5;66;03m# if error code > 0, fatal error occurred: stop immediately\u001b[39;00m\n\u001b[1;32m    133\u001b[0m \u001b[38;5;66;03m# if error code < 0, non-fatal error occurred: return error code\u001b[39;00m\n\u001b[1;32m    135\u001b[0m \u001b[38;5;28;01mif\u001b[39;00m wls_fit[\u001b[38;5;124m'\u001b[39m\u001b[38;5;124mjerr\u001b[39m\u001b[38;5;124m'\u001b[39m] \u001b[38;5;241m!=\u001b[39m \u001b[38;5;241m0\u001b[39m:\n",
      "\u001b[0;31mTypeError\u001b[0m: wls(): incompatible function arguments. The following argument types are supported:\n    1. (alm0: float, almc: float, alpha: float, m: int, no: int, ni: int, x: numpy.ndarray[numpy.float64[m, n], flags.writeable, flags.f_contiguous], r: numpy.ndarray[numpy.float64[m, 1], flags.writeable], xv: numpy.ndarray[numpy.float64[m, 1], flags.writeable], v: numpy.ndarray[numpy.float64[m, 1], flags.writeable], intr: int, ju: numpy.ndarray[numpy.int32[m, 1], flags.writeable], vp: numpy.ndarray[numpy.float64[m, 1], flags.writeable], cl: numpy.ndarray[numpy.float64[m, n], flags.writeable, flags.f_contiguous], nx: int, thr: float, maxit: int, a: numpy.ndarray[numpy.float64[m, 1], flags.writeable], aint: float, g: numpy.ndarray[numpy.float64[m, 1], flags.writeable], ia: numpy.ndarray[numpy.int32[m, 1], flags.writeable], iy: numpy.ndarray[numpy.int32[m, 1], flags.writeable], iz: int, mm: numpy.ndarray[numpy.int32[m, 1], flags.writeable], nino: int, rsqc: float, nlp: int, jerr: int) -> dict\n\nInvoked with: kwargs: alm0=0.0, almc=3.4641016151377544, alpha=1.0, m=1, no=3, ni=2, x=array([[ 0.12573022, -0.13210486],\n       [ 0.64042265,  0.10490012],\n       [-0.53566937,  0.36159505]]), r=array([[ 0.43466668],\n       [ 0.31569365],\n       [-0.23457841]]), xv=array([[0.],\n       [0.]]), v=array([[0.33333333],\n       [0.33333333],\n       [0.33333333]]), intr=1, ju=array([[1],\n       [1]], dtype=int32), vp=array([[1.],\n       [1.]]), cl=array([[-1.e+10, -1.e+10],\n       [ 1.e+10,  1.e+10]]), nx=2, thr=1e-07, maxit=100000, a=array([[0.],\n       [0.]]), aint=0.0, g=array([[0.],\n       [0.]]), ia=array([[0],\n       [0]], dtype=int32), iy=array([[0],\n       [0]], dtype=int32), iz=0, mm=array([[0],\n       [0]], dtype=int32), nino=0, rsqc=0.0, nlp=0, jerr=0"
     ]
    }
   ],
   "source": [
    "_elnet_fit(X, \n",
    "           y,\n",
    "           weights,\n",
    "           lambda_val)"
   ]
  },
  {
   "cell_type": "code",
   "execution_count": null,
   "id": "05b8d746-9d67-4463-8eda-89ca30f2e656",
   "metadata": {},
   "outputs": [],
   "source": [
    "np.int32"
   ]
  },
  {
   "cell_type": "code",
   "execution_count": null,
   "id": "93a8f0ea-c278-4797-8d7d-e683fb982d0a",
   "metadata": {},
   "outputs": [],
   "source": []
  }
 ],
 "metadata": {
  "kernelspec": {
   "display_name": "Python 3 (ipykernel)",
   "language": "python",
   "name": "python3"
  },
  "language_info": {
   "codemirror_mode": {
    "name": "ipython",
    "version": 3
   },
   "file_extension": ".py",
   "mimetype": "text/x-python",
   "name": "python",
   "nbconvert_exporter": "python",
   "pygments_lexer": "ipython3",
   "version": "3.10.12"
  }
 },
 "nbformat": 4,
 "nbformat_minor": 5
}

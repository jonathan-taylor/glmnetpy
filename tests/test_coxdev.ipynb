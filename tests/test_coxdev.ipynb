{
 "cells": [
  {
   "cell_type": "code",
   "execution_count": 1,
   "id": "8194e1ad-042b-4513-a25d-efcda96739c3",
   "metadata": {},
   "outputs": [],
   "source": [
    "import numpy as np\n",
    "rng = np.random.default_rng(0)\n",
    "\n",
    "from glmnet.coxdev import right_censored\n",
    "import rpy2\n",
    "%load_ext rpy2.ipython\n",
    "\n",
    "n = 2000\n",
    "event_time = np.hstack([[1.2]*3, [2.5]*4, [1.1]*4, rng.standard_exponential(n-11)])\n",
    "status = rng.choice([0, 1], size=n)\n",
    "eta = rng.standard_normal(n)"
   ]
  },
  {
   "cell_type": "code",
   "execution_count": 2,
   "id": "9533eb6a-9a4f-459a-a6bb-229092c3dcd8",
   "metadata": {},
   "outputs": [],
   "source": [
    "rc = right_censored(event_time, status)\n",
    "result = rc(eta)"
   ]
  },
  {
   "cell_type": "code",
   "execution_count": 3,
   "id": "a318b4a1-9a8b-4d00-9165-afa1849d5052",
   "metadata": {},
   "outputs": [
    {
     "data": {
      "text/plain": [
       "Loading required package: Matrix\n",
       "Loaded glmnet 4.1-4\n"
      ]
     },
     "metadata": {},
     "output_type": "display_data"
    }
   ],
   "source": [
    "%%R -i event_time,status,eta -o l,g,h\n",
    "library(glmnet)\n",
    "n = length(event_time)\n",
    "library(survival)\n",
    "y = data.frame(time=event_time, status=status)\n",
    "y_s = Surv(event_time, status)\n",
    "w = rep(1, n)\n",
    "eta = as.numeric(eta)\n",
    "l = glmnet:::coxnet.deviance2(pred=eta, y=y_s, std.weights=FALSE)\n",
    "g = glmnet:::coxgrad2(eta, y_s, std.weights=FALSE, diag.hessian=TRUE)\n",
    "h = attr(g, 'diag_hessian')"
   ]
  },
  {
   "cell_type": "code",
   "execution_count": 4,
   "id": "917e5fff-1989-4230-ba1c-a64d439438bd",
   "metadata": {},
   "outputs": [],
   "source": [
    "assert np.allclose(l, result.deviance)"
   ]
  },
  {
   "cell_type": "code",
   "execution_count": 5,
   "id": "da79ec21-4353-4254-ba5e-1442e4e6358b",
   "metadata": {},
   "outputs": [],
   "source": [
    "assert np.allclose(2*g, result.grad)"
   ]
  },
  {
   "cell_type": "code",
   "execution_count": 6,
   "id": "ce547d53-0652-4861-b489-cdd27dd82539",
   "metadata": {},
   "outputs": [],
   "source": [
    "assert np.allclose(2*h, result.diag_hessian)"
   ]
  },
  {
   "cell_type": "code",
   "execution_count": null,
   "id": "39b8aafd-39d2-4980-bb7c-19d3abf48f34",
   "metadata": {},
   "outputs": [],
   "source": []
  }
 ],
 "metadata": {
  "kernelspec": {
   "display_name": "Python 3 (ipykernel)",
   "language": "python",
   "name": "python3"
  },
  "language_info": {
   "codemirror_mode": {
    "name": "ipython",
    "version": 3
   },
   "file_extension": ".py",
   "mimetype": "text/x-python",
   "name": "python",
   "nbconvert_exporter": "python",
   "pygments_lexer": "ipython3",
   "version": "3.10.12"
  }
 },
 "nbformat": 4,
 "nbformat_minor": 5
}

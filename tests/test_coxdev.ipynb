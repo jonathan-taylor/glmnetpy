{
 "cells": [
  {
   "cell_type": "code",
   "execution_count": 1,
   "id": "8194e1ad-042b-4513-a25d-efcda96739c3",
   "metadata": {},
   "outputs": [],
   "source": [
    "import numpy as np\n",
    "rng = np.random.default_rng(0)\n",
    "\n",
    "from glmnet.coxdev import right_censored\n",
    "import rpy2\n",
    "%load_ext rpy2.ipython\n",
    "\n",
    "n = 20\n",
    "event_time = rng.standard_exponential(n)\n",
    "status = rng.choice([0, 1], size=n)\n",
    "eta = rng.standard_normal(n)"
   ]
  },
  {
   "cell_type": "code",
   "execution_count": 2,
   "id": "9533eb6a-9a4f-459a-a6bb-229092c3dcd8",
   "metadata": {},
   "outputs": [
    {
     "data": {
      "text/plain": [
       "CoxDevianceResult(deviance=100.97527029683503, grad=11   -0.187311\n",
       "3    -0.148891\n",
       "2    -0.114290\n",
       "13    1.601763\n",
       "18    0.586289\n",
       "17   -0.084952\n",
       "4    -0.459015\n",
       "6     1.765506\n",
       "0    -0.194274\n",
       "7     1.458237\n",
       "15    1.486070\n",
       "1    -0.643340\n",
       "14    0.845844\n",
       "19   -1.668823\n",
       "5     0.421839\n",
       "12   -4.759320\n",
       "8    -3.103675\n",
       "16   -7.041327\n",
       "10    1.414909\n",
       "9    -9.175239\n",
       "dtype: float64, diag_hessian=11   -0.084884\n",
       "3    -0.071668\n",
       "2    -0.056053\n",
       "13   -0.189171\n",
       "18   -0.606441\n",
       "17   -0.858728\n",
       "4    -0.221649\n",
       "6    -0.115425\n",
       "0    -0.096018\n",
       "7    -0.263029\n",
       "15   -0.250530\n",
       "1    -0.312416\n",
       "14   -0.549549\n",
       "19   -1.575367\n",
       "5    -0.743599\n",
       "12   -1.984895\n",
       "8    -1.385445\n",
       "16   -2.653738\n",
       "10   -0.285168\n",
       "9    -2.773370\n",
       "Name: sample_weight, dtype: float64)"
      ]
     },
     "execution_count": 2,
     "metadata": {},
     "output_type": "execute_result"
    }
   ],
   "source": [
    "rc = right_censored(event_time, status)\n",
    "rc(eta)"
   ]
  },
  {
   "cell_type": "code",
   "execution_count": 17,
   "id": "a318b4a1-9a8b-4d00-9165-afa1849d5052",
   "metadata": {},
   "outputs": [
    {
     "name": "stdout",
     "output_type": "stream",
     "text": [
      " [1] -0.002187567 -0.008323869  0.000000000  0.000000000 -0.004945075\n",
      " [6]  0.024192466  0.046877670  0.042891332 -0.039617432 -0.127540370\n",
      "[11]  0.041866948  0.000000000 -0.069489050  0.047362497  0.033606639\n",
      "[16]  0.042503922 -0.077735687  0.021668017  0.034959200 -0.006089641\n",
      "attr(,\"diag_hessian\")\n",
      " [1] -0.002162576 -0.008080690  0.000000000  0.000000000 -0.004780525\n",
      " [6] -0.024212464 -0.003071418 -0.006896089 -0.035858544 -0.067821221\n",
      "[11] -0.007890209  0.000000000 -0.057924744 -0.002498375 -0.015583063\n",
      "[16] -0.007298861 -0.063263716 -0.022930603 -0.012776883 -0.047766527\n",
      "[1] 53.46367\n"
     ]
    }
   ],
   "source": [
    "%%R -i event_time,status,eta\n",
    "library(glmnet)\n",
    "n = length(event_time)\n",
    "library(survival)\n",
    "y = data.frame(time=event_time, status=status)\n",
    "y_s = Surv(event_time, status)\n",
    "w = rep(1, n)\n",
    "print(glmnet:::coxgrad2(eta, y_s, w, diag.hessian=TRUE))\n",
    "eta = as.numeric(eta)\n",
    "glmnet:::coxnet.deviance2(pred=eta, y=y_s)"
   ]
  },
  {
   "cell_type": "code",
   "execution_count": 3,
   "id": "917e5fff-1989-4230-ba1c-a64d439438bd",
   "metadata": {},
   "outputs": [
    {
     "data": {
      "text/plain": [
       "0.0"
      ]
     },
     "execution_count": 3,
     "metadata": {},
     "output_type": "execute_result"
    }
   ],
   "source": [
    "rc._loglik_sat"
   ]
  },
  {
   "cell_type": "code",
   "execution_count": null,
   "id": "da79ec21-4353-4254-ba5e-1442e4e6358b",
   "metadata": {},
   "outputs": [],
   "source": []
  }
 ],
 "metadata": {
  "kernelspec": {
   "display_name": "Python 3 (ipykernel)",
   "language": "python",
   "name": "python3"
  },
  "language_info": {
   "codemirror_mode": {
    "name": "ipython",
    "version": 3
   },
   "file_extension": ".py",
   "mimetype": "text/x-python",
   "name": "python",
   "nbconvert_exporter": "python",
   "pygments_lexer": "ipython3",
   "version": "3.10.12"
  }
 },
 "nbformat": 4,
 "nbformat_minor": 5
}

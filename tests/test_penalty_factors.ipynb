{
 "cells": [
  {
   "cell_type": "code",
   "execution_count": 11,
   "id": "2e0922d5-8e49-4067-ab3a-574632608c0d",
   "metadata": {},
   "outputs": [],
   "source": [
    "import numpy as np\n",
    "from glmnet import GLMNet"
   ]
  },
  {
   "cell_type": "code",
   "execution_count": 12,
   "id": "c11f3140-9579-49e1-ba3a-ed47bf1e8c13",
   "metadata": {},
   "outputs": [
    {
     "name": "stdout",
     "output_type": "stream",
     "text": [
      "The rpy2.ipython extension is already loaded. To reload it, use:\n",
      "  %reload_ext rpy2.ipython\n"
     ]
    }
   ],
   "source": [
    "import rpy2\n",
    "%load_ext rpy2.ipython"
   ]
  },
  {
   "cell_type": "code",
   "execution_count": 13,
   "id": "368149da-34c9-4078-8814-b6087f84b361",
   "metadata": {},
   "outputs": [],
   "source": [
    "n, p = 500, 20\n",
    "rng = np.random.default_rng((n, p))\n",
    "X = rng.standard_normal((n, p))\n",
    "beta = np.zeros(p)\n",
    "beta[:2] = [3,-3]\n",
    "Y = rng.standard_normal(n) + X @ beta\n",
    "penfac = np.ones(p)\n",
    "#penfac[:5] = 0"
   ]
  },
  {
   "cell_type": "code",
   "execution_count": 14,
   "id": "9eec67d8-fcbf-4dbc-a7cd-d1a19174358e",
   "metadata": {},
   "outputs": [
    {
     "data": {
      "text/html": [
       "<style>#sk-container-id-3 {color: black;}#sk-container-id-3 pre{padding: 0;}#sk-container-id-3 div.sk-toggleable {background-color: white;}#sk-container-id-3 label.sk-toggleable__label {cursor: pointer;display: block;width: 100%;margin-bottom: 0;padding: 0.3em;box-sizing: border-box;text-align: center;}#sk-container-id-3 label.sk-toggleable__label-arrow:before {content: \"▸\";float: left;margin-right: 0.25em;color: #696969;}#sk-container-id-3 label.sk-toggleable__label-arrow:hover:before {color: black;}#sk-container-id-3 div.sk-estimator:hover label.sk-toggleable__label-arrow:before {color: black;}#sk-container-id-3 div.sk-toggleable__content {max-height: 0;max-width: 0;overflow: hidden;text-align: left;background-color: #f0f8ff;}#sk-container-id-3 div.sk-toggleable__content pre {margin: 0.2em;color: black;border-radius: 0.25em;background-color: #f0f8ff;}#sk-container-id-3 input.sk-toggleable__control:checked~div.sk-toggleable__content {max-height: 200px;max-width: 100%;overflow: auto;}#sk-container-id-3 input.sk-toggleable__control:checked~label.sk-toggleable__label-arrow:before {content: \"▾\";}#sk-container-id-3 div.sk-estimator input.sk-toggleable__control:checked~label.sk-toggleable__label {background-color: #d4ebff;}#sk-container-id-3 div.sk-label input.sk-toggleable__control:checked~label.sk-toggleable__label {background-color: #d4ebff;}#sk-container-id-3 input.sk-hidden--visually {border: 0;clip: rect(1px 1px 1px 1px);clip: rect(1px, 1px, 1px, 1px);height: 1px;margin: -1px;overflow: hidden;padding: 0;position: absolute;width: 1px;}#sk-container-id-3 div.sk-estimator {font-family: monospace;background-color: #f0f8ff;border: 1px dotted black;border-radius: 0.25em;box-sizing: border-box;margin-bottom: 0.5em;}#sk-container-id-3 div.sk-estimator:hover {background-color: #d4ebff;}#sk-container-id-3 div.sk-parallel-item::after {content: \"\";width: 100%;border-bottom: 1px solid gray;flex-grow: 1;}#sk-container-id-3 div.sk-label:hover label.sk-toggleable__label {background-color: #d4ebff;}#sk-container-id-3 div.sk-serial::before {content: \"\";position: absolute;border-left: 1px solid gray;box-sizing: border-box;top: 0;bottom: 0;left: 50%;z-index: 0;}#sk-container-id-3 div.sk-serial {display: flex;flex-direction: column;align-items: center;background-color: white;padding-right: 0.2em;padding-left: 0.2em;position: relative;}#sk-container-id-3 div.sk-item {position: relative;z-index: 1;}#sk-container-id-3 div.sk-parallel {display: flex;align-items: stretch;justify-content: center;background-color: white;position: relative;}#sk-container-id-3 div.sk-item::before, #sk-container-id-3 div.sk-parallel-item::before {content: \"\";position: absolute;border-left: 1px solid gray;box-sizing: border-box;top: 0;bottom: 0;left: 50%;z-index: -1;}#sk-container-id-3 div.sk-parallel-item {display: flex;flex-direction: column;z-index: 1;position: relative;background-color: white;}#sk-container-id-3 div.sk-parallel-item:first-child::after {align-self: flex-end;width: 50%;}#sk-container-id-3 div.sk-parallel-item:last-child::after {align-self: flex-start;width: 50%;}#sk-container-id-3 div.sk-parallel-item:only-child::after {width: 0;}#sk-container-id-3 div.sk-dashed-wrapped {border: 1px dashed gray;margin: 0 0.4em 0.5em 0.4em;box-sizing: border-box;padding-bottom: 0.4em;background-color: white;}#sk-container-id-3 div.sk-label label {font-family: monospace;font-weight: bold;display: inline-block;line-height: 1.2em;}#sk-container-id-3 div.sk-label-container {text-align: center;}#sk-container-id-3 div.sk-container {/* jupyter's `normalize.less` sets `[hidden] { display: none; }` but bootstrap.min.css set `[hidden] { display: none !important; }` so we also need the `!important` here to be able to override the default hidden behavior on the sphinx rendered scikit-learn.org. See: https://github.com/scikit-learn/scikit-learn/issues/21755 */display: inline-block !important;position: relative;}#sk-container-id-3 div.sk-text-repr-fallback {display: none;}</style><div id=\"sk-container-id-3\" class=\"sk-top-container\"><div class=\"sk-text-repr-fallback\"><pre>GLMNet(lambda_val=0.044721359549995794, alpha=1.0, lower_limits=-inf, upper_limits=inf, penalty_factor=array([1., 1., 1., 1., 1., 1., 1., 1., 1., 1., 1., 1., 1., 1., 1., 1., 1.,\n",
       "       1., 1., 1.]), fit_intercept=True, standardize=True, control=GLMNetControl(thresh=1e-07, maxit=100000, big=9.9e+35, mxitnr=25, epsnr=1e-06), family=&lt;statsmodels.genmod.families.family.Gaussian object at 0x1738dc1c0&gt;, summarize=False)</pre><b>In a Jupyter environment, please rerun this cell to show the HTML representation or trust the notebook. <br />On GitHub, the HTML representation is unable to render, please try loading this page with nbviewer.org.</b></div><div class=\"sk-container\" hidden><div class=\"sk-item\"><div class=\"sk-estimator sk-toggleable\"><input class=\"sk-toggleable__control sk-hidden--visually\" id=\"sk-estimator-id-3\" type=\"checkbox\" checked><label for=\"sk-estimator-id-3\" class=\"sk-toggleable__label sk-toggleable__label-arrow\">GLMNet</label><div class=\"sk-toggleable__content\"><pre>GLMNet(lambda_val=0.044721359549995794, alpha=1.0, lower_limits=-inf, upper_limits=inf, penalty_factor=array([1., 1., 1., 1., 1., 1., 1., 1., 1., 1., 1., 1., 1., 1., 1., 1., 1.,\n",
       "       1., 1., 1.]), fit_intercept=True, standardize=True, control=GLMNetControl(thresh=1e-07, maxit=100000, big=9.9e+35, mxitnr=25, epsnr=1e-06), family=&lt;statsmodels.genmod.families.family.Gaussian object at 0x1738dc1c0&gt;, summarize=False)</pre></div></div></div></div></div>"
      ],
      "text/plain": [
       "GLMNet(lambda_val=0.044721359549995794, alpha=1.0, lower_limits=-inf, upper_limits=inf, penalty_factor=array([1., 1., 1., 1., 1., 1., 1., 1., 1., 1., 1., 1., 1., 1., 1., 1., 1.,\n",
       "       1., 1., 1.]), fit_intercept=True, standardize=True, control=GLMNetControl(thresh=1e-07, maxit=100000, big=9.9e+35, mxitnr=25, epsnr=1e-06), family=<statsmodels.genmod.families.family.Gaussian object at 0x1738dc1c0>, summarize=False)"
      ]
     },
     "execution_count": 14,
     "metadata": {},
     "output_type": "execute_result"
    }
   ],
   "source": [
    "G1 = GLMNet(lambda_val = 1 / np.sqrt(n),\n",
    "           penalty_factor=penfac)\n",
    "G1.fit(X, Y)"
   ]
  },
  {
   "cell_type": "code",
   "execution_count": 15,
   "id": "2e4d44c8-2a51-4476-839b-aecd8a3637f8",
   "metadata": {},
   "outputs": [],
   "source": [
    "%%R -i X,Y,n,p,penfac -o C1,I1\n",
    "library(glmnet)\n",
    "G1 = glmnet(X, Y, penalty.factor=penfac)\n",
    "B1 = coef(G1, s=1/sqrt(n), exact=TRUE, x=X, y=Y, penalty.factor=penfac)\n",
    "C1 = B1[2:(p+1)]\n",
    "I1 = B1[0]"
   ]
  },
  {
   "cell_type": "code",
   "execution_count": 16,
   "id": "a255fdc0-ddd5-4b69-ac15-a50365d5711a",
   "metadata": {},
   "outputs": [],
   "source": [
    "assert np.allclose(C1, G1.coef_, rtol=1e-3, atol=1e-3)\n",
    "assert np.allclose(I1, G1.intercept_)"
   ]
  },
  {
   "cell_type": "code",
   "execution_count": 17,
   "id": "e4d9707a-33e1-426f-b380-893bffe16c3b",
   "metadata": {},
   "outputs": [
    {
     "data": {
      "text/html": [
       "<style>#sk-container-id-4 {color: black;}#sk-container-id-4 pre{padding: 0;}#sk-container-id-4 div.sk-toggleable {background-color: white;}#sk-container-id-4 label.sk-toggleable__label {cursor: pointer;display: block;width: 100%;margin-bottom: 0;padding: 0.3em;box-sizing: border-box;text-align: center;}#sk-container-id-4 label.sk-toggleable__label-arrow:before {content: \"▸\";float: left;margin-right: 0.25em;color: #696969;}#sk-container-id-4 label.sk-toggleable__label-arrow:hover:before {color: black;}#sk-container-id-4 div.sk-estimator:hover label.sk-toggleable__label-arrow:before {color: black;}#sk-container-id-4 div.sk-toggleable__content {max-height: 0;max-width: 0;overflow: hidden;text-align: left;background-color: #f0f8ff;}#sk-container-id-4 div.sk-toggleable__content pre {margin: 0.2em;color: black;border-radius: 0.25em;background-color: #f0f8ff;}#sk-container-id-4 input.sk-toggleable__control:checked~div.sk-toggleable__content {max-height: 200px;max-width: 100%;overflow: auto;}#sk-container-id-4 input.sk-toggleable__control:checked~label.sk-toggleable__label-arrow:before {content: \"▾\";}#sk-container-id-4 div.sk-estimator input.sk-toggleable__control:checked~label.sk-toggleable__label {background-color: #d4ebff;}#sk-container-id-4 div.sk-label input.sk-toggleable__control:checked~label.sk-toggleable__label {background-color: #d4ebff;}#sk-container-id-4 input.sk-hidden--visually {border: 0;clip: rect(1px 1px 1px 1px);clip: rect(1px, 1px, 1px, 1px);height: 1px;margin: -1px;overflow: hidden;padding: 0;position: absolute;width: 1px;}#sk-container-id-4 div.sk-estimator {font-family: monospace;background-color: #f0f8ff;border: 1px dotted black;border-radius: 0.25em;box-sizing: border-box;margin-bottom: 0.5em;}#sk-container-id-4 div.sk-estimator:hover {background-color: #d4ebff;}#sk-container-id-4 div.sk-parallel-item::after {content: \"\";width: 100%;border-bottom: 1px solid gray;flex-grow: 1;}#sk-container-id-4 div.sk-label:hover label.sk-toggleable__label {background-color: #d4ebff;}#sk-container-id-4 div.sk-serial::before {content: \"\";position: absolute;border-left: 1px solid gray;box-sizing: border-box;top: 0;bottom: 0;left: 50%;z-index: 0;}#sk-container-id-4 div.sk-serial {display: flex;flex-direction: column;align-items: center;background-color: white;padding-right: 0.2em;padding-left: 0.2em;position: relative;}#sk-container-id-4 div.sk-item {position: relative;z-index: 1;}#sk-container-id-4 div.sk-parallel {display: flex;align-items: stretch;justify-content: center;background-color: white;position: relative;}#sk-container-id-4 div.sk-item::before, #sk-container-id-4 div.sk-parallel-item::before {content: \"\";position: absolute;border-left: 1px solid gray;box-sizing: border-box;top: 0;bottom: 0;left: 50%;z-index: -1;}#sk-container-id-4 div.sk-parallel-item {display: flex;flex-direction: column;z-index: 1;position: relative;background-color: white;}#sk-container-id-4 div.sk-parallel-item:first-child::after {align-self: flex-end;width: 50%;}#sk-container-id-4 div.sk-parallel-item:last-child::after {align-self: flex-start;width: 50%;}#sk-container-id-4 div.sk-parallel-item:only-child::after {width: 0;}#sk-container-id-4 div.sk-dashed-wrapped {border: 1px dashed gray;margin: 0 0.4em 0.5em 0.4em;box-sizing: border-box;padding-bottom: 0.4em;background-color: white;}#sk-container-id-4 div.sk-label label {font-family: monospace;font-weight: bold;display: inline-block;line-height: 1.2em;}#sk-container-id-4 div.sk-label-container {text-align: center;}#sk-container-id-4 div.sk-container {/* jupyter's `normalize.less` sets `[hidden] { display: none; }` but bootstrap.min.css set `[hidden] { display: none !important; }` so we also need the `!important` here to be able to override the default hidden behavior on the sphinx rendered scikit-learn.org. See: https://github.com/scikit-learn/scikit-learn/issues/21755 */display: inline-block !important;position: relative;}#sk-container-id-4 div.sk-text-repr-fallback {display: none;}</style><div id=\"sk-container-id-4\" class=\"sk-top-container\"><div class=\"sk-text-repr-fallback\"><pre>GLMNet(lambda_val=0.044721359549995794, alpha=1.0, lower_limits=-inf, upper_limits=inf, penalty_factor=array([0.        , 0.        , 0.        , 0.        , 0.        ,\n",
       "       1.33333333, 1.33333333, 1.33333333, 1.33333333, 1.33333333,\n",
       "       1.33333333, 1.33333333, 1.33333333, 1.33333333, 1.33333333,\n",
       "       1.33333333, 1.33333333, 1.33333333, 1.33333333, 1.33333333]), fit_intercept=True, standardize=True, control=GLMNetControl(thresh=1e-07, maxit=100000, big=9.9e+35, mxitnr=25, epsnr=1e-06), family=&lt;statsmodels.genmod.families.family.Gaussian object at 0x1738dc9a0&gt;, summarize=False)</pre><b>In a Jupyter environment, please rerun this cell to show the HTML representation or trust the notebook. <br />On GitHub, the HTML representation is unable to render, please try loading this page with nbviewer.org.</b></div><div class=\"sk-container\" hidden><div class=\"sk-item\"><div class=\"sk-estimator sk-toggleable\"><input class=\"sk-toggleable__control sk-hidden--visually\" id=\"sk-estimator-id-4\" type=\"checkbox\" checked><label for=\"sk-estimator-id-4\" class=\"sk-toggleable__label sk-toggleable__label-arrow\">GLMNet</label><div class=\"sk-toggleable__content\"><pre>GLMNet(lambda_val=0.044721359549995794, alpha=1.0, lower_limits=-inf, upper_limits=inf, penalty_factor=array([0.        , 0.        , 0.        , 0.        , 0.        ,\n",
       "       1.33333333, 1.33333333, 1.33333333, 1.33333333, 1.33333333,\n",
       "       1.33333333, 1.33333333, 1.33333333, 1.33333333, 1.33333333,\n",
       "       1.33333333, 1.33333333, 1.33333333, 1.33333333, 1.33333333]), fit_intercept=True, standardize=True, control=GLMNetControl(thresh=1e-07, maxit=100000, big=9.9e+35, mxitnr=25, epsnr=1e-06), family=&lt;statsmodels.genmod.families.family.Gaussian object at 0x1738dc9a0&gt;, summarize=False)</pre></div></div></div></div></div>"
      ],
      "text/plain": [
       "GLMNet(lambda_val=0.044721359549995794, alpha=1.0, lower_limits=-inf, upper_limits=inf, penalty_factor=array([0.        , 0.        , 0.        , 0.        , 0.        ,\n",
       "       1.33333333, 1.33333333, 1.33333333, 1.33333333, 1.33333333,\n",
       "       1.33333333, 1.33333333, 1.33333333, 1.33333333, 1.33333333,\n",
       "       1.33333333, 1.33333333, 1.33333333, 1.33333333, 1.33333333]), fit_intercept=True, standardize=True, control=GLMNetControl(thresh=1e-07, maxit=100000, big=9.9e+35, mxitnr=25, epsnr=1e-06), family=<statsmodels.genmod.families.family.Gaussian object at 0x1738dc9a0>, summarize=False)"
      ]
     },
     "execution_count": 17,
     "metadata": {},
     "output_type": "execute_result"
    }
   ],
   "source": [
    "penfac[:5] = 0\n",
    "G2 = GLMNet(lambda_val = 1 / np.sqrt(n),\n",
    "           penalty_factor=penfac)\n",
    "G2.fit(X, Y)"
   ]
  },
  {
   "cell_type": "code",
   "execution_count": 18,
   "id": "468368ec-8b02-4cc0-8dcc-39ee3ad74e34",
   "metadata": {},
   "outputs": [],
   "source": [
    "%%R -i penfac -o C2,I2\n",
    "library(glmnet)\n",
    "G2 = glmnet(X, Y, penalty.factor=penfac)\n",
    "B2 = coef(G2, s=1/sqrt(n), exact=TRUE, x=X, y=Y, penalty.factor=penfac)\n",
    "C2 = B2[2:(p+1)]\n",
    "I2 = B2[0]"
   ]
  },
  {
   "cell_type": "code",
   "execution_count": 19,
   "id": "96fa2b9e-71ad-416b-bffa-50c9a20a8502",
   "metadata": {},
   "outputs": [],
   "source": [
    "assert np.allclose(C2, G2.coef_, rtol=1e-3, atol=1e-3)\n",
    "assert np.allclose(I2, G2.intercept_)"
   ]
  },
  {
   "cell_type": "code",
   "execution_count": 20,
   "id": "8baaf5c0-e14a-42f0-95e0-9f9415b0b5bf",
   "metadata": {},
   "outputs": [],
   "source": [
    "penfac = 1 + rng.uniform(0, 1, size=(p,))"
   ]
  },
  {
   "cell_type": "code",
   "execution_count": 21,
   "id": "35b43fce-977c-4670-8233-9ef3b2689f32",
   "metadata": {},
   "outputs": [
    {
     "data": {
      "text/html": [
       "<style>#sk-container-id-5 {color: black;}#sk-container-id-5 pre{padding: 0;}#sk-container-id-5 div.sk-toggleable {background-color: white;}#sk-container-id-5 label.sk-toggleable__label {cursor: pointer;display: block;width: 100%;margin-bottom: 0;padding: 0.3em;box-sizing: border-box;text-align: center;}#sk-container-id-5 label.sk-toggleable__label-arrow:before {content: \"▸\";float: left;margin-right: 0.25em;color: #696969;}#sk-container-id-5 label.sk-toggleable__label-arrow:hover:before {color: black;}#sk-container-id-5 div.sk-estimator:hover label.sk-toggleable__label-arrow:before {color: black;}#sk-container-id-5 div.sk-toggleable__content {max-height: 0;max-width: 0;overflow: hidden;text-align: left;background-color: #f0f8ff;}#sk-container-id-5 div.sk-toggleable__content pre {margin: 0.2em;color: black;border-radius: 0.25em;background-color: #f0f8ff;}#sk-container-id-5 input.sk-toggleable__control:checked~div.sk-toggleable__content {max-height: 200px;max-width: 100%;overflow: auto;}#sk-container-id-5 input.sk-toggleable__control:checked~label.sk-toggleable__label-arrow:before {content: \"▾\";}#sk-container-id-5 div.sk-estimator input.sk-toggleable__control:checked~label.sk-toggleable__label {background-color: #d4ebff;}#sk-container-id-5 div.sk-label input.sk-toggleable__control:checked~label.sk-toggleable__label {background-color: #d4ebff;}#sk-container-id-5 input.sk-hidden--visually {border: 0;clip: rect(1px 1px 1px 1px);clip: rect(1px, 1px, 1px, 1px);height: 1px;margin: -1px;overflow: hidden;padding: 0;position: absolute;width: 1px;}#sk-container-id-5 div.sk-estimator {font-family: monospace;background-color: #f0f8ff;border: 1px dotted black;border-radius: 0.25em;box-sizing: border-box;margin-bottom: 0.5em;}#sk-container-id-5 div.sk-estimator:hover {background-color: #d4ebff;}#sk-container-id-5 div.sk-parallel-item::after {content: \"\";width: 100%;border-bottom: 1px solid gray;flex-grow: 1;}#sk-container-id-5 div.sk-label:hover label.sk-toggleable__label {background-color: #d4ebff;}#sk-container-id-5 div.sk-serial::before {content: \"\";position: absolute;border-left: 1px solid gray;box-sizing: border-box;top: 0;bottom: 0;left: 50%;z-index: 0;}#sk-container-id-5 div.sk-serial {display: flex;flex-direction: column;align-items: center;background-color: white;padding-right: 0.2em;padding-left: 0.2em;position: relative;}#sk-container-id-5 div.sk-item {position: relative;z-index: 1;}#sk-container-id-5 div.sk-parallel {display: flex;align-items: stretch;justify-content: center;background-color: white;position: relative;}#sk-container-id-5 div.sk-item::before, #sk-container-id-5 div.sk-parallel-item::before {content: \"\";position: absolute;border-left: 1px solid gray;box-sizing: border-box;top: 0;bottom: 0;left: 50%;z-index: -1;}#sk-container-id-5 div.sk-parallel-item {display: flex;flex-direction: column;z-index: 1;position: relative;background-color: white;}#sk-container-id-5 div.sk-parallel-item:first-child::after {align-self: flex-end;width: 50%;}#sk-container-id-5 div.sk-parallel-item:last-child::after {align-self: flex-start;width: 50%;}#sk-container-id-5 div.sk-parallel-item:only-child::after {width: 0;}#sk-container-id-5 div.sk-dashed-wrapped {border: 1px dashed gray;margin: 0 0.4em 0.5em 0.4em;box-sizing: border-box;padding-bottom: 0.4em;background-color: white;}#sk-container-id-5 div.sk-label label {font-family: monospace;font-weight: bold;display: inline-block;line-height: 1.2em;}#sk-container-id-5 div.sk-label-container {text-align: center;}#sk-container-id-5 div.sk-container {/* jupyter's `normalize.less` sets `[hidden] { display: none; }` but bootstrap.min.css set `[hidden] { display: none !important; }` so we also need the `!important` here to be able to override the default hidden behavior on the sphinx rendered scikit-learn.org. See: https://github.com/scikit-learn/scikit-learn/issues/21755 */display: inline-block !important;position: relative;}#sk-container-id-5 div.sk-text-repr-fallback {display: none;}</style><div id=\"sk-container-id-5\" class=\"sk-top-container\"><div class=\"sk-text-repr-fallback\"><pre>GLMNet(lambda_val=0.044721359549995794, alpha=1.0, lower_limits=-inf, upper_limits=inf, penalty_factor=array([0.        , 0.        , 0.        , 0.        , 0.        ,\n",
       "       1.34147071, 1.73793905, 1.59545164, 1.75359608, 1.19246213,\n",
       "       1.19606805, 1.36396656, 1.33819035, 0.94801911, 1.45495783,\n",
       "       1.50901646, 1.03696396, 1.10068999, 1.47830226, 0.95290582]), fit_intercept=True, standardize=True, control=GLMNetControl(thresh=1e-07, maxit=100000, big=9.9e+35, mxitnr=25, epsnr=1e-06), family=&lt;statsmodels.genmod.families.family.Gaussian object at 0x1738eded0&gt;, summarize=False)</pre><b>In a Jupyter environment, please rerun this cell to show the HTML representation or trust the notebook. <br />On GitHub, the HTML representation is unable to render, please try loading this page with nbviewer.org.</b></div><div class=\"sk-container\" hidden><div class=\"sk-item\"><div class=\"sk-estimator sk-toggleable\"><input class=\"sk-toggleable__control sk-hidden--visually\" id=\"sk-estimator-id-5\" type=\"checkbox\" checked><label for=\"sk-estimator-id-5\" class=\"sk-toggleable__label sk-toggleable__label-arrow\">GLMNet</label><div class=\"sk-toggleable__content\"><pre>GLMNet(lambda_val=0.044721359549995794, alpha=1.0, lower_limits=-inf, upper_limits=inf, penalty_factor=array([0.        , 0.        , 0.        , 0.        , 0.        ,\n",
       "       1.34147071, 1.73793905, 1.59545164, 1.75359608, 1.19246213,\n",
       "       1.19606805, 1.36396656, 1.33819035, 0.94801911, 1.45495783,\n",
       "       1.50901646, 1.03696396, 1.10068999, 1.47830226, 0.95290582]), fit_intercept=True, standardize=True, control=GLMNetControl(thresh=1e-07, maxit=100000, big=9.9e+35, mxitnr=25, epsnr=1e-06), family=&lt;statsmodels.genmod.families.family.Gaussian object at 0x1738eded0&gt;, summarize=False)</pre></div></div></div></div></div>"
      ],
      "text/plain": [
       "GLMNet(lambda_val=0.044721359549995794, alpha=1.0, lower_limits=-inf, upper_limits=inf, penalty_factor=array([0.        , 0.        , 0.        , 0.        , 0.        ,\n",
       "       1.34147071, 1.73793905, 1.59545164, 1.75359608, 1.19246213,\n",
       "       1.19606805, 1.36396656, 1.33819035, 0.94801911, 1.45495783,\n",
       "       1.50901646, 1.03696396, 1.10068999, 1.47830226, 0.95290582]), fit_intercept=True, standardize=True, control=GLMNetControl(thresh=1e-07, maxit=100000, big=9.9e+35, mxitnr=25, epsnr=1e-06), family=<statsmodels.genmod.families.family.Gaussian object at 0x1738eded0>, summarize=False)"
      ]
     },
     "execution_count": 21,
     "metadata": {},
     "output_type": "execute_result"
    }
   ],
   "source": [
    "penfac[:5] = 0\n",
    "G3 = GLMNet(lambda_val = 1 / np.sqrt(n),\n",
    "           penalty_factor=penfac)\n",
    "G3.fit(X, Y)"
   ]
  },
  {
   "cell_type": "code",
   "execution_count": 22,
   "id": "253fe6ce-a6f6-4f9c-9ee2-f61e9368ce5b",
   "metadata": {},
   "outputs": [],
   "source": [
    "%%R -i penfac -o C3,I3\n",
    "library(glmnet)\n",
    "G3 = glmnet(X, Y, penalty.factor=penfac)\n",
    "B3 = coef(G3, s=1/sqrt(n), exact=TRUE, x=X, y=Y, penalty.factor=penfac)\n",
    "C3 = B3[2:(p+1)]\n",
    "I3 = B3[0]"
   ]
  },
  {
   "cell_type": "code",
   "execution_count": 23,
   "id": "5a1629e1-4fac-4047-8a31-3366a8691ea8",
   "metadata": {},
   "outputs": [],
   "source": [
    "assert np.allclose(C3, G3.coef_, rtol=1e-3, atol=1e-3)\n",
    "assert np.allclose(I3, G3.intercept_)"
   ]
  },
  {
   "cell_type": "code",
   "execution_count": null,
   "id": "b2a06f9d-9516-4903-9be9-13f168ad2d14",
   "metadata": {},
   "outputs": [],
   "source": []
  }
 ],
 "metadata": {
  "kernelspec": {
   "display_name": "Python 3 (ipykernel)",
   "language": "python",
   "name": "python3"
  },
  "language_info": {
   "codemirror_mode": {
    "name": "ipython",
    "version": 3
   },
   "file_extension": ".py",
   "mimetype": "text/x-python",
   "name": "python",
   "nbconvert_exporter": "python",
   "pygments_lexer": "ipython3",
   "version": "3.10.12"
  }
 },
 "nbformat": 4,
 "nbformat_minor": 5
}

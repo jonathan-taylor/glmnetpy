{
 "cells": [
  {
   "cell_type": "code",
   "execution_count": 1,
   "id": "f6339fb8-d9f1-49e8-829d-e42bcd4afbb6",
   "metadata": {},
   "outputs": [],
   "source": [
    "import numpy as np\n",
    "import pandas as pd\n",
    "\n",
    "rng = np.random.default_rng(0)\n",
    "from glmnet.cox import CoxFamily, CoxLM\n",
    "from glmnet.glm import GLMControl\n",
    "import rpy2\n",
    "%load_ext rpy2.ipython"
   ]
  },
  {
   "cell_type": "code",
   "execution_count": 7,
   "id": "55d6e2e4-7539-43ce-83f1-d22c9fd5a457",
   "metadata": {},
   "outputs": [
    {
     "data": {
      "text/html": [
       "<div>\n",
       "<style scoped>\n",
       "    .dataframe tbody tr th:only-of-type {\n",
       "        vertical-align: middle;\n",
       "    }\n",
       "\n",
       "    .dataframe tbody tr th {\n",
       "        vertical-align: top;\n",
       "    }\n",
       "\n",
       "    .dataframe thead th {\n",
       "        text-align: right;\n",
       "    }\n",
       "</style>\n",
       "<table border=\"1\" class=\"dataframe\">\n",
       "  <thead>\n",
       "    <tr style=\"text-align: right;\">\n",
       "      <th></th>\n",
       "      <th>event</th>\n",
       "      <th>status</th>\n",
       "      <th>start</th>\n",
       "    </tr>\n",
       "  </thead>\n",
       "  <tbody>\n",
       "    <tr>\n",
       "      <th>0</th>\n",
       "      <td>7</td>\n",
       "      <td>0</td>\n",
       "      <td>3</td>\n",
       "    </tr>\n",
       "    <tr>\n",
       "      <th>1</th>\n",
       "      <td>3</td>\n",
       "      <td>0</td>\n",
       "      <td>0</td>\n",
       "    </tr>\n",
       "    <tr>\n",
       "      <th>2</th>\n",
       "      <td>5</td>\n",
       "      <td>0</td>\n",
       "      <td>2</td>\n",
       "    </tr>\n",
       "    <tr>\n",
       "      <th>3</th>\n",
       "      <td>2</td>\n",
       "      <td>1</td>\n",
       "      <td>1</td>\n",
       "    </tr>\n",
       "    <tr>\n",
       "      <th>4</th>\n",
       "      <td>5</td>\n",
       "      <td>1</td>\n",
       "      <td>1</td>\n",
       "    </tr>\n",
       "    <tr>\n",
       "      <th>...</th>\n",
       "      <td>...</td>\n",
       "      <td>...</td>\n",
       "      <td>...</td>\n",
       "    </tr>\n",
       "    <tr>\n",
       "      <th>95</th>\n",
       "      <td>5</td>\n",
       "      <td>0</td>\n",
       "      <td>3</td>\n",
       "    </tr>\n",
       "    <tr>\n",
       "      <th>96</th>\n",
       "      <td>4</td>\n",
       "      <td>1</td>\n",
       "      <td>1</td>\n",
       "    </tr>\n",
       "    <tr>\n",
       "      <th>97</th>\n",
       "      <td>2</td>\n",
       "      <td>1</td>\n",
       "      <td>1</td>\n",
       "    </tr>\n",
       "    <tr>\n",
       "      <th>98</th>\n",
       "      <td>6</td>\n",
       "      <td>0</td>\n",
       "      <td>4</td>\n",
       "    </tr>\n",
       "    <tr>\n",
       "      <th>99</th>\n",
       "      <td>1</td>\n",
       "      <td>0</td>\n",
       "      <td>0</td>\n",
       "    </tr>\n",
       "  </tbody>\n",
       "</table>\n",
       "<p>100 rows × 3 columns</p>\n",
       "</div>"
      ],
      "text/plain": [
       "    event  status  start\n",
       "0       7       0      3\n",
       "1       3       0      0\n",
       "2       5       0      2\n",
       "3       2       1      1\n",
       "4       5       1      1\n",
       "..    ...     ...    ...\n",
       "95      5       0      3\n",
       "96      4       1      1\n",
       "97      2       1      1\n",
       "98      6       0      4\n",
       "99      1       0      0\n",
       "\n",
       "[100 rows x 3 columns]"
      ]
     },
     "execution_count": 7,
     "metadata": {},
     "output_type": "execute_result"
    }
   ],
   "source": [
    "n, p = 100, 10\n",
    "status = rng.choice([0, 1], size=n)\n",
    "start = rng.integers(0, 5, size=n)\n",
    "event = start + rng.integers(1, 5, size=n) \n",
    "event_data = pd.DataFrame({'event':event,\n",
    "                           'status':status,\n",
    "                           'start':start})\n",
    "X = rng.standard_normal((n, p))\n",
    "event_data"
   ]
  },
  {
   "cell_type": "markdown",
   "id": "873a681b-a4f2-4020-90b3-bc1d16ea5f2c",
   "metadata": {},
   "source": [
    "## There are clearly lots of ties"
   ]
  },
  {
   "cell_type": "code",
   "execution_count": 9,
   "id": "d743cbae-b1c8-49f0-8d10-bb6595afa305",
   "metadata": {},
   "outputs": [
    {
     "data": {
      "text/plain": [
       "((8,), 100)"
      ]
     },
     "execution_count": 9,
     "metadata": {},
     "output_type": "execute_result"
    }
   ],
   "source": [
    "np.unique(event).shape, n"
   ]
  },
  {
   "cell_type": "code",
   "execution_count": 3,
   "id": "68386920-bbda-4d9b-a6d1-f11815582672",
   "metadata": {},
   "outputs": [],
   "source": [
    "%%R -i event,status,X,start -o C1,C2\n",
    "library(survival)\n",
    "Y = Surv(start, event, status)\n",
    "M1 = coxph(Y ~ X, ties='breslow')\n",
    "M2 = coxph(Y ~ X, ties='efron')\n",
    "C1 = coef(M1)\n",
    "C2 = coef(M2)"
   ]
  },
  {
   "cell_type": "code",
   "execution_count": 4,
   "id": "2e87e401-e50a-473e-a1ab-80c0cd5c3f7d",
   "metadata": {},
   "outputs": [
    {
     "data": {
      "text/plain": [
       "1.0921154605630758e-06"
      ]
     },
     "execution_count": 4,
     "metadata": {},
     "output_type": "execute_result"
    }
   ],
   "source": [
    "cox_fam1 = CoxFamily(start_col='start', tie_breaking='breslow')\n",
    "G1 = CoxLM(family=cox_fam1, control=GLMControl(epsnr=1e-10))\n",
    "np.linalg.norm(G1.fit(X, event_data).coef_ - C1) / np.linalg.norm(C1)"
   ]
  },
  {
   "cell_type": "code",
   "execution_count": 5,
   "id": "8e9236c3-0235-46ad-99b6-85989dab0042",
   "metadata": {},
   "outputs": [
    {
     "data": {
      "text/plain": [
       "2.7781670297805405e-06"
      ]
     },
     "execution_count": 5,
     "metadata": {},
     "output_type": "execute_result"
    }
   ],
   "source": [
    "cox_fam2 = CoxFamily(start_col='start', tie_breaking='efron')\n",
    "G2 = CoxLM(family=cox_fam2, control=GLMControl(epsnr=1e-10))\n",
    "np.linalg.norm(G2.fit(X, event_data).coef_ - C2) / np.linalg.norm(C2)"
   ]
  },
  {
   "cell_type": "code",
   "execution_count": 6,
   "id": "469d95db-b106-4385-866a-716f8d98f8c9",
   "metadata": {},
   "outputs": [
    {
     "data": {
      "text/plain": [
       "0.18687983413212678"
      ]
     },
     "execution_count": 6,
     "metadata": {},
     "output_type": "execute_result"
    }
   ],
   "source": [
    "np.linalg.norm(C1-C2) / np.linalg.norm(C1)"
   ]
  },
  {
   "cell_type": "code",
   "execution_count": null,
   "id": "8cd9517e-671e-420f-beca-fadc892b166d",
   "metadata": {},
   "outputs": [],
   "source": []
  }
 ],
 "metadata": {
  "kernelspec": {
   "display_name": "Python 3 (ipykernel)",
   "language": "python",
   "name": "python3"
  },
  "language_info": {
   "codemirror_mode": {
    "name": "ipython",
    "version": 3
   },
   "file_extension": ".py",
   "mimetype": "text/x-python",
   "name": "python",
   "nbconvert_exporter": "python",
   "pygments_lexer": "ipython3",
   "version": "3.10.12"
  }
 },
 "nbformat": 4,
 "nbformat_minor": 5
}

{
 "cells": [
  {
   "cell_type": "code",
   "execution_count": 1,
   "id": "f6339fb8-d9f1-49e8-829d-e42bcd4afbb6",
   "metadata": {},
   "outputs": [],
   "source": [
    "import numpy as np\n",
    "import pandas as pd\n",
    "\n",
    "rng = np.random.default_rng(0)\n",
    "from glmnet.cox import CoxFamily, CoxLM, CoxNet\n",
    "from glmnet.glm import GLMControl\n",
    "import rpy2\n",
    "%load_ext rpy2.ipython"
   ]
  },
  {
   "cell_type": "code",
   "execution_count": 2,
   "id": "55d6e2e4-7539-43ce-83f1-d22c9fd5a457",
   "metadata": {},
   "outputs": [
    {
     "data": {
      "text/html": [
       "<div>\n",
       "<style scoped>\n",
       "    .dataframe tbody tr th:only-of-type {\n",
       "        vertical-align: middle;\n",
       "    }\n",
       "\n",
       "    .dataframe tbody tr th {\n",
       "        vertical-align: top;\n",
       "    }\n",
       "\n",
       "    .dataframe thead th {\n",
       "        text-align: right;\n",
       "    }\n",
       "</style>\n",
       "<table border=\"1\" class=\"dataframe\">\n",
       "  <thead>\n",
       "    <tr style=\"text-align: right;\">\n",
       "      <th></th>\n",
       "      <th>event</th>\n",
       "      <th>status</th>\n",
       "      <th>start</th>\n",
       "    </tr>\n",
       "  </thead>\n",
       "  <tbody>\n",
       "    <tr>\n",
       "      <th>0</th>\n",
       "      <td>3</td>\n",
       "      <td>1</td>\n",
       "      <td>2</td>\n",
       "    </tr>\n",
       "    <tr>\n",
       "      <th>1</th>\n",
       "      <td>5</td>\n",
       "      <td>1</td>\n",
       "      <td>3</td>\n",
       "    </tr>\n",
       "    <tr>\n",
       "      <th>2</th>\n",
       "      <td>3</td>\n",
       "      <td>1</td>\n",
       "      <td>1</td>\n",
       "    </tr>\n",
       "    <tr>\n",
       "      <th>3</th>\n",
       "      <td>2</td>\n",
       "      <td>0</td>\n",
       "      <td>1</td>\n",
       "    </tr>\n",
       "    <tr>\n",
       "      <th>4</th>\n",
       "      <td>7</td>\n",
       "      <td>0</td>\n",
       "      <td>3</td>\n",
       "    </tr>\n",
       "    <tr>\n",
       "      <th>...</th>\n",
       "      <td>...</td>\n",
       "      <td>...</td>\n",
       "      <td>...</td>\n",
       "    </tr>\n",
       "    <tr>\n",
       "      <th>95</th>\n",
       "      <td>8</td>\n",
       "      <td>1</td>\n",
       "      <td>4</td>\n",
       "    </tr>\n",
       "    <tr>\n",
       "      <th>96</th>\n",
       "      <td>5</td>\n",
       "      <td>0</td>\n",
       "      <td>1</td>\n",
       "    </tr>\n",
       "    <tr>\n",
       "      <th>97</th>\n",
       "      <td>6</td>\n",
       "      <td>0</td>\n",
       "      <td>4</td>\n",
       "    </tr>\n",
       "    <tr>\n",
       "      <th>98</th>\n",
       "      <td>5</td>\n",
       "      <td>0</td>\n",
       "      <td>1</td>\n",
       "    </tr>\n",
       "    <tr>\n",
       "      <th>99</th>\n",
       "      <td>8</td>\n",
       "      <td>1</td>\n",
       "      <td>4</td>\n",
       "    </tr>\n",
       "  </tbody>\n",
       "</table>\n",
       "<p>100 rows × 3 columns</p>\n",
       "</div>"
      ],
      "text/plain": [
       "    event  status  start\n",
       "0       3       1      2\n",
       "1       5       1      3\n",
       "2       3       1      1\n",
       "3       2       0      1\n",
       "4       7       0      3\n",
       "..    ...     ...    ...\n",
       "95      8       1      4\n",
       "96      5       0      1\n",
       "97      6       0      4\n",
       "98      5       0      1\n",
       "99      8       1      4\n",
       "\n",
       "[100 rows x 3 columns]"
      ]
     },
     "execution_count": 2,
     "metadata": {},
     "output_type": "execute_result"
    }
   ],
   "source": [
    "n, p = 100, 10\n",
    "status = rng.choice([0, 1], size=n)\n",
    "start = rng.integers(0, 5, size=n)\n",
    "event = start + rng.integers(1, 5, size=n) \n",
    "event_data = pd.DataFrame({'event':event,\n",
    "                           'status':status,\n",
    "                           'start':start})\n",
    "X = rng.standard_normal((n, p))\n",
    "event_data"
   ]
  },
  {
   "cell_type": "markdown",
   "id": "873a681b-a4f2-4020-90b3-bc1d16ea5f2c",
   "metadata": {},
   "source": [
    "## There are clearly lots of ties"
   ]
  },
  {
   "cell_type": "code",
   "execution_count": 3,
   "id": "d743cbae-b1c8-49f0-8d10-bb6595afa305",
   "metadata": {},
   "outputs": [
    {
     "data": {
      "text/plain": [
       "((8,), 100)"
      ]
     },
     "execution_count": 3,
     "metadata": {},
     "output_type": "execute_result"
    }
   ],
   "source": [
    "np.unique(event).shape, n"
   ]
  },
  {
   "cell_type": "code",
   "execution_count": 4,
   "id": "68386920-bbda-4d9b-a6d1-f11815582672",
   "metadata": {},
   "outputs": [],
   "source": [
    "%%R -i event,status,X,start -o C1,C2\n",
    "library(survival)\n",
    "Y = Surv(start, event, status)\n",
    "M1 = coxph(Y ~ X, ties='breslow')\n",
    "M2 = coxph(Y ~ X, ties='efron')\n",
    "C1 = coef(M1)\n",
    "C2 = coef(M2)"
   ]
  },
  {
   "cell_type": "code",
   "execution_count": 5,
   "id": "2e87e401-e50a-473e-a1ab-80c0cd5c3f7d",
   "metadata": {},
   "outputs": [
    {
     "data": {
      "text/plain": [
       "1.0921154605630758e-06"
      ]
     },
     "execution_count": 5,
     "metadata": {},
     "output_type": "execute_result"
    }
   ],
   "source": [
    "cox_fam1 = CoxFamily(start_col='start', tie_breaking='breslow')\n",
    "G1 = CoxLM(family=cox_fam1, control=GLMControl(epsnr=1e-10))\n",
    "np.linalg.norm(G1.fit(X, event_data).coef_ - C1) / np.linalg.norm(C1)"
   ]
  },
  {
   "cell_type": "code",
   "execution_count": 6,
   "id": "8e9236c3-0235-46ad-99b6-85989dab0042",
   "metadata": {},
   "outputs": [
    {
     "data": {
      "text/plain": [
       "2.7781670297805405e-06"
      ]
     },
     "execution_count": 6,
     "metadata": {},
     "output_type": "execute_result"
    }
   ],
   "source": [
    "cox_fam2 = CoxFamily(start_col='start', tie_breaking='efron')\n",
    "G2 = CoxLM(family=cox_fam2, control=GLMControl(epsnr=1e-10))\n",
    "np.linalg.norm(G2.fit(X, event_data).coef_ - C2) / np.linalg.norm(C2)"
   ]
  },
  {
   "cell_type": "code",
   "execution_count": 7,
   "id": "469d95db-b106-4385-866a-716f8d98f8c9",
   "metadata": {},
   "outputs": [
    {
     "data": {
      "text/plain": [
       "0.18687983413212678"
      ]
     },
     "execution_count": 7,
     "metadata": {},
     "output_type": "execute_result"
    }
   ],
   "source": [
    "np.linalg.norm(C1-C2) / np.linalg.norm(C1)"
   ]
  },
  {
   "cell_type": "code",
   "execution_count": 8,
   "id": "8cd9517e-671e-420f-beca-fadc892b166d",
   "metadata": {},
   "outputs": [
    {
     "data": {
      "text/html": [
       "<style>#sk-container-id-1 {color: black;}#sk-container-id-1 pre{padding: 0;}#sk-container-id-1 div.sk-toggleable {background-color: white;}#sk-container-id-1 label.sk-toggleable__label {cursor: pointer;display: block;width: 100%;margin-bottom: 0;padding: 0.3em;box-sizing: border-box;text-align: center;}#sk-container-id-1 label.sk-toggleable__label-arrow:before {content: \"▸\";float: left;margin-right: 0.25em;color: #696969;}#sk-container-id-1 label.sk-toggleable__label-arrow:hover:before {color: black;}#sk-container-id-1 div.sk-estimator:hover label.sk-toggleable__label-arrow:before {color: black;}#sk-container-id-1 div.sk-toggleable__content {max-height: 0;max-width: 0;overflow: hidden;text-align: left;background-color: #f0f8ff;}#sk-container-id-1 div.sk-toggleable__content pre {margin: 0.2em;color: black;border-radius: 0.25em;background-color: #f0f8ff;}#sk-container-id-1 input.sk-toggleable__control:checked~div.sk-toggleable__content {max-height: 200px;max-width: 100%;overflow: auto;}#sk-container-id-1 input.sk-toggleable__control:checked~label.sk-toggleable__label-arrow:before {content: \"▾\";}#sk-container-id-1 div.sk-estimator input.sk-toggleable__control:checked~label.sk-toggleable__label {background-color: #d4ebff;}#sk-container-id-1 div.sk-label input.sk-toggleable__control:checked~label.sk-toggleable__label {background-color: #d4ebff;}#sk-container-id-1 input.sk-hidden--visually {border: 0;clip: rect(1px 1px 1px 1px);clip: rect(1px, 1px, 1px, 1px);height: 1px;margin: -1px;overflow: hidden;padding: 0;position: absolute;width: 1px;}#sk-container-id-1 div.sk-estimator {font-family: monospace;background-color: #f0f8ff;border: 1px dotted black;border-radius: 0.25em;box-sizing: border-box;margin-bottom: 0.5em;}#sk-container-id-1 div.sk-estimator:hover {background-color: #d4ebff;}#sk-container-id-1 div.sk-parallel-item::after {content: \"\";width: 100%;border-bottom: 1px solid gray;flex-grow: 1;}#sk-container-id-1 div.sk-label:hover label.sk-toggleable__label {background-color: #d4ebff;}#sk-container-id-1 div.sk-serial::before {content: \"\";position: absolute;border-left: 1px solid gray;box-sizing: border-box;top: 0;bottom: 0;left: 50%;z-index: 0;}#sk-container-id-1 div.sk-serial {display: flex;flex-direction: column;align-items: center;background-color: white;padding-right: 0.2em;padding-left: 0.2em;position: relative;}#sk-container-id-1 div.sk-item {position: relative;z-index: 1;}#sk-container-id-1 div.sk-parallel {display: flex;align-items: stretch;justify-content: center;background-color: white;position: relative;}#sk-container-id-1 div.sk-item::before, #sk-container-id-1 div.sk-parallel-item::before {content: \"\";position: absolute;border-left: 1px solid gray;box-sizing: border-box;top: 0;bottom: 0;left: 50%;z-index: -1;}#sk-container-id-1 div.sk-parallel-item {display: flex;flex-direction: column;z-index: 1;position: relative;background-color: white;}#sk-container-id-1 div.sk-parallel-item:first-child::after {align-self: flex-end;width: 50%;}#sk-container-id-1 div.sk-parallel-item:last-child::after {align-self: flex-start;width: 50%;}#sk-container-id-1 div.sk-parallel-item:only-child::after {width: 0;}#sk-container-id-1 div.sk-dashed-wrapped {border: 1px dashed gray;margin: 0 0.4em 0.5em 0.4em;box-sizing: border-box;padding-bottom: 0.4em;background-color: white;}#sk-container-id-1 div.sk-label label {font-family: monospace;font-weight: bold;display: inline-block;line-height: 1.2em;}#sk-container-id-1 div.sk-label-container {text-align: center;}#sk-container-id-1 div.sk-container {/* jupyter's `normalize.less` sets `[hidden] { display: none; }` but bootstrap.min.css set `[hidden] { display: none !important; }` so we also need the `!important` here to be able to override the default hidden behavior on the sphinx rendered scikit-learn.org. See: https://github.com/scikit-learn/scikit-learn/issues/21755 */display: inline-block !important;position: relative;}#sk-container-id-1 div.sk-text-repr-fallback {display: none;}</style><div id=\"sk-container-id-1\" class=\"sk-top-container\"><div class=\"sk-text-repr-fallback\"><pre>CoxNet(lambda_values=array([1.00000000e+00, 9.11162756e-01, 8.30217568e-01, 7.56463328e-01,\n",
       "       6.89261210e-01, 6.28029144e-01, 5.72236766e-01, 5.21400829e-01,\n",
       "       4.75081016e-01, 4.32876128e-01, 3.94420606e-01, 3.59381366e-01,\n",
       "       3.27454916e-01, 2.98364724e-01, 2.71858824e-01, 2.47707636e-01,\n",
       "       2.25701972e-01, 2.05651231e-01, 1.87381742e-01, 1.70735265e-01,\n",
       "       1.55567614e-01, 1.41747416e-01, 1.29154967e-01, 1.17681195e-01,\n",
       "       1.07226722e-01, 9.77009957e-02, 8.90215085e-02, 8.11130831e-02,\n",
       "       7.39072203e-02, 6.73415066e-02, 6.13590727e-02, 5.59081018e-02,\n",
       "       5.09413801e-02, 4.64158883e-02, 4.22924287e-02, 3.85352859e-02,\n",
       "       3.51119173e-02, 3.19926714e-02, 2.91505306e-02, 2.65608778e-02,\n",
       "       2.42012826e-02, 2.20513074e-02, 2.00923300e-02, 1.83073828e-02,\n",
       "       1.66810054e-02, 1.51991108e-02, 1.38488637e-02, 1.26185688e-02,\n",
       "       1.14975700e-02, 1.04761575e-02, 9.54548457e-03, 8.69749003e-03,\n",
       "       7.92482898e-03, 7.22080902e-03, 6.57933225e-03, 5.99484250e-03,\n",
       "       5.46227722e-03, 4.97702356e-03, 4.53487851e-03, 4.13201240e-03,\n",
       "       3.76493581e-03, 3.43046929e-03, 3.12571585e-03, 2.84803587e-03,\n",
       "       2.59502421e-03, 2.36448941e-03, 2.15443469e-03, 1.96304065e-03,\n",
       "       1.78864953e-03, 1.62975083e-03, 1.48496826e-03, 1.35304777e-03,\n",
       "       1.23284674e-03, 1.12332403e-03, 1.02353102e-03, 9.32603347e-04,\n",
       "       8.49753436e-04, 7.74263683e-04, 7.05480231e-04, 6.42807312e-04,\n",
       "       5.85702082e-04, 5.33669923e-04, 4.86260158e-04, 4.43062146e-04,\n",
       "       4.03701726e-04, 3.67837977e-04, 3.35160265e-04, 3.05385551e-04,\n",
       "       2.78255940e-04, 2.53536449e-04, 2.31012970e-04, 2.10490414e-04,\n",
       "       1.91791026e-04, 1.74752840e-04, 1.59228279e-04, 1.45082878e-04,\n",
       "       1.32194115e-04, 1.20450354e-04, 1.09749877e-04, 1.00000000e-04]), lambda_fractional=True, alpha=1.0, lower_limits=-inf, upper_limits=inf, penalty_factor=None, fit_intercept=False, standardize=True, family=CoxFamily(tie_breaking=&#x27;efron&#x27;, event_col=&#x27;event&#x27;, status_col=&#x27;status&#x27;, start_col=&#x27;start&#x27;), control=GLMNetControl(thresh=1e-07, maxit=100000, big=9.9e+35, logging=False, mxitnr=25, epsnr=1e-06, fdev=1e-05), regularized_estimator=&lt;class &#x27;glmnet.cox.RegCoxLM&#x27;&gt;)</pre><b>In a Jupyter environment, please rerun this cell to show the HTML representation or trust the notebook. <br />On GitHub, the HTML representation is unable to render, please try loading this page with nbviewer.org.</b></div><div class=\"sk-container\" hidden><div class=\"sk-item\"><div class=\"sk-estimator sk-toggleable\"><input class=\"sk-toggleable__control sk-hidden--visually\" id=\"sk-estimator-id-1\" type=\"checkbox\" checked><label for=\"sk-estimator-id-1\" class=\"sk-toggleable__label sk-toggleable__label-arrow\">CoxNet</label><div class=\"sk-toggleable__content\"><pre>CoxNet(lambda_values=array([1.00000000e+00, 9.11162756e-01, 8.30217568e-01, 7.56463328e-01,\n",
       "       6.89261210e-01, 6.28029144e-01, 5.72236766e-01, 5.21400829e-01,\n",
       "       4.75081016e-01, 4.32876128e-01, 3.94420606e-01, 3.59381366e-01,\n",
       "       3.27454916e-01, 2.98364724e-01, 2.71858824e-01, 2.47707636e-01,\n",
       "       2.25701972e-01, 2.05651231e-01, 1.87381742e-01, 1.70735265e-01,\n",
       "       1.55567614e-01, 1.41747416e-01, 1.29154967e-01, 1.17681195e-01,\n",
       "       1.07226722e-01, 9.77009957e-02, 8.90215085e-02, 8.11130831e-02,\n",
       "       7.39072203e-02, 6.73415066e-02, 6.13590727e-02, 5.59081018e-02,\n",
       "       5.09413801e-02, 4.64158883e-02, 4.22924287e-02, 3.85352859e-02,\n",
       "       3.51119173e-02, 3.19926714e-02, 2.91505306e-02, 2.65608778e-02,\n",
       "       2.42012826e-02, 2.20513074e-02, 2.00923300e-02, 1.83073828e-02,\n",
       "       1.66810054e-02, 1.51991108e-02, 1.38488637e-02, 1.26185688e-02,\n",
       "       1.14975700e-02, 1.04761575e-02, 9.54548457e-03, 8.69749003e-03,\n",
       "       7.92482898e-03, 7.22080902e-03, 6.57933225e-03, 5.99484250e-03,\n",
       "       5.46227722e-03, 4.97702356e-03, 4.53487851e-03, 4.13201240e-03,\n",
       "       3.76493581e-03, 3.43046929e-03, 3.12571585e-03, 2.84803587e-03,\n",
       "       2.59502421e-03, 2.36448941e-03, 2.15443469e-03, 1.96304065e-03,\n",
       "       1.78864953e-03, 1.62975083e-03, 1.48496826e-03, 1.35304777e-03,\n",
       "       1.23284674e-03, 1.12332403e-03, 1.02353102e-03, 9.32603347e-04,\n",
       "       8.49753436e-04, 7.74263683e-04, 7.05480231e-04, 6.42807312e-04,\n",
       "       5.85702082e-04, 5.33669923e-04, 4.86260158e-04, 4.43062146e-04,\n",
       "       4.03701726e-04, 3.67837977e-04, 3.35160265e-04, 3.05385551e-04,\n",
       "       2.78255940e-04, 2.53536449e-04, 2.31012970e-04, 2.10490414e-04,\n",
       "       1.91791026e-04, 1.74752840e-04, 1.59228279e-04, 1.45082878e-04,\n",
       "       1.32194115e-04, 1.20450354e-04, 1.09749877e-04, 1.00000000e-04]), lambda_fractional=True, alpha=1.0, lower_limits=-inf, upper_limits=inf, penalty_factor=None, fit_intercept=False, standardize=True, family=CoxFamily(tie_breaking=&#x27;efron&#x27;, event_col=&#x27;event&#x27;, status_col=&#x27;status&#x27;, start_col=&#x27;start&#x27;), control=GLMNetControl(thresh=1e-07, maxit=100000, big=9.9e+35, logging=False, mxitnr=25, epsnr=1e-06, fdev=1e-05), regularized_estimator=&lt;class &#x27;glmnet.cox.RegCoxLM&#x27;&gt;)</pre></div></div></div></div></div>"
      ],
      "text/plain": [
       "CoxNet(lambda_values=array([1.00000000e+00, 9.11162756e-01, 8.30217568e-01, 7.56463328e-01,\n",
       "       6.89261210e-01, 6.28029144e-01, 5.72236766e-01, 5.21400829e-01,\n",
       "       4.75081016e-01, 4.32876128e-01, 3.94420606e-01, 3.59381366e-01,\n",
       "       3.27454916e-01, 2.98364724e-01, 2.71858824e-01, 2.47707636e-01,\n",
       "       2.25701972e-01, 2.05651231e-01, 1.87381742e-01, 1.70735265e-01,\n",
       "       1.55567614e-01, 1.41747416e-01, 1.29154967e-01, 1.17681195e-01,\n",
       "       1.07226722e-01, 9.77009957e-02, 8.90215085e-02, 8.11130831e-02,\n",
       "       7.39072203e-02, 6.73415066e-02, 6.13590727e-02, 5.59081018e-02,\n",
       "       5.09413801e-02, 4.64158883e-02, 4.22924287e-02, 3.85352859e-02,\n",
       "       3.51119173e-02, 3.19926714e-02, 2.91505306e-02, 2.65608778e-02,\n",
       "       2.42012826e-02, 2.20513074e-02, 2.00923300e-02, 1.83073828e-02,\n",
       "       1.66810054e-02, 1.51991108e-02, 1.38488637e-02, 1.26185688e-02,\n",
       "       1.14975700e-02, 1.04761575e-02, 9.54548457e-03, 8.69749003e-03,\n",
       "       7.92482898e-03, 7.22080902e-03, 6.57933225e-03, 5.99484250e-03,\n",
       "       5.46227722e-03, 4.97702356e-03, 4.53487851e-03, 4.13201240e-03,\n",
       "       3.76493581e-03, 3.43046929e-03, 3.12571585e-03, 2.84803587e-03,\n",
       "       2.59502421e-03, 2.36448941e-03, 2.15443469e-03, 1.96304065e-03,\n",
       "       1.78864953e-03, 1.62975083e-03, 1.48496826e-03, 1.35304777e-03,\n",
       "       1.23284674e-03, 1.12332403e-03, 1.02353102e-03, 9.32603347e-04,\n",
       "       8.49753436e-04, 7.74263683e-04, 7.05480231e-04, 6.42807312e-04,\n",
       "       5.85702082e-04, 5.33669923e-04, 4.86260158e-04, 4.43062146e-04,\n",
       "       4.03701726e-04, 3.67837977e-04, 3.35160265e-04, 3.05385551e-04,\n",
       "       2.78255940e-04, 2.53536449e-04, 2.31012970e-04, 2.10490414e-04,\n",
       "       1.91791026e-04, 1.74752840e-04, 1.59228279e-04, 1.45082878e-04,\n",
       "       1.32194115e-04, 1.20450354e-04, 1.09749877e-04, 1.00000000e-04]), lambda_fractional=True, alpha=1.0, lower_limits=-inf, upper_limits=inf, penalty_factor=None, fit_intercept=False, standardize=True, family=CoxFamily(tie_breaking='efron', event_col='event', status_col='status', start_col='start'), control=GLMNetControl(thresh=1e-07, maxit=100000, big=9.9e+35, logging=False, mxitnr=25, epsnr=1e-06, fdev=1e-05), regularized_estimator=<class 'glmnet.cox.RegCoxLM'>)"
      ]
     },
     "execution_count": 8,
     "metadata": {},
     "output_type": "execute_result"
    }
   ],
   "source": [
    "G3 = CoxNet(family=cox_fam2)\n",
    "G3.fit(X, event_data)"
   ]
  },
  {
   "cell_type": "code",
   "execution_count": 9,
   "id": "ccae6d5b-c6ce-4775-9db3-69275f8b7b0e",
   "metadata": {},
   "outputs": [
    {
     "data": {
      "image/png": "[encoded data removed]",
      "text/plain": [
       "<Figure size 640x480 with 1 Axes>"
      ]
     },
     "metadata": {},
     "output_type": "display_data"
    }
   ],
   "source": [
    "G3.plot_coefficients();"
   ]
  },
  {
   "cell_type": "code",
   "execution_count": 10,
   "id": "2c0c334a-7882-45d1-a4f0-e5ce5da262e4",
   "metadata": {},
   "outputs": [
    {
     "data": {
      "text/plain": [
       "(          Cox Deviance  SD(Cox Deviance)\n",
       " lambda                                  \n",
       " 0.164709      0.597598          0.100790\n",
       " 0.150076      0.599924          0.102339\n",
       " 0.136744      0.601433          0.104273\n",
       " 0.124596      0.602860          0.106202\n",
       " 0.113527      0.604640          0.108257\n",
       " 0.103442      0.606281          0.110741\n",
       " 0.094252      0.606453          0.113205\n",
       " 0.085879      0.606824          0.115403\n",
       " 0.078250      0.607247          0.117260\n",
       " 0.071298      0.606857          0.119103\n",
       " 0.064964      0.607280          0.121171\n",
       " 0.059193      0.607515          0.123307\n",
       " 0.053935      0.608255          0.125379\n",
       " 0.049143      0.609742          0.127290\n",
       " 0.044777      0.611545          0.129150\n",
       " 0.040800      0.614024          0.131359\n",
       " 0.037175      0.616567          0.133586\n",
       " 0.033873      0.619329          0.135944\n",
       " 0.030863      0.622629          0.138416\n",
       " 0.028122      0.625898          0.140769\n",
       " 0.025623      0.628889          0.143026\n",
       " 0.023347      0.631636          0.145184\n",
       " 0.021273      0.634108          0.147231\n",
       " 0.019383      0.636479          0.149134\n",
       " 0.017661      0.638764          0.150857\n",
       " 0.016092      0.640883          0.152437\n",
       " 0.014663      0.642890          0.153908\n",
       " 0.013360      0.644799          0.155260\n",
       " 0.012173      0.646598          0.156470\n",
       " 0.011092      0.648405          0.157592\n",
       " 0.010106      0.650165          0.158618\n",
       " 0.009209      0.651844          0.159560\n",
       " 0.008390      0.653406          0.160429\n",
       " 0.007645      0.654855          0.161229\n",
       " 0.006966      0.656237          0.161956\n",
       " 0.006347      0.657550          0.162611\n",
       " 0.005783      0.658729          0.163213\n",
       " 0.005269      0.659818          0.163766\n",
       " 0.004801      0.660833          0.164281\n",
       " 0.004375      0.661750          0.164752\n",
       " 0.003986      0.662588          0.165184\n",
       " 0.003632      0.663358          0.165579\n",
       " 0.003309      0.664069          0.165944\n",
       " 0.003015      0.664720          0.166276\n",
       " 0.002748      0.665307          0.166585\n",
       " 0.002503      0.665851          0.166864\n",
       " 0.002281      0.666327          0.167115\n",
       " 0.002078      0.666402          0.166989,\n",
       " Cox Deviance    0.164709\n",
       " Name: lambda_best, dtype: float64,\n",
       " Cox Deviance    0.164709\n",
       " Name: lambda_1se, dtype: float64)"
      ]
     },
     "execution_count": 10,
     "metadata": {},
     "output_type": "execute_result"
    }
   ],
   "source": [
    "G3.cross_validation_path(X, event_data)"
   ]
  },
  {
   "cell_type": "code",
   "execution_count": 11,
   "id": "3074708f-9313-4a3d-b98a-f0956b959c01",
   "metadata": {},
   "outputs": [
    {
     "data": {
      "text/plain": [
       "<Axes: xlabel='$-\\\\log(\\\\lambda)$', ylabel='Cox Deviance'>"
      ]
     },
     "execution_count": 11,
     "metadata": {},
     "output_type": "execute_result"
    },
    {
     "data": {
      "image/png": "[encoded data removed]",
      "text/plain": [
       "<Figure size 640x480 with 1 Axes>"
      ]
     },
     "metadata": {},
     "output_type": "display_data"
    }
   ],
   "source": [
    "G3.plot_cross_validation()"
   ]
  },
  {
   "cell_type": "code",
   "execution_count": null,
   "id": "9129284a-a91c-40fc-ada5-d8b51ae83196",
   "metadata": {},
   "outputs": [],
   "source": []
  }
 ],
 "metadata": {
  "kernelspec": {
   "display_name": "Python 3 (ipykernel)",
   "language": "python",
   "name": "python3"
  },
  "language_info": {
   "codemirror_mode": {
    "name": "ipython",
    "version": 3
   },
   "file_extension": ".py",
   "mimetype": "text/x-python",
   "name": "python",
   "nbconvert_exporter": "python",
   "pygments_lexer": "ipython3",
   "version": "3.10.12"
  }
 },
 "nbformat": 4,
 "nbformat_minor": 5
}

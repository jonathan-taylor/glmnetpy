{
 "cells": [
  {
   "cell_type": "code",
   "execution_count": 1,
   "id": "f6339fb8-d9f1-49e8-829d-e42bcd4afbb6",
   "metadata": {},
   "outputs": [],
   "source": [
    "import numpy as np\n",
    "import pandas as pd\n",
    "\n",
    "rng = np.random.default_rng(0)\n",
    "from glmnet.cox import CoxFamily, CoxLM\n",
    "import rpy2\n",
    "%load_ext rpy2.ipython"
   ]
  },
  {
   "cell_type": "code",
   "execution_count": 2,
   "id": "55d6e2e4-7539-43ce-83f1-d22c9fd5a457",
   "metadata": {},
   "outputs": [],
   "source": [
    "n, p = 200, 10\n",
    "event = rng.integers(0, 10, size=n) + rng.standard_exponential(size=n)\n",
    "status = rng.choice([0, 1], size=n)\n",
    "event_data = pd.DataFrame({'event':event,\n",
    "                           'status':status})\n",
    "X = rng.standard_normal((n, p))"
   ]
  },
  {
   "cell_type": "code",
   "execution_count": 3,
   "id": "68386920-bbda-4d9b-a6d1-f11815582672",
   "metadata": {},
   "outputs": [
    {
     "name": "stdout",
     "output_type": "stream",
     "text": [
      "Call:\n",
      "coxph(formula = Y ~ X)\n",
      "\n",
      "        coef exp(coef) se(coef)      z     p\n",
      "X1   0.06344   1.06550  0.10203  0.622 0.534\n",
      "X2  -0.08998   0.91395  0.10526 -0.855 0.393\n",
      "X3   0.04800   1.04917  0.09298  0.516 0.606\n",
      "X4   0.13261   1.14181  0.10410  1.274 0.203\n",
      "X5  -0.04312   0.95780  0.10803 -0.399 0.690\n",
      "X6  -0.07398   0.92869  0.11227 -0.659 0.510\n",
      "X7   0.01283   1.01291  0.09734  0.132 0.895\n",
      "X8  -0.04905   0.95213  0.12254 -0.400 0.689\n",
      "X9   0.01888   1.01906  0.08937  0.211 0.833\n",
      "X10  0.10674   1.11265  0.10712  0.996 0.319\n",
      "\n",
      "Likelihood ratio test=4.39  on 10 df, p=0.9282\n",
      "n= 200, number of events= 102 \n"
     ]
    }
   ],
   "source": [
    "%%R -i event,status,X\n",
    "library(survival)\n",
    "Y = Surv(event, status)\n",
    "M = coxph(Y ~ X)\n",
    "M\n"
   ]
  },
  {
   "cell_type": "code",
   "execution_count": 4,
   "id": "2e87e401-e50a-473e-a1ab-80c0cd5c3f7d",
   "metadata": {},
   "outputs": [],
   "source": [
    "cox_fam = CoxFamily()"
   ]
  },
  {
   "cell_type": "code",
   "execution_count": 5,
   "id": "8e9236c3-0235-46ad-99b6-85989dab0042",
   "metadata": {},
   "outputs": [
    {
     "name": "stdout",
     "output_type": "stream",
     "text": [
      "got it\n",
      "[  5.58796256   1.86271109  27.57261624  -2.55199852 -13.64812678\n",
      "   1.23923511  17.6214929   -9.95519053   1.36650952 -14.97879164] coefnew\n",
      "[  5.58796256   1.86271109  27.57261624  -2.55199852 -13.64812678\n",
      "   1.23923511  17.6214929   -9.95519053   1.36650952 -14.97879164]\n",
      "51.109179414166235 finite\n",
      "[  5.58796256   1.86271109  27.57261624  -2.55199852 -13.64812678\n",
      "   1.23923511  17.6214929   -9.95519053   1.36650952 -14.97879164]\n",
      "51.109179414166235 valid\n",
      "[  5.58796256   1.86271109  27.57261624  -2.55199852 -13.64812678\n",
      "   1.23923511  17.6214929   -9.95519053   1.36650952 -14.97879164]\n",
      "51.109179414166235 2.1998998855173113 decr\n",
      "51.109179414166235 2.1998998855173113 decr\n",
      "25.568258665524787 2.1998998855173113 decr\n",
      "12.8335483997694 2.1998998855173113 decr\n",
      "6.5372164558864805 2.1998998855173113 decr\n",
      "3.6103250214210125 2.1998998855173113 decr\n",
      "2.562195209617542 2.1998998855173113 decr\n",
      "2.2851785159577513 2.1998998855173113 decr\n",
      "2.2185262869505205 2.1998998855173113 decr\n",
      "2.2032376838011283 2.1998998855173113 decr\n",
      "2.200079537008 2.1998998855173113 decr\n",
      "2.199618028667574 2.1998998855173113 decr\n",
      "got it\n",
      "[  5.70568762   2.06625919  24.42107316  -2.18401361 -12.2107086\n",
      "   0.29152431  15.04715223  -8.06263649   1.10464807 -12.97511486] coefnew\n",
      "[  5.70568762   2.06625919  24.42107316  -2.18401361 -12.2107086\n",
      "   0.29152431  15.04715223  -8.06263649   1.10464807 -12.97511486]\n",
      "45.02010650834539 finite\n",
      "[  5.70568762   2.06625919  24.42107316  -2.18401361 -12.2107086\n",
      "   0.29152431  15.04715223  -8.06263649   1.10464807 -12.97511486]\n",
      "45.02010650834539 valid\n",
      "[  5.70568762   2.06625919  24.42107316  -2.18401361 -12.2107086\n",
      "   0.29152431  15.04715223  -8.06263649   1.10464807 -12.97511486]\n",
      "45.02010650834539 2.199618028667574 decr\n",
      "45.02010650834539 2.199618028667574 decr\n",
      "22.54685540941368 2.199618028667574 decr\n",
      "11.346758675609442 2.199618028667574 decr\n",
      "5.835502064511756 2.199618028667574 decr\n",
      "3.3442763818098684 2.199618028667574 decr\n",
      "2.497042714808094 2.199618028667574 decr\n",
      "2.2741316558601117 2.199618028667574 decr\n",
      "2.218347555243391 2.199618028667574 decr\n",
      "2.2043708793702126 2.199618028667574 decr\n",
      "2.2008444571320323 2.199618028667574 decr\n",
      "2.1999441368592283 2.199618028667574 decr\n",
      "2.1997093564265415 2.199618028667574 decr\n",
      "2.199645767290969 2.199618028667574 decr\n",
      "2.199627417459557 2.199618028667574 decr\n",
      "2.1996216030331244 2.199618028667574 decr\n",
      "2.199619535855187 2.199618028667574 decr\n",
      "2.1996187122641464 2.199618028667574 decr\n",
      "2.1996183529667466 2.199618028667574 decr\n",
      "2.1996181864424065 2.199618028667574 decr\n",
      "2.1996181064613047 2.199618028667574 decr\n",
      "3.3828978102889315e-08 1 huh\n"
     ]
    },
    {
     "data": {
      "text/html": [
       "<style>#sk-container-id-1 {color: black;}#sk-container-id-1 pre{padding: 0;}#sk-container-id-1 div.sk-toggleable {background-color: white;}#sk-container-id-1 label.sk-toggleable__label {cursor: pointer;display: block;width: 100%;margin-bottom: 0;padding: 0.3em;box-sizing: border-box;text-align: center;}#sk-container-id-1 label.sk-toggleable__label-arrow:before {content: \"▸\";float: left;margin-right: 0.25em;color: #696969;}#sk-container-id-1 label.sk-toggleable__label-arrow:hover:before {color: black;}#sk-container-id-1 div.sk-estimator:hover label.sk-toggleable__label-arrow:before {color: black;}#sk-container-id-1 div.sk-toggleable__content {max-height: 0;max-width: 0;overflow: hidden;text-align: left;background-color: #f0f8ff;}#sk-container-id-1 div.sk-toggleable__content pre {margin: 0.2em;color: black;border-radius: 0.25em;background-color: #f0f8ff;}#sk-container-id-1 input.sk-toggleable__control:checked~div.sk-toggleable__content {max-height: 200px;max-width: 100%;overflow: auto;}#sk-container-id-1 input.sk-toggleable__control:checked~label.sk-toggleable__label-arrow:before {content: \"▾\";}#sk-container-id-1 div.sk-estimator input.sk-toggleable__control:checked~label.sk-toggleable__label {background-color: #d4ebff;}#sk-container-id-1 div.sk-label input.sk-toggleable__control:checked~label.sk-toggleable__label {background-color: #d4ebff;}#sk-container-id-1 input.sk-hidden--visually {border: 0;clip: rect(1px 1px 1px 1px);clip: rect(1px, 1px, 1px, 1px);height: 1px;margin: -1px;overflow: hidden;padding: 0;position: absolute;width: 1px;}#sk-container-id-1 div.sk-estimator {font-family: monospace;background-color: #f0f8ff;border: 1px dotted black;border-radius: 0.25em;box-sizing: border-box;margin-bottom: 0.5em;}#sk-container-id-1 div.sk-estimator:hover {background-color: #d4ebff;}#sk-container-id-1 div.sk-parallel-item::after {content: \"\";width: 100%;border-bottom: 1px solid gray;flex-grow: 1;}#sk-container-id-1 div.sk-label:hover label.sk-toggleable__label {background-color: #d4ebff;}#sk-container-id-1 div.sk-serial::before {content: \"\";position: absolute;border-left: 1px solid gray;box-sizing: border-box;top: 0;bottom: 0;left: 50%;z-index: 0;}#sk-container-id-1 div.sk-serial {display: flex;flex-direction: column;align-items: center;background-color: white;padding-right: 0.2em;padding-left: 0.2em;position: relative;}#sk-container-id-1 div.sk-item {position: relative;z-index: 1;}#sk-container-id-1 div.sk-parallel {display: flex;align-items: stretch;justify-content: center;background-color: white;position: relative;}#sk-container-id-1 div.sk-item::before, #sk-container-id-1 div.sk-parallel-item::before {content: \"\";position: absolute;border-left: 1px solid gray;box-sizing: border-box;top: 0;bottom: 0;left: 50%;z-index: -1;}#sk-container-id-1 div.sk-parallel-item {display: flex;flex-direction: column;z-index: 1;position: relative;background-color: white;}#sk-container-id-1 div.sk-parallel-item:first-child::after {align-self: flex-end;width: 50%;}#sk-container-id-1 div.sk-parallel-item:last-child::after {align-self: flex-start;width: 50%;}#sk-container-id-1 div.sk-parallel-item:only-child::after {width: 0;}#sk-container-id-1 div.sk-dashed-wrapped {border: 1px dashed gray;margin: 0 0.4em 0.5em 0.4em;box-sizing: border-box;padding-bottom: 0.4em;background-color: white;}#sk-container-id-1 div.sk-label label {font-family: monospace;font-weight: bold;display: inline-block;line-height: 1.2em;}#sk-container-id-1 div.sk-label-container {text-align: center;}#sk-container-id-1 div.sk-container {/* jupyter's `normalize.less` sets `[hidden] { display: none; }` but bootstrap.min.css set `[hidden] { display: none !important; }` so we also need the `!important` here to be able to override the default hidden behavior on the sphinx rendered scikit-learn.org. See: https://github.com/scikit-learn/scikit-learn/issues/21755 */display: inline-block !important;position: relative;}#sk-container-id-1 div.sk-text-repr-fallback {display: none;}</style><div id=\"sk-container-id-1\" class=\"sk-top-container\"><div class=\"sk-text-repr-fallback\"><pre>CoxLM(family=CoxFamily(tie_breaking=&#x27;efron&#x27;, event_col=&#x27;event&#x27;, status_col=&#x27;status&#x27;, start_col=None), fit_intercept=False, control=GLMControl(mxitnr=25, epsnr=1e-06, big=9.9e+35, logging=False), summarize=False)</pre><b>In a Jupyter environment, please rerun this cell to show the HTML representation or trust the notebook. <br />On GitHub, the HTML representation is unable to render, please try loading this page with nbviewer.org.</b></div><div class=\"sk-container\" hidden><div class=\"sk-item\"><div class=\"sk-estimator sk-toggleable\"><input class=\"sk-toggleable__control sk-hidden--visually\" id=\"sk-estimator-id-1\" type=\"checkbox\" checked><label for=\"sk-estimator-id-1\" class=\"sk-toggleable__label sk-toggleable__label-arrow\">CoxLM</label><div class=\"sk-toggleable__content\"><pre>CoxLM(family=CoxFamily(tie_breaking=&#x27;efron&#x27;, event_col=&#x27;event&#x27;, status_col=&#x27;status&#x27;, start_col=None), fit_intercept=False, control=GLMControl(mxitnr=25, epsnr=1e-06, big=9.9e+35, logging=False), summarize=False)</pre></div></div></div></div></div>"
      ],
      "text/plain": [
       "CoxLM(family=CoxFamily(tie_breaking='efron', event_col='event', status_col='status', start_col=None), fit_intercept=False, control=GLMControl(mxitnr=25, epsnr=1e-06, big=9.9e+35, logging=False), summarize=False)"
      ]
     },
     "execution_count": 5,
     "metadata": {},
     "output_type": "execute_result"
    }
   ],
   "source": [
    "G = CoxLM(family=cox_fam)\n",
    "G.fit(X, event_data)"
   ]
  },
  {
   "cell_type": "code",
   "execution_count": 6,
   "id": "15765a3a-f638-4309-9974-2accd13eddf8",
   "metadata": {},
   "outputs": [
    {
     "data": {
      "text/plain": [
       "array([ 0.00546787,  0.00182299,  0.02697291, -0.00249635, -0.01335151,\n",
       "        0.00121074,  0.01723716, -0.00973723,  0.00133659, -0.01465245])"
      ]
     },
     "execution_count": 6,
     "metadata": {},
     "output_type": "execute_result"
    }
   ],
   "source": [
    "G.coef_"
   ]
  },
  {
   "cell_type": "code",
   "execution_count": 7,
   "id": "fc9b0605-70cb-4766-acf2-833de6506862",
   "metadata": {},
   "outputs": [],
   "source": [
    "%%R\n",
    "source('/Users/jtaylo/git-repos/glmnet/R/coxpath.R')\n"
   ]
  }
 ],
 "metadata": {
  "kernelspec": {
   "display_name": "Python 3 (ipykernel)",
   "language": "python",
   "name": "python3"
  },
  "language_info": {
   "codemirror_mode": {
    "name": "ipython",
    "version": 3
   },
   "file_extension": ".py",
   "mimetype": "text/x-python",
   "name": "python",
   "nbconvert_exporter": "python",
   "pygments_lexer": "ipython3",
   "version": "3.10.12"
  }
 },
 "nbformat": 4,
 "nbformat_minor": 5
}
